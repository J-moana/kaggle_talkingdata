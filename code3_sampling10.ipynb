{
 "cells": [
  {
   "cell_type": "code",
   "execution_count": 1,
   "metadata": {},
   "outputs": [
    {
     "name": "stderr",
     "output_type": "stream",
     "text": [
      "Using TensorFlow backend.\n"
     ]
    }
   ],
   "source": [
    "import numpy as np\n",
    "import pandas as pd\n",
    "import matplotlib.pyplot as plt\n",
    "from keras.preprocessing import sequence\n",
    "from keras.models import Sequential, model_from_json\n",
    "from keras.layers import Dense, Dropout\n",
    "from keras import initializers\n",
    "from sklearn.model_selection import train_test_split\n",
    "from keras.layers.normalization import BatchNormalization\n",
    "from keras import optimizers\n",
    "from keras import initializers\n",
    "import gc"
   ]
  },
  {
   "cell_type": "code",
   "execution_count": 2,
   "metadata": {},
   "outputs": [],
   "source": [
    "# function for clearning train data!\n",
    "# + remove IP\n",
    "def clear_data(df, option):\n",
    "    \n",
    "    df['click_time'] = pd.to_datetime(df['click_time'])\n",
    "    df['weekday'] = df['click_time'].dt.dayofweek\n",
    "    df['hour'] = df['click_time'].dt.hour\n",
    "    df = df.drop(columns=['ip','click_time'])\n",
    "    if (option == 'train'):\n",
    "        y = df['is_attributed']\n",
    "        df = df.drop(columns=['is_attributed','attributed_time'], axis=1)\n",
    "        return df, y\n",
    "    elif (option == 'test'):\n",
    "        sub_id = df['click_id']\n",
    "        df = df.drop(columns=['click_id'], axis=1)\n",
    "        return df, sub_id\n",
    "    \n",
    "    "
   ]
  },
  {
   "cell_type": "code",
   "execution_count": 3,
   "metadata": {},
   "outputs": [
    {
     "name": "stdout",
     "output_type": "stream",
     "text": [
      "load 10% training sample + train/val\n",
      "         app  device  os  channel  weekday  hour\n",
      "353813    18       1  18      121        3     7\n",
      "1051361   12       1  12      265        2    10\n",
      "         app  device  os  channel  weekday  hour\n",
      "3430418   15       1  19      386        2     8\n",
      "573372     8       1  10      145        1     1\n",
      "353813     0\n",
      "1051361    0\n",
      "Name: is_attributed, dtype: int64\n",
      "3430418    0\n",
      "573372     0\n",
      "Name: is_attributed, dtype: int64\n"
     ]
    },
    {
     "data": {
      "text/plain": [
       "89"
      ]
     },
     "execution_count": 3,
     "metadata": {},
     "output_type": "execute_result"
    }
   ],
   "source": [
    "print('load 10% training sample + train/val')\n",
    "df = pd.read_csv('train_sampling10.csv')\n",
    "df, y = clear_data(df,'train')\n",
    "x_train, x_val, y_train, y_val = train_test_split(df,y,test_size=0.1)\n",
    "\n",
    "x_train= x_train.drop(columns=['Unnamed: 0'])\n",
    "x_val= x_val.drop(columns=['Unnamed: 0'])\n",
    "\n",
    "print(x_train.head(2))\n",
    "print(x_val.head(2))\n",
    "print(y_train.head(2))\n",
    "print(y_val.head(2))\n",
    "del df, y; gc.collect()"
   ]
  },
  {
   "cell_type": "code",
   "execution_count": 4,
   "metadata": {},
   "outputs": [
    {
     "name": "stdout",
     "output_type": "stream",
     "text": [
      "define NN\n"
     ]
    }
   ],
   "source": [
    "print(\"define NN\")\n",
    "model = Sequential()\n",
    "# give options of Dense, \n",
    "# https://github.com/keras-team/keras/blob/befbdaa076eedb2787ce340b1a5b4accf93d123d/examples/mnist_irnn.py\n",
    "# RNN?? next try!\n",
    "kernel_init=initializers.RandomNormal(mean=0.0, stddev=0.05, seed=None)\n",
    "\n",
    "# structure of NN: 16 - 64\n",
    "model.add(Dense(16,activation='relu',kernel_initializer=kernel_init,\n",
    "                bias_initializer='zeros',input_shape=(x_train.shape[1],)))\n",
    "model.add(BatchNormalization())\n",
    "model.add(Dropout(0.2))\n",
    "\n",
    "model.add(Dense(64,kernel_initializer=kernel_init,\n",
    "                bias_initializer='zeros',activation='relu'))\n",
    "model.add(BatchNormalization())\n",
    "model.add(Dropout(0.5))\n",
    "\n",
    "model.add(Dense(32,kernel_initializer=kernel_init,\n",
    "                bias_initializer='zeros',activation='relu'))\n",
    "model.add(BatchNormalization())\n",
    "model.add(Dropout(0.5))\n",
    "\n",
    "model.add(Dense(16,kernel_initializer=kernel_init,activation='relu'))\n",
    "model.add(BatchNormalization())\n",
    "model.add(Dropout(0.25))\n",
    "\n",
    "model.add(Dense(1,activation='sigmoid'))\n"
   ]
  },
  {
   "cell_type": "code",
   "execution_count": 5,
   "metadata": {},
   "outputs": [
    {
     "name": "stdout",
     "output_type": "stream",
     "text": [
      "_________________________________________________________________\n",
      "Layer (type)                 Output Shape              Param #   \n",
      "=================================================================\n",
      "dense_1 (Dense)              (None, 16)                112       \n",
      "_________________________________________________________________\n",
      "batch_normalization_1 (Batch (None, 16)                64        \n",
      "_________________________________________________________________\n",
      "dropout_1 (Dropout)          (None, 16)                0         \n",
      "_________________________________________________________________\n",
      "dense_2 (Dense)              (None, 64)                1088      \n",
      "_________________________________________________________________\n",
      "batch_normalization_2 (Batch (None, 64)                256       \n",
      "_________________________________________________________________\n",
      "dropout_2 (Dropout)          (None, 64)                0         \n",
      "_________________________________________________________________\n",
      "dense_3 (Dense)              (None, 32)                2080      \n",
      "_________________________________________________________________\n",
      "batch_normalization_3 (Batch (None, 32)                128       \n",
      "_________________________________________________________________\n",
      "dropout_3 (Dropout)          (None, 32)                0         \n",
      "_________________________________________________________________\n",
      "dense_4 (Dense)              (None, 16)                528       \n",
      "_________________________________________________________________\n",
      "batch_normalization_4 (Batch (None, 16)                64        \n",
      "_________________________________________________________________\n",
      "dropout_4 (Dropout)          (None, 16)                0         \n",
      "_________________________________________________________________\n",
      "dense_5 (Dense)              (None, 1)                 17        \n",
      "=================================================================\n",
      "Total params: 4,337\n",
      "Trainable params: 4,081\n",
      "Non-trainable params: 256\n",
      "_________________________________________________________________\n"
     ]
    }
   ],
   "source": [
    "model.summary()"
   ]
  },
  {
   "cell_type": "code",
   "execution_count": 6,
   "metadata": {},
   "outputs": [
    {
     "name": "stdout",
     "output_type": "stream",
     "text": [
      "start training\n",
      "Train on 3701196 samples, validate on 411244 samples\n",
      "Epoch 1/10\n",
      "3701196/3701196 [==============================] - 75s 20us/step - loss: 0.1076 - acc: 0.9239 - val_loss: 0.1845 - val_acc: 0.9474\n",
      "Epoch 2/10\n",
      "3701196/3701196 [==============================] - 74s 20us/step - loss: 0.0862 - acc: 0.9403 - val_loss: 0.1853 - val_acc: 0.9514\n",
      "Epoch 3/10\n",
      "3701196/3701196 [==============================] - 73s 20us/step - loss: 0.0837 - acc: 0.9427 - val_loss: 0.1842 - val_acc: 0.9487\n",
      "Epoch 4/10\n",
      "3701196/3701196 [==============================] - 74s 20us/step - loss: 0.0829 - acc: 0.9433 - val_loss: 0.1853 - val_acc: 0.9456\n",
      "Epoch 5/10\n",
      "3701196/3701196 [==============================] - 75s 20us/step - loss: 0.0825 - acc: 0.9436 - val_loss: 0.1801 - val_acc: 0.9447\n",
      "Epoch 6/10\n",
      "3701196/3701196 [==============================] - 74s 20us/step - loss: 0.0820 - acc: 0.9440 - val_loss: 0.1888 - val_acc: 0.9493\n",
      "Epoch 7/10\n",
      "3701196/3701196 [==============================] - 75s 20us/step - loss: 0.0819 - acc: 0.9439 - val_loss: 0.1831 - val_acc: 0.9482\n",
      "Epoch 8/10\n",
      "3701196/3701196 [==============================] - 74s 20us/step - loss: 0.0815 - acc: 0.9441 - val_loss: 0.1859 - val_acc: 0.9467\n",
      "Epoch 9/10\n",
      "3701196/3701196 [==============================] - 75s 20us/step - loss: 0.0813 - acc: 0.9442 - val_loss: 0.1949 - val_acc: 0.9433\n",
      "Epoch 10/10\n",
      "3701196/3701196 [==============================] - 75s 20us/step - loss: 0.0811 - acc: 0.9443 - val_loss: 0.1858 - val_acc: 0.9518\n"
     ]
    },
    {
     "data": {
      "text/plain": [
       "60"
      ]
     },
     "execution_count": 6,
     "metadata": {},
     "output_type": "execute_result"
    }
   ],
   "source": [
    "gc.collect()\n",
    "print(\"start training\")\n",
    "# control NN's option\n",
    "# batch_size = 256\n",
    "# epoch = 10\n",
    "batch_size = 1024\n",
    "epoch = 10\n",
    "\n",
    "# class_weight = {0:0.1, 1:0.9}\n",
    "class_weight = {0:0.6, 1:0.4}\n",
    "\n",
    "exp_decay = lambda init, fin, steps: (init/fin)**(1/(steps-1)) - 1\n",
    "steps = int(len(list(x_train)[0]) / batch_size) * epoch\n",
    "lr_init, lr_fin = 0.0012, 0.0008 # lr=0.001 default \n",
    "lr_decay = exp_decay(lr_init, lr_fin, steps)\n",
    "optimizer_adam = optimizers.Adam(lr=0.002, decay=lr_decay)\n",
    "\n",
    "######################\n",
    "# compile + training\n",
    "model.compile(loss='binary_crossentropy',optimizer=optimizer_adam,metrics=['accuracy'])\n",
    "model.fit(x_train,y_train,batch_size = batch_size,epochs=epoch,validation_data=(x_val,y_val),class_weight=class_weight)\n",
    "\n",
    "del x_train, y_train; gc.collect()"
   ]
  },
  {
   "cell_type": "code",
   "execution_count": 7,
   "metadata": {},
   "outputs": [
    {
     "name": "stdout",
     "output_type": "stream",
     "text": [
      "[[ 0.01558175]\n",
      " [ 0.02014456]\n",
      " [ 0.01166487]\n",
      " ..., \n",
      " [ 0.01521742]\n",
      " [ 0.01624045]\n",
      " [ 0.02130226]]\n",
      "((411244, 1), (411244,))\n",
      "         app  device  os  channel  weekday  hour\n",
      "3430418   15       1  19      386        2     8\n",
      "573372     8       1  10      145        1     1\n",
      "58480     12       1  16      245        1    12\n",
      "307354    11       1  26      173        2    15\n",
      "2681251   14       1  19      442        1    14\n"
     ]
    },
    {
     "data": {
      "image/png": "[encoded data removed]",
      "text/plain": [
       "<matplotlib.figure.Figure at 0x1a1a73dc90>"
      ]
     },
     "metadata": {},
     "output_type": "display_data"
    }
   ],
   "source": [
    "kk = model.predict(x_val,batch_size=batch_size,verbose=2)\n",
    "print(kk)\n",
    "\n",
    "print(kk.shape,y_val.shape)\n",
    "plt.hist(np.round(kk))\n",
    "plt.hist(y_val)\n",
    "print(x_val.head())\n"
   ]
  },
  {
   "cell_type": "code",
   "execution_count": 8,
   "metadata": {},
   "outputs": [
    {
     "name": "stdout",
     "output_type": "stream",
     "text": [
      "Saved model to disk\n"
     ]
    }
   ],
   "source": [
    "print(\"Saved model to disk\")\n",
    "json_string = model.to_json()\n",
    "with open(\"saved_models/model3.json\", \"w\") as json_file:\n",
    "    json_file.write(json_string)\n",
    "model.save_weights('saved_models/weights3.h5')"
   ]
  },
  {
   "cell_type": "code",
   "execution_count": 9,
   "metadata": {},
   "outputs": [
    {
     "name": "stdout",
     "output_type": "stream",
     "text": [
      "predicting\n",
      "finish read test data\n"
     ]
    }
   ],
   "source": [
    "print(\"predicting\")\n",
    "df_sub = pd.DataFrame()\n",
    "ttest = pd.read_csv('test.csv')\n",
    "print(\"finish read test data\")\n",
    "\n",
    "ttest, idd = clear_data(ttest,'test')\n",
    "df_sub['click_id'] = idd.astype('int32')\n",
    "df_sub['is_attributed'] = model.predict(ttest,batch_size=batch_size,verbose=2)\n",
    "\n"
   ]
  },
  {
   "cell_type": "code",
   "execution_count": 10,
   "metadata": {},
   "outputs": [
    {
     "name": "stdout",
     "output_type": "stream",
     "text": [
      "check result\n",
      "           click_id  is_attributed\n",
      "count  1.879047e+07   1.879047e+07\n",
      "mean   9.395234e+06   4.420818e-02\n",
      "std    5.424341e+06   1.171260e-01\n",
      "min    0.000000e+00   6.868642e-03\n",
      "25%    4.697617e+06   1.620942e-02\n",
      "50%    9.395234e+06   1.713750e-02\n",
      "75%    1.409285e+07   1.890909e-02\n",
      "max    1.879047e+07   8.305729e-01\n"
     ]
    },
    {
     "data": {
      "text/plain": [
       "(array([  1.70522570e+07,   1.03235500e+06,   1.63880000e+04,\n",
       "          9.61370000e+04,   2.65310000e+04,   9.50840000e+04,\n",
       "          6.05900000e+04,   1.59260000e+04,   2.29077000e+05,\n",
       "          1.66124000e+05]),\n",
       " array([ 0.00686864,  0.08923907,  0.17160949,  0.25397992,  0.33635035,\n",
       "         0.41872077,  0.5010912 ,  0.58346162,  0.66583205,  0.74820248,\n",
       "         0.8305729 ]),\n",
       " <a list of 10 Patch objects>)"
      ]
     },
     "execution_count": 10,
     "metadata": {},
     "output_type": "execute_result"
    },
    {
     "data": {
      "image/png": "[encoded data removed]",
      "text/plain": [
       "<matplotlib.figure.Figure at 0x1a1a724ed0>"
      ]
     },
     "metadata": {},
     "output_type": "display_data"
    }
   ],
   "source": [
    "print(\"check result\")\n",
    "print(df_sub.describe())\n",
    "plt.hist(df_sub['is_attributed'])"
   ]
  },
  {
   "cell_type": "code",
   "execution_count": 11,
   "metadata": {},
   "outputs": [
    {
     "name": "stdout",
     "output_type": "stream",
     "text": [
      "save the result\n"
     ]
    }
   ],
   "source": [
    "print(\"save the result\")\n",
    "df_sub.to_csv('sub_result/result_code3_7a337b1_sample10.csv',index=False)\n",
    "\n",
    "\n"
   ]
  },
  {
   "cell_type": "code",
   "execution_count": 12,
   "metadata": {},
   "outputs": [
    {
     "data": {
      "text/plain": [
       "(array([ 18313627.,         0.,         0.,         0.,         0.,\n",
       "                0.,         0.,         0.,         0.,    476842.]),\n",
       " array([ 0. ,  0.1,  0.2,  0.3,  0.4,  0.5,  0.6,  0.7,  0.8,  0.9,  1. ]),\n",
       " <a list of 10 Patch objects>)"
      ]
     },
     "execution_count": 12,
     "metadata": {},
     "output_type": "execute_result"
    },
    {
     "data": {
      "image/png": "[encoded data removed]",
      "text/plain": [
       "<matplotlib.figure.Figure at 0x1a1a7d88d0>"
      ]
     },
     "metadata": {},
     "output_type": "display_data"
    }
   ],
   "source": [
    "plt.hist(np.round(df_sub['is_attributed']))"
   ]
  },
  {
   "cell_type": "code",
   "execution_count": null,
   "metadata": {},
   "outputs": [],
   "source": []
  }
 ],
 "metadata": {
  "kernelspec": {
   "display_name": "Python 2",
   "language": "python",
   "name": "python2"
  },
  "language_info": {
   "codemirror_mode": {
    "name": "ipython",
    "version": 2
   },
   "file_extension": ".py",
   "mimetype": "text/x-python",
   "name": "python",
   "nbconvert_exporter": "python",
   "pygments_lexer": "ipython2",
   "version": "2.7.14"
  }
 },
 "nbformat": 4,
 "nbformat_minor": 2
}
