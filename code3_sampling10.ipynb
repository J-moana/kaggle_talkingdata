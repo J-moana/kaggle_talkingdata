{
 "cells": [
  {
   "cell_type": "code",
   "execution_count": 1,
   "metadata": {},
   "outputs": [
    {
     "name": "stderr",
     "output_type": "stream",
     "text": [
      "Using TensorFlow backend.\n"
     ]
    }
   ],
   "source": [
    "import numpy as np\n",
    "import pandas as pd\n",
    "import matplotlib.pyplot as plt\n",
    "from keras.preprocessing import sequence\n",
    "from keras.models import Sequential, model_from_json\n",
    "from keras.layers import Dense, Dropout\n",
    "from keras import initializers\n",
    "from sklearn.model_selection import train_test_split\n",
    "from keras.layers.normalization import BatchNormalization\n",
    "from keras import optimizers\n",
    "from keras import initializers\n",
    "import gc"
   ]
  },
  {
   "cell_type": "code",
   "execution_count": 2,
   "metadata": {},
   "outputs": [],
   "source": [
    "# function for clearning train data!\n",
    "# + remove IP\n",
    "def clear_data(df, option):\n",
    "    \n",
    "    df['click_time'] = pd.to_datetime(df['click_time'])\n",
    "    df['weekday'] = df['click_time'].dt.dayofweek\n",
    "    df['hour'] = df['click_time'].dt.hour\n",
    "    df = df.drop(columns=['ip','click_time'])\n",
    "    if (option == 'train'):\n",
    "        y = df['is_attributed']\n",
    "        df = df.drop(columns=['is_attributed','attributed_time'], axis=1)\n",
    "        return df, y\n",
    "    elif (option == 'test'):\n",
    "        sub_id = df['click_id']\n",
    "        df = df.drop(columns=['click_id'], axis=1)\n",
    "        return df, sub_id\n",
    "    \n",
    "    "
   ]
  },
  {
   "cell_type": "code",
   "execution_count": 3,
   "metadata": {},
   "outputs": [
    {
     "name": "stdout",
     "output_type": "stream",
     "text": [
      "load 10% training sample + train/val\n",
      "         app  device  os  channel  weekday  hour\n",
      "1297972   19       0  24      213        1    11\n",
      "1831753    3       1   6      280        3     0\n",
      "         app  device  os  channel  weekday  hour\n",
      "471673     3       1  25      280        3     4\n",
      "3191651    2       1  13      469        1     0\n",
      "1297972    1\n",
      "1831753    0\n",
      "Name: is_attributed, dtype: int64\n",
      "471673     0\n",
      "3191651    0\n",
      "Name: is_attributed, dtype: int64\n"
     ]
    },
    {
     "data": {
      "text/plain": [
       "89"
      ]
     },
     "execution_count": 3,
     "metadata": {},
     "output_type": "execute_result"
    }
   ],
   "source": [
    "print('load 10% training sample + train/val')\n",
    "df = pd.read_csv('train_sampling10.csv')\n",
    "df, y = clear_data(df,'train')\n",
    "x_train, x_val, y_train, y_val = train_test_split(df,y,test_size=0.1)\n",
    "\n",
    "x_train= x_train.drop(columns=['Unnamed: 0'])\n",
    "x_val= x_val.drop(columns=['Unnamed: 0'])\n",
    "\n",
    "print(x_train.head(2))\n",
    "print(x_val.head(2))\n",
    "print(y_train.head(2))\n",
    "print(y_val.head(2))\n",
    "del df, y; gc.collect()"
   ]
  },
  {
   "cell_type": "code",
   "execution_count": 4,
   "metadata": {},
   "outputs": [
    {
     "name": "stdout",
     "output_type": "stream",
     "text": [
      "define NN\n"
     ]
    }
   ],
   "source": [
    "print(\"define NN\")\n",
    "model = Sequential()\n",
    "# give options of Dense, \n",
    "# https://github.com/keras-team/keras/blob/befbdaa076eedb2787ce340b1a5b4accf93d123d/examples/mnist_irnn.py\n",
    "# RNN?? next try!\n",
    "kernel_init=initializers.RandomNormal(mean=0.0, stddev=0.05, seed=None)\n",
    "\n",
    "# structure of NN: 16 - 64\n",
    "model.add(Dense(16,activation='relu',kernel_initializer=kernel_init,\n",
    "                bias_initializer='zeros',input_shape=(x_train.shape[1],)))\n",
    "model.add(BatchNormalization())\n",
    "model.add(Dropout(0.2))\n",
    "\n",
    "# model.add(Dense(64,kernel_initializer=kernel_init,\n",
    "#                 bias_initializer='zeros',activation='relu'))\n",
    "# model.add(BatchNormalization())\n",
    "# model.add(Dropout(0.5))\n",
    "\n",
    "\n",
    "model.add(Dense(32,kernel_initializer=kernel_init,\n",
    "                bias_initializer='zeros',activation='relu'))\n",
    "model.add(BatchNormalization())\n",
    "model.add(Dropout(0.5))\n",
    "\n",
    "model.add(Dense(16,kernel_initializer=kernel_init,activation='relu'))\n",
    "model.add(BatchNormalization())\n",
    "model.add(Dropout(0.25))\n",
    "\n",
    "model.add(Dense(1,activation='sigmoid'))\n"
   ]
  },
  {
   "cell_type": "code",
   "execution_count": 5,
   "metadata": {},
   "outputs": [
    {
     "name": "stdout",
     "output_type": "stream",
     "text": [
      "_________________________________________________________________\n",
      "Layer (type)                 Output Shape              Param #   \n",
      "=================================================================\n",
      "dense_1 (Dense)              (None, 16)                112       \n",
      "_________________________________________________________________\n",
      "batch_normalization_1 (Batch (None, 16)                64        \n",
      "_________________________________________________________________\n",
      "dropout_1 (Dropout)          (None, 16)                0         \n",
      "_________________________________________________________________\n",
      "dense_2 (Dense)              (None, 64)                1088      \n",
      "_________________________________________________________________\n",
      "batch_normalization_2 (Batch (None, 64)                256       \n",
      "_________________________________________________________________\n",
      "dropout_2 (Dropout)          (None, 64)                0         \n",
      "_________________________________________________________________\n",
      "dense_3 (Dense)              (None, 128)               8320      \n",
      "_________________________________________________________________\n",
      "batch_normalization_3 (Batch (None, 128)               512       \n",
      "_________________________________________________________________\n",
      "dropout_3 (Dropout)          (None, 128)               0         \n",
      "_________________________________________________________________\n",
      "dense_4 (Dense)              (None, 64)                8256      \n",
      "_________________________________________________________________\n",
      "batch_normalization_4 (Batch (None, 64)                256       \n",
      "_________________________________________________________________\n",
      "dropout_4 (Dropout)          (None, 64)                0         \n",
      "_________________________________________________________________\n",
      "dense_5 (Dense)              (None, 32)                2080      \n",
      "_________________________________________________________________\n",
      "batch_normalization_5 (Batch (None, 32)                128       \n",
      "_________________________________________________________________\n",
      "dropout_5 (Dropout)          (None, 32)                0         \n",
      "_________________________________________________________________\n",
      "dense_6 (Dense)              (None, 16)                528       \n",
      "_________________________________________________________________\n",
      "batch_normalization_6 (Batch (None, 16)                64        \n",
      "_________________________________________________________________\n",
      "dropout_6 (Dropout)          (None, 16)                0         \n",
      "_________________________________________________________________\n",
      "dense_7 (Dense)              (None, 1)                 17        \n",
      "=================================================================\n",
      "Total params: 21,681\n",
      "Trainable params: 21,041\n",
      "Non-trainable params: 640\n",
      "_________________________________________________________________\n"
     ]
    }
   ],
   "source": [
    "model.summary()"
   ]
  },
  {
   "cell_type": "code",
   "execution_count": 6,
   "metadata": {},
   "outputs": [
    {
     "name": "stdout",
     "output_type": "stream",
     "text": [
      "start training\n",
      "Train on 3701196 samples, validate on 411244 samples\n",
      "Epoch 1/10\n",
      "3701196/3701196 [==============================] - 139s 37us/step - loss: 0.1095 - acc: 0.9293 - val_loss: 0.1685 - val_acc: 0.9481\n",
      "Epoch 2/10\n",
      "3701196/3701196 [==============================] - 138s 37us/step - loss: 0.0902 - acc: 0.9433 - val_loss: 0.1752 - val_acc: 0.9497\n",
      "Epoch 3/10\n",
      "3701196/3701196 [==============================] - 138s 37us/step - loss: 0.0868 - acc: 0.9446 - val_loss: 0.1779 - val_acc: 0.9463\n",
      "Epoch 4/10\n",
      "3701196/3701196 [==============================] - 140s 38us/step - loss: 0.0853 - acc: 0.9455 - val_loss: 0.1736 - val_acc: 0.9415\n",
      "Epoch 5/10\n",
      "3701196/3701196 [==============================] - 140s 38us/step - loss: 0.0839 - acc: 0.9467 - val_loss: 0.1757 - val_acc: 0.9471\n",
      "Epoch 6/10\n",
      "3701196/3701196 [==============================] - 143s 39us/step - loss: 0.0831 - acc: 0.9474 - val_loss: 0.1776 - val_acc: 0.9418\n",
      "Epoch 7/10\n",
      "3701196/3701196 [==============================] - 142s 38us/step - loss: 0.0826 - acc: 0.9482 - val_loss: 0.1727 - val_acc: 0.9503\n",
      "Epoch 8/10\n",
      "3701196/3701196 [==============================] - 141s 38us/step - loss: 0.0822 - acc: 0.9486 - val_loss: 0.1775 - val_acc: 0.9434\n",
      "Epoch 9/10\n",
      "3701196/3701196 [==============================] - 142s 38us/step - loss: 0.0815 - acc: 0.9495 - val_loss: 0.1697 - val_acc: 0.9528\n",
      "Epoch 10/10\n",
      "3701196/3701196 [==============================] - 143s 39us/step - loss: 0.0814 - acc: 0.9498 - val_loss: 0.1730 - val_acc: 0.9502\n"
     ]
    },
    {
     "data": {
      "text/plain": [
       "60"
      ]
     },
     "execution_count": 6,
     "metadata": {},
     "output_type": "execute_result"
    }
   ],
   "source": [
    "gc.collect()\n",
    "print(\"start training\")\n",
    "# control NN's option\n",
    "# batch_size = 256\n",
    "# epoch = 10\n",
    "batch_size = 1024\n",
    "epoch = 10\n",
    "\n",
    "# class_weight = {0:0.1, 1:0.9}\n",
    "class_weight = {0:0.5, 1:0.5}\n",
    "\n",
    "exp_decay = lambda init, fin, steps: (init/fin)**(1/(steps-1)) - 1\n",
    "steps = int(len(list(x_train)[0]) / batch_size) * epoch\n",
    "lr_init, lr_fin = 0.0012, 0.0008 # lr=0.001 default \n",
    "lr_decay = exp_decay(lr_init, lr_fin, steps)\n",
    "optimizer_adam = optimizers.Adam(lr=0.002, decay=lr_decay)\n",
    "\n",
    "######################\n",
    "# compile + training\n",
    "model.compile(loss='binary_crossentropy',optimizer=optimizer_adam,metrics=['accuracy'])\n",
    "model.fit(x_train,y_train,batch_size = batch_size,epochs=epoch,validation_data=(x_val,y_val),class_weight=class_weight)\n",
    "\n",
    "del x_train, y_train; gc.collect()"
   ]
  },
  {
   "cell_type": "code",
   "execution_count": 7,
   "metadata": {},
   "outputs": [
    {
     "name": "stdout",
     "output_type": "stream",
     "text": [
      "[[ 0.01709924]\n",
      " [ 0.02042452]\n",
      " [ 0.02111241]\n",
      " ..., \n",
      " [ 0.02818475]\n",
      " [ 0.0401041 ]\n",
      " [ 0.01820984]]\n",
      "((411244, 1), (411244,))\n",
      "         app  device  os  channel  weekday  hour\n",
      "471673     3       1  25      280        3     4\n",
      "3191651    2       1  13      469        1     0\n",
      "2595198   12       1  13      219        2     1\n",
      "2420010   12       1   8      259        1    10\n",
      "2543668    2       1  25      237        3    11\n"
     ]
    },
    {
     "data": {
      "image/png": "[encoded data removed]",
      "text/plain": [
       "<matplotlib.figure.Figure at 0x105006110>"
      ]
     },
     "metadata": {},
     "output_type": "display_data"
    }
   ],
   "source": [
    "kk = model.predict(x_val,batch_size=batch_size,verbose=2)\n",
    "print(kk)\n",
    "\n",
    "print(kk.shape,y_val.shape)\n",
    "plt.hist(np.round(kk))\n",
    "plt.hist(y_val)\n",
    "print(x_val.head())\n"
   ]
  },
  {
   "cell_type": "code",
   "execution_count": 8,
   "metadata": {},
   "outputs": [
    {
     "name": "stdout",
     "output_type": "stream",
     "text": [
      "Saved model to disk\n"
     ]
    }
   ],
   "source": [
    "print(\"Saved model to disk\")\n",
    "json_string = model.to_json()\n",
    "with open(\"saved_models/model3.json\", \"w\") as json_file:\n",
    "    json_file.write(json_string)\n",
    "model.save_weights('saved_models/weights3.h5')"
   ]
  },
  {
   "cell_type": "code",
   "execution_count": 9,
   "metadata": {},
   "outputs": [
    {
     "name": "stdout",
     "output_type": "stream",
     "text": [
      "predicting\n",
      "finish read test data\n"
     ]
    }
   ],
   "source": [
    "print(\"predicting\")\n",
    "df_sub = pd.DataFrame()\n",
    "ttest = pd.read_csv('test.csv')\n",
    "print(\"finish read test data\")\n",
    "\n",
    "ttest, idd = clear_data(ttest,'test')\n",
    "df_sub['click_id'] = idd.astype('int32')\n",
    "df_sub['is_attributed'] = model.predict(ttest,batch_size=batch_size,verbose=2)\n",
    "\n"
   ]
  },
  {
   "cell_type": "code",
   "execution_count": 10,
   "metadata": {},
   "outputs": [
    {
     "name": "stdout",
     "output_type": "stream",
     "text": [
      "check result\n",
      "           click_id  is_attributed\n",
      "count  1.879047e+07   1.879047e+07\n",
      "mean   9.395234e+06   4.166329e-02\n",
      "std    5.424341e+06   1.151304e-01\n",
      "min    0.000000e+00   1.430753e-02\n",
      "25%    4.697617e+06   1.681697e-02\n",
      "50%    9.395234e+06   2.036245e-02\n",
      "75%    1.409285e+07   2.141663e-02\n",
      "max    1.879047e+07   8.982121e-01\n"
     ]
    },
    {
     "data": {
      "text/plain": [
       "(array([  1.82318980e+07,   6.42100000e+03,   1.80750000e+04,\n",
       "          6.89500000e+03,   4.43900000e+03,   4.58540000e+04,\n",
       "          1.98663000e+05,   7.24270000e+04,   2.79700000e+03,\n",
       "          2.03000000e+05]),\n",
       " array([ 0.01430753,  0.10269799,  0.19108845,  0.27947891,  0.36786937,\n",
       "         0.45625983,  0.54465029,  0.63304075,  0.72143121,  0.80982167,\n",
       "         0.89821213]),\n",
       " <a list of 10 Patch objects>)"
      ]
     },
     "execution_count": 10,
     "metadata": {},
     "output_type": "execute_result"
    },
    {
     "data": {
      "image/png": "[encoded data removed]",
      "text/plain": [
       "<matplotlib.figure.Figure at 0x10b452610>"
      ]
     },
     "metadata": {},
     "output_type": "display_data"
    }
   ],
   "source": [
    "print(\"check result\")\n",
    "print(df_sub.describe())\n",
    "plt.hist(df_sub['is_attributed'])"
   ]
  },
  {
   "cell_type": "code",
   "execution_count": 11,
   "metadata": {},
   "outputs": [
    {
     "name": "stdout",
     "output_type": "stream",
     "text": [
      "save the result\n"
     ]
    }
   ],
   "source": [
    "print(\"save the result\")\n",
    "df_sub.to_csv('sub_result/result_code3_1f8e6fd_sample10.csv',index=False)\n",
    "\n",
    "\n"
   ]
  },
  {
   "cell_type": "code",
   "execution_count": 12,
   "metadata": {},
   "outputs": [
    {
     "data": {
      "text/plain": [
       "(array([ 18277085.,         0.,         0.,         0.,         0.,\n",
       "                0.,         0.,         0.,         0.,    513384.]),\n",
       " array([ 0. ,  0.1,  0.2,  0.3,  0.4,  0.5,  0.6,  0.7,  0.8,  0.9,  1. ]),\n",
       " <a list of 10 Patch objects>)"
      ]
     },
     "execution_count": 12,
     "metadata": {},
     "output_type": "execute_result"
    },
    {
     "data": {
      "image/png": "[encoded data removed]",
      "text/plain": [
       "<matplotlib.figure.Figure at 0x1a14a07610>"
      ]
     },
     "metadata": {},
     "output_type": "display_data"
    }
   ],
   "source": [
    "plt.hist(np.round(df_sub['is_attributed']))"
   ]
  },
  {
   "cell_type": "code",
   "execution_count": null,
   "metadata": {},
   "outputs": [],
   "source": []
  }
 ],
 "metadata": {
  "kernelspec": {
   "display_name": "Python 2",
   "language": "python",
   "name": "python2"
  },
  "language_info": {
   "codemirror_mode": {
    "name": "ipython",
    "version": 2
   },
   "file_extension": ".py",
   "mimetype": "text/x-python",
   "name": "python",
   "nbconvert_exporter": "python",
   "pygments_lexer": "ipython2",
   "version": "2.7.14"
  }
 },
 "nbformat": 4,
 "nbformat_minor": 2
}
