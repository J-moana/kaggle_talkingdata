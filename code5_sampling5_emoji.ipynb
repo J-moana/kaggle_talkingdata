{
 "cells": [
  {
   "cell_type": "code",
   "execution_count": 1,
   "metadata": {},
   "outputs": [],
   "source": [
    "import pandas as pd\n",
    "import numpy as np\n",
    "import warnings\n",
    "import matplotlib.pyplot as plt\n",
    "warnings.filterwarnings('ignore')\n",
    "import os\n",
    "os.environ['OMP_NUM_THREADS'] = '4'\n",
    "import gc\n",
    "\n",
    "path = 'input_data/'\n",
    "dtypes = {\n",
    "        'ip'            : 'uint32',\n",
    "        'app'           : 'uint16',\n",
    "        'device'        : 'uint16',\n",
    "        'os'            : 'uint16',\n",
    "        'channel'       : 'uint16',\n",
    "        'is_attributed' : 'uint8',\n",
    "        'click_id'      : 'uint32'\n",
    "        }\n"
   ]
  },
  {
   "cell_type": "code",
   "execution_count": 2,
   "metadata": {},
   "outputs": [
    {
     "name": "stdout",
     "output_type": "stream",
     "text": [
      "load train....\n",
      "load test_sample5....\n",
      "load test....\n",
      "(8620160, 27110549, 45901018)\n",
      "('sample # of val:', 18490389)\n",
      "('sample # of test:', 18790469)\n"
     ]
    }
   ],
   "source": [
    "print('load train....')\n",
    "train_df = pd.read_csv(path+\"train_sampling5.csv\", dtype=dtypes, usecols=['ip','app','device','os', 'channel', 'click_time', 'is_attributed'])\n",
    "len_train = len(train_df)\n",
    "\n",
    "print('load test_sample5....')\n",
    "test5_df = pd.read_csv(path+\"test_sampling5.csv\", dtype=dtypes, usecols=['ip','app','device','os', 'channel', 'click_time', 'is_attributed'])\n",
    "len_test5 = len(test5_df)\n",
    "train_df=train_df.append(test5_df)\n",
    "len_test5 = len(train_df)\n",
    "del test5_df; gc.collect()\n",
    "\n",
    "print('load test....')\n",
    "test_df = pd.read_csv(path+\"kaggle_test.csv\", dtype=dtypes, usecols=['ip','app','device','os', 'channel', 'click_time', 'click_id'])\n",
    "train_df=train_df.append(test_df)\n",
    "del test_df; gc.collect()\n",
    "\n",
    "print(len_train, len_test5,len(train_df))\n",
    "print(\"sample # of val:\", len_test5-len_train)\n",
    "print(\"sample # of test:\",len(train_df)-len_test5)"
   ]
  },
  {
   "cell_type": "code",
   "execution_count": 3,
   "metadata": {},
   "outputs": [
    {
     "name": "stdout",
     "output_type": "stream",
     "text": [
      "hour, day, wday....\n",
      "grouping by ip-day-hour combination....\n",
      "group by ip-app combination....\n",
      "group by ip-app-os combination....\n",
      "vars and data type....\n",
      "label encoding....\n",
      "final part of preparation....\n",
      "('check-out:', 8620160, 18490389)\n",
      "PRINT DATA\n",
      "   app  channel  device  os  hour  day  wday   qty  ip_app_count  \\\n",
      "0   12      245       1  27     0    9     3    13           124   \n",
      "1    2      477       1  15    12    7     1    14            76   \n",
      "2    2      477       2   4    16    7     1    99          1007   \n",
      "3   26      121       1   1     6    7     1     9             6   \n",
      "4    3      153       1  11    16    8     2  2664         37493   \n",
      "\n",
      "   ip_app_os_count  \n",
      "0               22  \n",
      "1                6  \n",
      "2                9  \n",
      "3                1  \n",
      "4              285  \n"
     ]
    }
   ],
   "source": [
    "print('hour, day, wday....')\n",
    "train_df['hour'] = pd.to_datetime(train_df.click_time).dt.hour.astype('uint8')\n",
    "train_df['day'] = pd.to_datetime(train_df.click_time).dt.day.astype('uint8')\n",
    "train_df['wday']  = pd.to_datetime(train_df.click_time).dt.dayofweek.astype('uint8')\n",
    "print('grouping by ip-day-hour combination....')\n",
    "gp = train_df[['ip','day','hour','channel']].groupby(by=['ip','day','hour'])[['channel']].count().reset_index().rename(index=str, columns={'channel': 'qty'})\n",
    "train_df = train_df.merge(gp, on=['ip','day','hour'], how='left')\n",
    "del gp; gc.collect()\n",
    "print('group by ip-app combination....')\n",
    "gp = train_df[['ip','app', 'channel']].groupby(by=['ip', 'app'])[['channel']].count().reset_index().rename(index=str, columns={'channel': 'ip_app_count'})\n",
    "train_df = train_df.merge(gp, on=['ip','app'], how='left')\n",
    "del gp; gc.collect()\n",
    "print('group by ip-app-os combination....')\n",
    "gp = train_df[['ip','app', 'os', 'channel']].groupby(by=['ip', 'app', 'os'])[['channel']].count().reset_index().rename(index=str, columns={'channel': 'ip_app_os_count'})\n",
    "train_df = train_df.merge(gp, on=['ip','app', 'os'], how='left')\n",
    "del gp; gc.collect()\n",
    "print(\"vars and data type....\")\n",
    "train_df['qty'] = train_df['qty'].astype('uint16')\n",
    "train_df['ip_app_count'] = train_df['ip_app_count'].astype('uint16')\n",
    "train_df['ip_app_os_count'] = train_df['ip_app_os_count'].astype('uint16')\n",
    "print(\"label encoding....\")\n",
    "from sklearn.preprocessing import LabelEncoder\n",
    "train_df[['app','device','os', 'channel', 'hour', 'day', 'wday']].apply(LabelEncoder().fit_transform)\n",
    "print ('final part of preparation....')\n",
    "\n",
    "test_df = train_df[len_test5:]\n",
    "val_df = train_df[len_train:len_test5]\n",
    "train_df = train_df[:len_train]\n",
    "y_train = train_df['is_attributed'].values\n",
    "y_val = val_df['is_attributed'].values\n",
    "train_df.drop(['click_id', 'click_time','ip','is_attributed'],1,inplace=True)\n",
    "val_df.drop(['click_id', 'click_time','ip','is_attributed'],1,inplace=True)\n",
    "\n",
    "\n",
    "print(\"check-out:\", len(y_train),len(y_val))\n",
    "print(\"PRINT DATA\")\n",
    "print(train_df.head())"
   ]
  },
  {
   "cell_type": "code",
   "execution_count": 4,
   "metadata": {},
   "outputs": [
    {
     "name": "stdout",
     "output_type": "stream",
     "text": [
      "neural network....\n"
     ]
    },
    {
     "name": "stderr",
     "output_type": "stream",
     "text": [
      "Using TensorFlow backend.\n"
     ]
    }
   ],
   "source": [
    "print ('neural network....')\n",
    "from keras.layers import Input, Embedding, Dense, Flatten, Dropout, concatenate\n",
    "from keras.layers import BatchNormalization, SpatialDropout1D, Conv1D\n",
    "from keras.callbacks import Callback\n",
    "from keras.models import Model\n",
    "from keras.optimizers import Adam\n",
    "from sklearn import metrics\n"
   ]
  },
  {
   "cell_type": "code",
   "execution_count": 5,
   "metadata": {},
   "outputs": [],
   "source": [
    "max_app = np.max([train_df['app'].max(),val_df['app'].max(), test_df['app'].max()])+1\n",
    "max_ch = np.max([train_df['channel'].max(),val_df['channel'].max(), test_df['channel'].max()])+1\n",
    "max_dev = np.max([train_df['device'].max(), val_df['device'].max(), test_df['device'].max()])+1\n",
    "max_os = np.max([train_df['os'].max(), val_df['os'].max(), test_df['os'].max()])+1\n",
    "max_h = np.max([train_df['hour'].max(), val_df['hour'].max(), test_df['hour'].max()])+1\n",
    "max_d = np.max([train_df['day'].max(),val_df['day'].max(), test_df['day'].max()])+1\n",
    "max_wd = np.max([train_df['wday'].max(),val_df['wday'].max(), test_df['wday'].max()])+1\n",
    "max_qty = np.max([train_df['qty'].max(),val_df['qty'].max(), test_df['qty'].max()])+1\n",
    "max_c1 = np.max([train_df['ip_app_count'].max(),val_df['ip_app_count'].max(), test_df['ip_app_count'].max()])+1\n",
    "max_c2 = np.max([train_df['ip_app_os_count'].max(),val_df['ip_app_os_count'].max(), test_df['ip_app_os_count'].max()])+1"
   ]
  },
  {
   "cell_type": "code",
   "execution_count": 6,
   "metadata": {},
   "outputs": [],
   "source": [
    "def get_keras_data(dataset):\n",
    "    X = {\n",
    "        'app': np.array(dataset.app),\n",
    "        'ch': np.array(dataset.channel),\n",
    "        'dev': np.array(dataset.device),\n",
    "        'os': np.array(dataset.os),\n",
    "        'h': np.array(dataset.hour),\n",
    "        'd': np.array(dataset.day),\n",
    "        'wd': np.array(dataset.wday),\n",
    "        'qty': np.array(dataset.qty),\n",
    "        'c1': np.array(dataset.ip_app_count),\n",
    "        'c2': np.array(dataset.ip_app_os_count)\n",
    "    }\n",
    "    return X\n",
    "train_df = get_keras_data(train_df)\n",
    "val_df = get_keras_data(val_df)"
   ]
  },
  {
   "cell_type": "code",
   "execution_count": 7,
   "metadata": {},
   "outputs": [],
   "source": [
    "emb_n = 50\n",
    "dense_n = 1000\n",
    "in_app = Input(shape=[1], name = 'app')\n",
    "emb_app = Embedding(max_app, emb_n)(in_app)\n",
    "in_ch = Input(shape=[1], name = 'ch')\n",
    "emb_ch = Embedding(max_ch, emb_n)(in_ch)\n",
    "in_dev = Input(shape=[1], name = 'dev')\n",
    "emb_dev = Embedding(max_dev, emb_n)(in_dev)\n",
    "in_os = Input(shape=[1], name = 'os')\n",
    "emb_os = Embedding(max_os, emb_n)(in_os)\n",
    "in_h = Input(shape=[1], name = 'h')\n",
    "emb_h = Embedding(max_h, emb_n)(in_h) \n",
    "in_d = Input(shape=[1], name = 'd')\n",
    "emb_d = Embedding(max_d, emb_n)(in_d) \n",
    "in_wd = Input(shape=[1], name = 'wd')\n",
    "emb_wd = Embedding(max_wd, emb_n)(in_wd) \n",
    "in_qty = Input(shape=[1], name = 'qty')\n",
    "emb_qty = Embedding(max_qty, emb_n)(in_qty) \n",
    "in_c1 = Input(shape=[1], name = 'c1')\n",
    "emb_c1 = Embedding(max_c1, emb_n)(in_c1) \n",
    "in_c2 = Input(shape=[1], name = 'c2')\n",
    "emb_c2 = Embedding(max_c2, emb_n)(in_c2) \n",
    "fe = concatenate([(emb_app), (emb_ch), (emb_dev), (emb_os), (emb_h), \n",
    "                 (emb_d), (emb_wd), (emb_qty), (emb_c1), (emb_c2)])\n",
    "s_dout = SpatialDropout1D(0.2)(fe)\n",
    "fl1 = Flatten()(s_dout)\n",
    "conv = Conv1D(100, kernel_size=4, strides=1, padding='same')(s_dout)\n",
    "fl2 = Flatten()(conv)\n",
    "concat = concatenate([(fl1), (fl2)])\n",
    "x = Dropout(0.2)(Dense(dense_n,activation='relu')(concat))\n",
    "x = Dropout(0.2)(Dense(dense_n,activation='relu')(x))\n",
    "outp = Dense(1,activation='sigmoid')(x)\n",
    "model = Model(inputs=[in_app,in_ch,in_dev,in_os,in_h,in_d,in_wd,in_qty,in_c1,in_c2], outputs=outp)\n"
   ]
  },
  {
   "cell_type": "code",
   "execution_count": 10,
   "metadata": {},
   "outputs": [
    {
     "name": "stdout",
     "output_type": "stream",
     "text": [
      "__________________________________________________________________________________________________\n",
      "Layer (type)                    Output Shape         Param #     Connected to                     \n",
      "==================================================================================================\n",
      "app (InputLayer)                (None, 1)            0                                            \n",
      "__________________________________________________________________________________________________\n",
      "ch (InputLayer)                 (None, 1)            0                                            \n",
      "__________________________________________________________________________________________________\n",
      "dev (InputLayer)                (None, 1)            0                                            \n",
      "__________________________________________________________________________________________________\n",
      "os (InputLayer)                 (None, 1)            0                                            \n",
      "__________________________________________________________________________________________________\n",
      "h (InputLayer)                  (None, 1)            0                                            \n",
      "__________________________________________________________________________________________________\n",
      "d (InputLayer)                  (None, 1)            0                                            \n",
      "__________________________________________________________________________________________________\n",
      "wd (InputLayer)                 (None, 1)            0                                            \n",
      "__________________________________________________________________________________________________\n",
      "qty (InputLayer)                (None, 1)            0                                            \n",
      "__________________________________________________________________________________________________\n",
      "c1 (InputLayer)                 (None, 1)            0                                            \n",
      "__________________________________________________________________________________________________\n",
      "c2 (InputLayer)                 (None, 1)            0                                            \n",
      "__________________________________________________________________________________________________\n",
      "embedding_1 (Embedding)         (None, 1, 50)        38450       app[0][0]                        \n",
      "__________________________________________________________________________________________________\n",
      "embedding_2 (Embedding)         (None, 1, 50)        24950       ch[0][0]                         \n",
      "__________________________________________________________________________________________________\n",
      "embedding_3 (Embedding)         (None, 1, 50)        211250      dev[0][0]                        \n",
      "__________________________________________________________________________________________________\n",
      "embedding_4 (Embedding)         (None, 1, 50)        47550       os[0][0]                         \n",
      "__________________________________________________________________________________________________\n",
      "embedding_5 (Embedding)         (None, 1, 50)        1200        h[0][0]                          \n",
      "__________________________________________________________________________________________________\n",
      "embedding_6 (Embedding)         (None, 1, 50)        550         d[0][0]                          \n",
      "__________________________________________________________________________________________________\n",
      "embedding_7 (Embedding)         (None, 1, 50)        250         wd[0][0]                         \n",
      "__________________________________________________________________________________________________\n",
      "embedding_8 (Embedding)         (None, 1, 50)        2011600     qty[0][0]                        \n",
      "__________________________________________________________________________________________________\n",
      "embedding_9 (Embedding)         (None, 1, 50)        2400850     c1[0][0]                         \n",
      "__________________________________________________________________________________________________\n",
      "embedding_10 (Embedding)        (None, 1, 50)        546750      c2[0][0]                         \n",
      "__________________________________________________________________________________________________\n",
      "concatenate_1 (Concatenate)     (None, 1, 500)       0           embedding_1[0][0]                \n",
      "                                                                 embedding_2[0][0]                \n",
      "                                                                 embedding_3[0][0]                \n",
      "                                                                 embedding_4[0][0]                \n",
      "                                                                 embedding_5[0][0]                \n",
      "                                                                 embedding_6[0][0]                \n",
      "                                                                 embedding_7[0][0]                \n",
      "                                                                 embedding_8[0][0]                \n",
      "                                                                 embedding_9[0][0]                \n",
      "                                                                 embedding_10[0][0]               \n",
      "__________________________________________________________________________________________________\n",
      "spatial_dropout1d_1 (SpatialDro (None, 1, 500)       0           concatenate_1[0][0]              \n",
      "__________________________________________________________________________________________________\n",
      "conv1d_1 (Conv1D)               (None, 1, 100)       200100      spatial_dropout1d_1[0][0]        \n",
      "__________________________________________________________________________________________________\n",
      "flatten_1 (Flatten)             (None, 500)          0           spatial_dropout1d_1[0][0]        \n",
      "__________________________________________________________________________________________________\n",
      "flatten_2 (Flatten)             (None, 100)          0           conv1d_1[0][0]                   \n",
      "__________________________________________________________________________________________________\n",
      "concatenate_2 (Concatenate)     (None, 600)          0           flatten_1[0][0]                  \n",
      "                                                                 flatten_2[0][0]                  \n",
      "__________________________________________________________________________________________________\n",
      "dense_1 (Dense)                 (None, 1000)         601000      concatenate_2[0][0]              \n",
      "__________________________________________________________________________________________________\n",
      "dropout_1 (Dropout)             (None, 1000)         0           dense_1[0][0]                    \n",
      "__________________________________________________________________________________________________\n",
      "dense_2 (Dense)                 (None, 1000)         1001000     dropout_1[0][0]                  \n",
      "__________________________________________________________________________________________________\n",
      "dropout_2 (Dropout)             (None, 1000)         0           dense_2[0][0]                    \n",
      "__________________________________________________________________________________________________\n",
      "dense_3 (Dense)                 (None, 1)            1001        dropout_2[0][0]                  \n",
      "==================================================================================================\n",
      "Total params: 7,086,501\n",
      "Trainable params: 7,086,501\n",
      "Non-trainable params: 0\n",
      "__________________________________________________________________________________________________\n",
      "Train on 8620160 samples, validate on 18490389 samples\n",
      "Epoch 1/5\n",
      "8620160/8620160 [==============================] - 4586s 532us/step - loss: 0.0556 - acc: 0.9617 - val_loss: 0.0296 - val_acc: 0.9919\n",
      "Epoch 2/5\n",
      "8620160/8620160 [==============================] - 4489s 521us/step - loss: 0.0423 - acc: 0.9753 - val_loss: 0.0307 - val_acc: 0.9925\n",
      "Epoch 3/5\n",
      "8620160/8620160 [==============================] - 4483s 520us/step - loss: 0.0411 - acc: 0.9759 - val_loss: 0.0313 - val_acc: 0.9920\n",
      "Epoch 4/5\n",
      "8620160/8620160 [==============================] - 4488s 521us/step - loss: 0.0403 - acc: 0.9762 - val_loss: 0.0292 - val_acc: 0.9926\n"
     ]
    },
    {
     "name": "stdout",
     "output_type": "stream",
     "text": [
      "Epoch 5/5\n",
      "8620160/8620160 [==============================] - 4485s 520us/step - loss: 0.0396 - acc: 0.9765 - val_loss: 0.0291 - val_acc: 0.9924\n"
     ]
    },
    {
     "data": {
      "text/plain": [
       "25"
      ]
     },
     "execution_count": 10,
     "metadata": {},
     "output_type": "execute_result"
    }
   ],
   "source": [
    "batch_size = 50000 #10240\n",
    "epochs = 5\n",
    "\n",
    "\n",
    "exp_decay = lambda init, fin, steps: (init/fin)**(1/(steps-1)) - 1\n",
    "steps = int(len(list(train_df)[0]) / batch_size) * epochs\n",
    "lr_init, lr_fin = 0.002, 0.0002\n",
    "lr_decay = exp_decay(lr_init, lr_fin, steps)\n",
    "optimizer_adam = Adam(lr=0.002, decay=lr_decay)\n",
    "\n",
    "# def my_auc(y_true, y_pred):\n",
    "#     fpr, tpr, thresholds = metrics.roc_curve(y_true, y_pred)\n",
    "#     roc_auc = metrics.auc(fpr, tpr)\n",
    "#     return roc_auc\n",
    "\n",
    "model.compile(loss='binary_crossentropy',optimizer=optimizer_adam, metrics=['accuracy'])\n",
    "model.summary()\n",
    "\n",
    "class_weight = {0:.5,1:.5} # magic\n",
    "model.fit(train_df, y_train, batch_size=batch_size, validation_data=(val_df,y_val),epochs=epochs, class_weight=class_weight, shuffle=True)\n",
    "\n",
    "del train_df, y_train; gc.collect()\n",
    "\n"
   ]
  },
  {
   "cell_type": "code",
   "execution_count": 11,
   "metadata": {},
   "outputs": [
    {
     "name": "stdout",
     "output_type": "stream",
     "text": [
      "Saved model to disk\n"
     ]
    }
   ],
   "source": [
    "print(\"Saved model to disk\")\n",
    "json_string = model.to_json()\n",
    "with open(\"saved_models/model5.json\", \"w\") as json_file:\n",
    "    json_file.write(json_string)\n",
    "model.save_weights('saved_models/weights5.h5')"
   ]
  },
  {
   "cell_type": "code",
   "execution_count": 12,
   "metadata": {},
   "outputs": [
    {
     "name": "stdout",
     "output_type": "stream",
     "text": [
      "predicting....\n"
     ]
    },
    {
     "data": {
      "text/plain": [
       "14"
      ]
     },
     "execution_count": 12,
     "metadata": {},
     "output_type": "execute_result"
    }
   ],
   "source": [
    "sub = pd.DataFrame()\n",
    "sub['click_id'] = test_df['click_id'].astype('int')\n",
    "test_df.drop(['click_id', 'click_time','ip','is_attributed'],1,inplace=True)\n",
    "test_df = get_keras_data(test_df)\n",
    "\n",
    "print(\"predicting....\")\n",
    "sub['is_attributed'] = model.predict(test_df, batch_size=batch_size)\n",
    "\n",
    "del test_df; gc.collect()\n"
   ]
  },
  {
   "cell_type": "code",
   "execution_count": 13,
   "metadata": {},
   "outputs": [
    {
     "name": "stdout",
     "output_type": "stream",
     "text": [
      "writing....\n"
     ]
    }
   ],
   "source": [
    "print(\"writing....\")\n",
    "sub.to_csv('sub_result/result_code5_sample5_emoji.csv',index=False)\n"
   ]
  },
  {
   "cell_type": "code",
   "execution_count": 14,
   "metadata": {},
   "outputs": [
    {
     "data": {
      "text/plain": [
       "(array([ 17732460.,    525824.,    115121.,     47286.,     29534.,\n",
       "            33472.,     54930.,     99878.,     96761.,     55203.]),\n",
       " array([  1.08833157e-12,   9.99994516e-02,   1.99998903e-01,\n",
       "          2.99998355e-01,   3.99997807e-01,   4.99997258e-01,\n",
       "          5.99996710e-01,   6.99996161e-01,   7.99995613e-01,\n",
       "          8.99995065e-01,   9.99994516e-01]),\n",
       " <a list of 10 Patch objects>)"
      ]
     },
     "execution_count": 14,
     "metadata": {},
     "output_type": "execute_result"
    },
    {
     "data": {
      "image/png": "[encoded data removed]",
      "text/plain": [
       "<matplotlib.figure.Figure at 0x111a1ad10>"
      ]
     },
     "metadata": {},
     "output_type": "display_data"
    }
   ],
   "source": [
    "plt.hist(sub['is_attributed'])"
   ]
  },
  {
   "cell_type": "code",
   "execution_count": null,
   "metadata": {},
   "outputs": [],
   "source": [
    "\n",
    "pred = model.predict(val_df, batch_size=batch_size)\n",
    "fpr, tpr, thresholds = metrics.roc_curve(y_val, pred)\n",
    "roc_auc = metrics.auc(fpr, tpr)\n",
    "\n",
    "plt.title('Receiver Operating Characteristic')\n",
    "plt.plot(fpr, tpr, label='AUC = %0.4f'% roc_auc)\n",
    "plt.legend(loc='lower right')\n",
    "plt.plot([0,1],[0,1],'r--')\n",
    "plt.xlim([-0.001, 1])\n",
    "plt.ylim([0, 1.001])\n",
    "plt.ylabel('True Positive Rate')\n",
    "plt.xlabel('False Positive Rate')\n",
    "plt.show();"
   ]
  },
  {
   "cell_type": "code",
   "execution_count": null,
   "metadata": {},
   "outputs": [],
   "source": []
  }
 ],
 "metadata": {
  "kernelspec": {
   "display_name": "Python 2",
   "language": "python",
   "name": "python2"
  },
  "language_info": {
   "codemirror_mode": {
    "name": "ipython",
    "version": 2
   },
   "file_extension": ".py",
   "mimetype": "text/x-python",
   "name": "python",
   "nbconvert_exporter": "python",
   "pygments_lexer": "ipython2",
   "version": "2.7.14"
  }
 },
 "nbformat": 4,
 "nbformat_minor": 2
}
