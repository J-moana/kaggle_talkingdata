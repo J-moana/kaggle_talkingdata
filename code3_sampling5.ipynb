{
 "cells": [
  {
   "cell_type": "code",
   "execution_count": 1,
   "metadata": {},
   "outputs": [
    {
     "name": "stderr",
     "output_type": "stream",
     "text": [
      "Using TensorFlow backend.\n"
     ]
    }
   ],
   "source": [
    "import numpy as np\n",
    "import pandas as pd\n",
    "import matplotlib.pyplot as plt\n",
    "from keras.preprocessing import sequence\n",
    "from keras.models import Sequential, model_from_json\n",
    "from keras.layers import Dense, Dropout\n",
    "from keras import initializers\n",
    "from sklearn.model_selection import train_test_split\n",
    "from keras.layers.normalization import BatchNormalization\n",
    "from keras import optimizers\n",
    "from keras import initializers\n",
    "import gc"
   ]
  },
  {
   "cell_type": "code",
   "execution_count": 2,
   "metadata": {},
   "outputs": [],
   "source": [
    "# function for clearning train data!\n",
    "# + remove IP\n",
    "def clear_data(df, option):\n",
    "    \n",
    "    df['click_time'] = pd.to_datetime(df['click_time'])\n",
    "    df['weekday'] = df['click_time'].dt.dayofweek\n",
    "    df['hour'] = df['click_time'].dt.hour\n",
    "    df = df.drop(columns=['ip','click_time'])\n",
    "    if (option == 'train'):\n",
    "        y = df['is_attributed']\n",
    "        df = df.drop(columns=['is_attributed','attributed_time'], axis=1)\n",
    "        return df, y\n",
    "    elif (option == 'test'):\n",
    "        sub_id = df['click_id']\n",
    "        df = df.drop(columns=['click_id'], axis=1)\n",
    "        return df, sub_id\n",
    "    \n",
    "    "
   ]
  },
  {
   "cell_type": "code",
   "execution_count": 3,
   "metadata": {},
   "outputs": [
    {
     "name": "stdout",
     "output_type": "stream",
     "text": [
      "load 10% training sample + train/val\n",
      "         app  device  os  channel  weekday  hour\n",
      "8263536   15       1  22      245        2    10\n",
      "5049031    3       1  41      280        1     1\n",
      "         app  device  os  channel  weekday  hour\n",
      "5029867   72       1  19      101        1    16\n",
      "2028224    8       1  13      145        2    20\n",
      "8263536    0\n",
      "5049031    0\n",
      "Name: is_attributed, dtype: int64\n",
      "5029867    1\n",
      "2028224    0\n",
      "Name: is_attributed, dtype: int64\n"
     ]
    },
    {
     "data": {
      "text/plain": [
       "89"
      ]
     },
     "execution_count": 3,
     "metadata": {},
     "output_type": "execute_result"
    }
   ],
   "source": [
    "print('load 10% training sample + train/val')\n",
    "df = pd.read_csv('input_data/train_sampling5.csv')\n",
    "df, y = clear_data(df,'train')\n",
    "x_train, x_val, y_train, y_val = train_test_split(df,y,test_size=0.1)\n",
    "\n",
    "x_train= x_train.drop(columns=['Unnamed: 0'])\n",
    "x_val= x_val.drop(columns=['Unnamed: 0'])\n",
    "\n",
    "print(x_train.head(2))\n",
    "print(x_val.head(2))\n",
    "print(y_train.head(2))\n",
    "print(y_val.head(2))\n",
    "del df, y; gc.collect()"
   ]
  },
  {
   "cell_type": "code",
   "execution_count": 4,
   "metadata": {},
   "outputs": [
    {
     "name": "stdout",
     "output_type": "stream",
     "text": [
      "define NN\n"
     ]
    }
   ],
   "source": [
    "print(\"define NN\")\n",
    "model = Sequential()\n",
    "# give options of Dense, \n",
    "# https://github.com/keras-team/keras/blob/befbdaa076eedb2787ce340b1a5b4accf93d123d/examples/mnist_irnn.py\n",
    "# RNN?? next try!\n",
    "kernel_init=initializers.RandomNormal(mean=0.0, stddev=0.1, seed=None) #stddev=0.05\n",
    "\n",
    "# structure of NN: 16 - 64 - 32 - 16 - sigmoid\n",
    "model.add(Dense(16,activation='relu',kernel_initializer=kernel_init,\n",
    "                bias_initializer='zeros',input_shape=(x_train.shape[1],)))\n",
    "model.add(BatchNormalization())\n",
    "model.add(Dropout(0.2))\n",
    "\n",
    "\n",
    "model.add(Dense(64,kernel_initializer=kernel_init,\n",
    "                bias_initializer='zeros',activation='relu'))\n",
    "model.add(BatchNormalization())\n",
    "model.add(Dropout(0.25))\n",
    "\n",
    "model.add(Dense(32,kernel_initializer=kernel_init,\n",
    "                bias_initializer='zeros',activation='relu'))\n",
    "model.add(BatchNormalization())\n",
    "model.add(Dropout(0.25))\n",
    "\n",
    "model.add(Dense(16,kernel_initializer=kernel_init,activation='relu'))\n",
    "model.add(BatchNormalization())\n",
    "model.add(Dropout(0.25))\n",
    "\n",
    "\n",
    "model.add(Dense(8,kernel_initializer=kernel_init,activation='relu'))\n",
    "model.add(BatchNormalization())\n",
    "model.add(Dropout(0.25))\n",
    "\n",
    "model.add(Dense(1,activation='sigmoid'))\n"
   ]
  },
  {
   "cell_type": "code",
   "execution_count": 5,
   "metadata": {},
   "outputs": [
    {
     "name": "stdout",
     "output_type": "stream",
     "text": [
      "_________________________________________________________________\n",
      "Layer (type)                 Output Shape              Param #   \n",
      "=================================================================\n",
      "dense_1 (Dense)              (None, 16)                112       \n",
      "_________________________________________________________________\n",
      "batch_normalization_1 (Batch (None, 16)                64        \n",
      "_________________________________________________________________\n",
      "dropout_1 (Dropout)          (None, 16)                0         \n",
      "_________________________________________________________________\n",
      "dense_2 (Dense)              (None, 64)                1088      \n",
      "_________________________________________________________________\n",
      "batch_normalization_2 (Batch (None, 64)                256       \n",
      "_________________________________________________________________\n",
      "dropout_2 (Dropout)          (None, 64)                0         \n",
      "_________________________________________________________________\n",
      "dense_3 (Dense)              (None, 32)                2080      \n",
      "_________________________________________________________________\n",
      "batch_normalization_3 (Batch (None, 32)                128       \n",
      "_________________________________________________________________\n",
      "dropout_3 (Dropout)          (None, 32)                0         \n",
      "_________________________________________________________________\n",
      "dense_4 (Dense)              (None, 16)                528       \n",
      "_________________________________________________________________\n",
      "batch_normalization_4 (Batch (None, 16)                64        \n",
      "_________________________________________________________________\n",
      "dropout_4 (Dropout)          (None, 16)                0         \n",
      "_________________________________________________________________\n",
      "dense_5 (Dense)              (None, 8)                 136       \n",
      "_________________________________________________________________\n",
      "batch_normalization_5 (Batch (None, 8)                 32        \n",
      "_________________________________________________________________\n",
      "dropout_5 (Dropout)          (None, 8)                 0         \n",
      "_________________________________________________________________\n",
      "dense_6 (Dense)              (None, 1)                 9         \n",
      "=================================================================\n",
      "Total params: 4,497\n",
      "Trainable params: 4,225\n",
      "Non-trainable params: 272\n",
      "_________________________________________________________________\n"
     ]
    }
   ],
   "source": [
    "model.summary()"
   ]
  },
  {
   "cell_type": "code",
   "execution_count": 6,
   "metadata": {},
   "outputs": [
    {
     "name": "stdout",
     "output_type": "stream",
     "text": [
      "start training\n",
      "Train on 7758144 samples, validate on 862016 samples\n",
      "Epoch 1/10\n",
      "7758144/7758144 [==============================] - 88s 11us/step - loss: 0.1281 - acc: 0.9223 - val_loss: 0.2051 - val_acc: 0.9363\n",
      "Epoch 2/10\n",
      "7758144/7758144 [==============================] - 91s 12us/step - loss: 0.0889 - acc: 0.9460 - val_loss: 0.2061 - val_acc: 0.9391\n",
      "Epoch 3/10\n",
      "7758144/7758144 [==============================] - 87s 11us/step - loss: 0.0841 - acc: 0.9500 - val_loss: 0.2073 - val_acc: 0.9393\n",
      "Epoch 4/10\n",
      "7758144/7758144 [==============================] - 90s 12us/step - loss: 0.0812 - acc: 0.9528 - val_loss: 0.1709 - val_acc: 0.9523\n",
      "Epoch 5/10\n",
      "7758144/7758144 [==============================] - 85s 11us/step - loss: 0.0796 - acc: 0.9542 - val_loss: 0.1889 - val_acc: 0.9399\n",
      "Epoch 6/10\n",
      "7758144/7758144 [==============================] - 92s 12us/step - loss: 0.0782 - acc: 0.9553 - val_loss: 0.1645 - val_acc: 0.9537\n",
      "Epoch 7/10\n",
      "7758144/7758144 [==============================] - 877s 113us/step - loss: 0.0772 - acc: 0.9560 - val_loss: 0.1607 - val_acc: 0.9549\n",
      "Epoch 8/10\n",
      "7758144/7758144 [==============================] - 82s 11us/step - loss: 0.0764 - acc: 0.9563 - val_loss: 0.1619 - val_acc: 0.9553\n",
      "Epoch 9/10\n",
      "7758144/7758144 [==============================] - 74s 10us/step - loss: 0.0757 - acc: 0.9566 - val_loss: 0.1658 - val_acc: 0.9512\n",
      "Epoch 10/10\n",
      "7758144/7758144 [==============================] - 80s 10us/step - loss: 0.0755 - acc: 0.9566 - val_loss: 0.2019 - val_acc: 0.9384\n"
     ]
    },
    {
     "data": {
      "text/plain": [
       "80"
      ]
     },
     "execution_count": 6,
     "metadata": {},
     "output_type": "execute_result"
    }
   ],
   "source": [
    "gc.collect()\n",
    "print(\"start training\")\n",
    "# control NN's option\n",
    "# batch_size = 256\n",
    "# epoch = 10\n",
    "batch_size = 10240\n",
    "epoch = 10\n",
    "\n",
    "# class_weight = {0:0.1, 1:0.9}\n",
    "class_weight = {0:0.5, 1:0.5}\n",
    "# class_weight = {0:0.95, 1:0.05}\n",
    "\n",
    "exp_decay = lambda init, fin, steps: (init/fin)**(1/(steps-1)) - 1\n",
    "steps = int(len(list(x_train)[0]) / batch_size) * epoch\n",
    "lr_init, lr_fin = 0.0012, 0.0008 # lr=0.001 default \n",
    "lr_decay = exp_decay(lr_init, lr_fin, steps)\n",
    "optimizer_adam = optimizers.Adam(lr=0.002, decay=lr_decay)\n",
    "\n",
    "######################\n",
    "# compile + training\n",
    "model.compile(loss='binary_crossentropy',optimizer=optimizer_adam,metrics=['accuracy'])\n",
    "model.fit(x_train,y_train,batch_size = batch_size,epochs=epoch,validation_data=(x_val,y_val),class_weight=class_weight)\n",
    "\n",
    "del x_train, y_train; gc.collect()"
   ]
  },
  {
   "cell_type": "code",
   "execution_count": 7,
   "metadata": {},
   "outputs": [
    {
     "name": "stdout",
     "output_type": "stream",
     "text": [
      "[[ 0.93012041]\n",
      " [ 0.02123397]\n",
      " [ 0.01966977]\n",
      " ..., \n",
      " [ 0.02033523]\n",
      " [ 0.02065548]\n",
      " [ 0.01959733]]\n",
      "((862016, 1), (862016,))\n",
      "         app  device  os  channel  weekday  hour\n",
      "5029867   72       1  19      101        1    16\n",
      "2028224    8       1  13      145        2    20\n",
      "7714922    3       2  11      280        3    15\n",
      "107174     3       1  10      317        2     7\n",
      "7284921    3       1  19      442        0    16\n"
     ]
    },
    {
     "data": {
      "image/png": "[encoded data removed]",
      "text/plain": [
       "<matplotlib.figure.Figure at 0x1a1518ab50>"
      ]
     },
     "metadata": {},
     "output_type": "display_data"
    }
   ],
   "source": [
    "kk = model.predict(x_val,batch_size=batch_size,verbose=2)\n",
    "print(kk)\n",
    "\n",
    "print(kk.shape,y_val.shape)\n",
    "plt.hist(np.round(kk))\n",
    "plt.hist(y_val)\n",
    "print(x_val.head())\n"
   ]
  },
  {
   "cell_type": "code",
   "execution_count": 8,
   "metadata": {},
   "outputs": [
    {
     "name": "stdout",
     "output_type": "stream",
     "text": [
      "Saved model to disk\n"
     ]
    }
   ],
   "source": [
    "print(\"Saved model to disk\")\n",
    "json_string = model.to_json()\n",
    "with open(\"saved_models/model3.json\", \"w\") as json_file:\n",
    "    json_file.write(json_string)\n",
    "model.save_weights('saved_models/weights3.h5')"
   ]
  },
  {
   "cell_type": "code",
   "execution_count": 9,
   "metadata": {},
   "outputs": [
    {
     "name": "stdout",
     "output_type": "stream",
     "text": [
      "predicting_test_sample\n",
      "   Unnamed: 0     ip  app  device  os  channel           click_time  \\\n",
      "0   178450426  63051   26       1  19      266  2017-11-09 14:00:13   \n",
      "1   160852079  49602   26       2  19      266  2017-11-09 08:36:15   \n",
      "2   118079796  25648    2       1   6      477  2017-11-08 14:49:12   \n",
      "3   162379166   2965    8       1  19      140  2017-11-09 09:08:20   \n",
      "4    84248176  20578   18       1  10      134  2017-11-08 04:33:53   \n",
      "\n",
      "  attributed_time  is_attributed  \n",
      "0             NaN              0  \n",
      "1             NaN              0  \n",
      "2             NaN              0  \n",
      "3             NaN              0  \n",
      "4             NaN              0  \n"
     ]
    }
   ],
   "source": [
    "print(\"predicting_test_sample\")\n",
    "dff = pd.read_csv('input_data/test_sampling5.csv')\n",
    "print(dff.head())\n",
    "dff, yy = clear_data(dff,'train')\n",
    "dff = dff.drop(columns=['Unnamed: 0'])\n",
    "output = model.predict(dff,batch_size=batch_size,verbose=2)\n"
   ]
  },
  {
   "cell_type": "code",
   "execution_count": 10,
   "metadata": {},
   "outputs": [
    {
     "name": "stdout",
     "output_type": "stream",
     "text": [
      "[ 0.03002905  0.03003944  0.01955846 ...,  0.01876744  0.02036615\n",
      "  0.01845607]\n",
      "(18490389,)\n"
     ]
    },
    {
     "data": {
      "text/plain": [
       "(array([ 18445120.,         0.,         0.,         0.,         0.,\n",
       "                0.,         0.,         0.,         0.,     45269.]),\n",
       " array([ 0. ,  0.1,  0.2,  0.3,  0.4,  0.5,  0.6,  0.7,  0.8,  0.9,  1. ]),\n",
       " <a list of 10 Patch objects>)"
      ]
     },
     "execution_count": 10,
     "metadata": {},
     "output_type": "execute_result"
    },
    {
     "data": {
      "image/png": "[encoded data removed]",
      "text/plain": [
       "<matplotlib.figure.Figure at 0x10922c090>"
      ]
     },
     "metadata": {},
     "output_type": "display_data"
    }
   ],
   "source": [
    "print(np.reshape(output,18490389))\n",
    "print(yy.shape)\n",
    "# dd = np.array([np.reshape(output,18490389),yy.values])\n",
    "\n",
    "plt.hist(yy)\n",
    "\n"
   ]
  },
  {
   "cell_type": "code",
   "execution_count": 11,
   "metadata": {},
   "outputs": [
    {
     "data": {
      "text/plain": [
       "(array([  1.80737100e+07,   4.46080000e+04,   1.24060000e+04,\n",
       "          4.74870000e+04,   1.49660000e+04,   6.25760000e+04,\n",
       "          2.65860000e+04,   1.04700000e+05,   3.42370000e+04,\n",
       "          6.91130000e+04]),\n",
       " array([  4.18383024e-05,   9.54300843e-02,   1.90818330e-01,\n",
       "          2.86206576e-01,   3.81594822e-01,   4.76983068e-01,\n",
       "          5.72371314e-01,   6.67759560e-01,   7.63147806e-01,\n",
       "          8.58536052e-01,   9.53924298e-01]),\n",
       " <a list of 10 Patch objects>)"
      ]
     },
     "execution_count": 11,
     "metadata": {},
     "output_type": "execute_result"
    },
    {
     "data": {
      "image/png": "[encoded data removed]",
      "text/plain": [
       "<matplotlib.figure.Figure at 0x10a031610>"
      ]
     },
     "metadata": {},
     "output_type": "display_data"
    }
   ],
   "source": [
    "plt.hist(output)"
   ]
  },
  {
   "cell_type": "code",
   "execution_count": 12,
   "metadata": {},
   "outputs": [
    {
     "name": "stdout",
     "output_type": "stream",
     "text": [
      "predicting\n",
      "finish read test data\n"
     ]
    }
   ],
   "source": [
    "print(\"predicting\")\n",
    "df_sub = pd.DataFrame()\n",
    "ttest = pd.read_csv('input_data/kaggle_test.csv')\n",
    "print(\"finish read test data\")\n",
    "\n",
    "ttest, idd = clear_data(ttest,'test')\n",
    "df_sub['click_id'] = idd.astype('int32')\n",
    "df_sub['is_attributed'] = model.predict(ttest,batch_size=batch_size,verbose=2)\n",
    "\n"
   ]
  },
  {
   "cell_type": "code",
   "execution_count": 13,
   "metadata": {},
   "outputs": [
    {
     "name": "stdout",
     "output_type": "stream",
     "text": [
      "check result\n",
      "           click_id  is_attributed\n",
      "count  1.879047e+07   1.879047e+07\n",
      "mean   9.395234e+06   4.452698e-02\n",
      "std    5.424341e+06   1.228998e-01\n",
      "min    0.000000e+00   2.031225e-03\n",
      "25%    4.697617e+06   1.922510e-02\n",
      "50%    9.395234e+06   2.034118e-02\n",
      "75%    1.409285e+07   2.099149e-02\n",
      "max    1.879047e+07   9.525525e-01\n"
     ]
    },
    {
     "data": {
      "text/plain": [
       "(array([ 18062169.,     59398.,     19774.,     62070.,     66129.,\n",
       "            53299.,     58459.,    214927.,    104981.,     89263.]),\n",
       " array([ 0.00203122,  0.09708335,  0.19213548,  0.28718761,  0.38223973,\n",
       "         0.47729186,  0.57234399,  0.66739612,  0.76244824,  0.85750037,\n",
       "         0.9525525 ]),\n",
       " <a list of 10 Patch objects>)"
      ]
     },
     "execution_count": 13,
     "metadata": {},
     "output_type": "execute_result"
    },
    {
     "data": {
      "image/png": "[encoded data removed]",
      "text/plain": [
       "<matplotlib.figure.Figure at 0x1a9d15e4d0>"
      ]
     },
     "metadata": {},
     "output_type": "display_data"
    }
   ],
   "source": [
    "print(\"check result\")\n",
    "print(df_sub.describe())\n",
    "plt.hist(df_sub['is_attributed'])"
   ]
  },
  {
   "cell_type": "code",
   "execution_count": 14,
   "metadata": {},
   "outputs": [
    {
     "name": "stdout",
     "output_type": "stream",
     "text": [
      "save the result\n"
     ]
    }
   ],
   "source": [
    "print(\"save the result\")\n",
    "df_sub.to_csv('sub_result/result_code3_sample5.csv',index=False)\n",
    "\n",
    "\n"
   ]
  },
  {
   "cell_type": "code",
   "execution_count": 15,
   "metadata": {},
   "outputs": [
    {
     "data": {
      "text/plain": [
       "(array([ 18270101.,         0.,         0.,         0.,         0.,\n",
       "                0.,         0.,         0.,         0.,    520368.]),\n",
       " array([ 0. ,  0.1,  0.2,  0.3,  0.4,  0.5,  0.6,  0.7,  0.8,  0.9,  1. ]),\n",
       " <a list of 10 Patch objects>)"
      ]
     },
     "execution_count": 15,
     "metadata": {},
     "output_type": "execute_result"
    },
    {
     "data": {
      "image/png": "[encoded data removed]",
      "text/plain": [
       "<matplotlib.figure.Figure at 0x1a453fa1d0>"
      ]
     },
     "metadata": {},
     "output_type": "display_data"
    }
   ],
   "source": [
    "plt.hist(np.round(df_sub['is_attributed']))"
   ]
  },
  {
   "cell_type": "code",
   "execution_count": null,
   "metadata": {},
   "outputs": [],
   "source": []
  }
 ],
 "metadata": {
  "kernelspec": {
   "display_name": "Python 2",
   "language": "python",
   "name": "python2"
  },
  "language_info": {
   "codemirror_mode": {
    "name": "ipython",
    "version": 2
   },
   "file_extension": ".py",
   "mimetype": "text/x-python",
   "name": "python",
   "nbconvert_exporter": "python",
   "pygments_lexer": "ipython2",
   "version": "2.7.14"
  }
 },
 "nbformat": 4,
 "nbformat_minor": 2
}
