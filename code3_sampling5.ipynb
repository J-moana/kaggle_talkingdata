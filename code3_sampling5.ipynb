{
 "cells": [
  {
   "cell_type": "code",
   "execution_count": 1,
   "metadata": {},
   "outputs": [
    {
     "name": "stderr",
     "output_type": "stream",
     "text": [
      "Using TensorFlow backend.\n"
     ]
    }
   ],
   "source": [
    "import numpy as np\n",
    "import pandas as pd\n",
    "import matplotlib.pyplot as plt\n",
    "from keras.preprocessing import sequence\n",
    "from keras.models import Sequential, model_from_json\n",
    "from keras.layers import Dense, Dropout\n",
    "from keras import initializers\n",
    "from sklearn.model_selection import train_test_split\n",
    "from keras.layers.normalization import BatchNormalization\n",
    "from keras import optimizers\n",
    "from keras import initializers\n",
    "import gc"
   ]
  },
  {
   "cell_type": "code",
   "execution_count": 2,
   "metadata": {},
   "outputs": [],
   "source": [
    "# function for clearning train data!\n",
    "# + remove IP\n",
    "def clear_data(df, option):\n",
    "    \n",
    "    df['click_time'] = pd.to_datetime(df['click_time'])\n",
    "    df['weekday'] = df['click_time'].dt.dayofweek\n",
    "    df['hour'] = df['click_time'].dt.hour\n",
    "    df = df.drop(columns=['ip','click_time'])\n",
    "    if (option == 'train'):\n",
    "        y = df['is_attributed']\n",
    "        df = df.drop(columns=['is_attributed','attributed_time'], axis=1)\n",
    "        return df, y\n",
    "    elif (option == 'test'):\n",
    "        sub_id = df['click_id']\n",
    "        df = df.drop(columns=['click_id'], axis=1)\n",
    "        return df, sub_id\n",
    "    \n",
    "    "
   ]
  },
  {
   "cell_type": "code",
   "execution_count": 3,
   "metadata": {},
   "outputs": [
    {
     "name": "stdout",
     "output_type": "stream",
     "text": [
      "load 10% training sample + train/val\n",
      "         app  device  os  channel  weekday  hour\n",
      "2695782   27       1  28      122        2     0\n",
      "2530519   15       1  19      245        1    14\n",
      "         app  device  os  channel  weekday  hour\n",
      "299618     2       1   6      237        1     4\n",
      "2725317    3       1  19      280        1     5\n",
      "2695782    0\n",
      "2530519    0\n",
      "Name: is_attributed, dtype: int64\n",
      "299618     0\n",
      "2725317    0\n",
      "Name: is_attributed, dtype: int64\n"
     ]
    },
    {
     "data": {
      "text/plain": [
       "89"
      ]
     },
     "execution_count": 3,
     "metadata": {},
     "output_type": "execute_result"
    }
   ],
   "source": [
    "print('load 10% training sample + train/val')\n",
    "df = pd.read_csv('input_data/train_sampling5.csv')\n",
    "df, y = clear_data(df,'train')\n",
    "x_train, x_val, y_train, y_val = train_test_split(df,y,test_size=0.1)\n",
    "\n",
    "x_train= x_train.drop(columns=['Unnamed: 0'])\n",
    "x_val= x_val.drop(columns=['Unnamed: 0'])\n",
    "\n",
    "print(x_train.head(2))\n",
    "print(x_val.head(2))\n",
    "print(y_train.head(2))\n",
    "print(y_val.head(2))\n",
    "del df, y; gc.collect()"
   ]
  },
  {
   "cell_type": "code",
   "execution_count": 4,
   "metadata": {},
   "outputs": [
    {
     "name": "stdout",
     "output_type": "stream",
     "text": [
      "define NN\n"
     ]
    }
   ],
   "source": [
    "print(\"define NN\")\n",
    "model = Sequential()\n",
    "# give options of Dense, \n",
    "# https://github.com/keras-team/keras/blob/befbdaa076eedb2787ce340b1a5b4accf93d123d/examples/mnist_irnn.py\n",
    "# RNN?? next try!\n",
    "kernel_init=initializers.RandomNormal(mean=0.0, stddev=0.1, seed=None) #stddev=0.05\n",
    "\n",
    "# structure of NN: 16 - 64 - 32 - 16 - sigmoid\n",
    "model.add(Dense(16,activation='relu',kernel_initializer=kernel_init,\n",
    "                bias_initializer='zeros',input_shape=(x_train.shape[1],)))\n",
    "model.add(BatchNormalization())\n",
    "model.add(Dropout(0.2))\n",
    "\n",
    "\n",
    "model.add(Dense(64,kernel_initializer=kernel_init,\n",
    "                bias_initializer='zeros',activation='relu'))\n",
    "model.add(BatchNormalization())\n",
    "model.add(Dropout(0.25))\n",
    "\n",
    "model.add(Dense(32,kernel_initializer=kernel_init,\n",
    "                bias_initializer='zeros',activation='relu'))\n",
    "model.add(BatchNormalization())\n",
    "model.add(Dropout(0.25))\n",
    "\n",
    "model.add(Dense(16,kernel_initializer=kernel_init,activation='relu'))\n",
    "model.add(BatchNormalization())\n",
    "model.add(Dropout(0.25))\n",
    "\n",
    "\n",
    "model.add(Dense(8,kernel_initializer=kernel_init,activation='relu'))\n",
    "model.add(BatchNormalization())\n",
    "model.add(Dropout(0.25))\n",
    "\n",
    "model.add(Dense(1,activation='sigmoid'))\n"
   ]
  },
  {
   "cell_type": "code",
   "execution_count": 5,
   "metadata": {},
   "outputs": [
    {
     "name": "stdout",
     "output_type": "stream",
     "text": [
      "_________________________________________________________________\n",
      "Layer (type)                 Output Shape              Param #   \n",
      "=================================================================\n",
      "dense_1 (Dense)              (None, 16)                112       \n",
      "_________________________________________________________________\n",
      "batch_normalization_1 (Batch (None, 16)                64        \n",
      "_________________________________________________________________\n",
      "dropout_1 (Dropout)          (None, 16)                0         \n",
      "_________________________________________________________________\n",
      "dense_2 (Dense)              (None, 64)                1088      \n",
      "_________________________________________________________________\n",
      "batch_normalization_2 (Batch (None, 64)                256       \n",
      "_________________________________________________________________\n",
      "dropout_2 (Dropout)          (None, 64)                0         \n",
      "_________________________________________________________________\n",
      "dense_3 (Dense)              (None, 32)                2080      \n",
      "_________________________________________________________________\n",
      "batch_normalization_3 (Batch (None, 32)                128       \n",
      "_________________________________________________________________\n",
      "dropout_3 (Dropout)          (None, 32)                0         \n",
      "_________________________________________________________________\n",
      "dense_4 (Dense)              (None, 16)                528       \n",
      "_________________________________________________________________\n",
      "batch_normalization_4 (Batch (None, 16)                64        \n",
      "_________________________________________________________________\n",
      "dropout_4 (Dropout)          (None, 16)                0         \n",
      "_________________________________________________________________\n",
      "dense_5 (Dense)              (None, 8)                 136       \n",
      "_________________________________________________________________\n",
      "batch_normalization_5 (Batch (None, 8)                 32        \n",
      "_________________________________________________________________\n",
      "dropout_5 (Dropout)          (None, 8)                 0         \n",
      "_________________________________________________________________\n",
      "dense_6 (Dense)              (None, 1)                 9         \n",
      "=================================================================\n",
      "Total params: 4,497\n",
      "Trainable params: 4,225\n",
      "Non-trainable params: 272\n",
      "_________________________________________________________________\n"
     ]
    }
   ],
   "source": [
    "model.summary()"
   ]
  },
  {
   "cell_type": "code",
   "execution_count": 6,
   "metadata": {},
   "outputs": [
    {
     "name": "stdout",
     "output_type": "stream",
     "text": [
      "start training\n",
      "Train on 7758144 samples, validate on 862016 samples\n",
      "Epoch 1/50\n",
      "7758144/7758144 [==============================] - 94s 12us/step - loss: 0.1287 - acc: 0.9229 - val_loss: 0.1656 - val_acc: 0.9486\n",
      "Epoch 2/50\n",
      "7758144/7758144 [==============================] - 81s 10us/step - loss: 0.0869 - acc: 0.9468 - val_loss: 0.1634 - val_acc: 0.9526\n",
      "Epoch 3/50\n",
      "7758144/7758144 [==============================] - 81s 10us/step - loss: 0.0828 - acc: 0.9505 - val_loss: 0.1657 - val_acc: 0.9494\n",
      "Epoch 4/50\n",
      "7758144/7758144 [==============================] - 82s 11us/step - loss: 0.0804 - acc: 0.9531 - val_loss: 0.1673 - val_acc: 0.9505\n",
      "Epoch 5/50\n",
      "7758144/7758144 [==============================] - 81s 10us/step - loss: 0.0782 - acc: 0.9551 - val_loss: 0.1626 - val_acc: 0.9522\n",
      "Epoch 6/50\n",
      "7758144/7758144 [==============================] - 81s 10us/step - loss: 0.0770 - acc: 0.9562 - val_loss: 0.1642 - val_acc: 0.9507\n",
      "Epoch 7/50\n",
      "7758144/7758144 [==============================] - 82s 11us/step - loss: 0.0759 - acc: 0.9568 - val_loss: 0.1624 - val_acc: 0.9515\n",
      "Epoch 8/50\n",
      "7758144/7758144 [==============================] - 82s 11us/step - loss: 0.0748 - acc: 0.9576 - val_loss: 0.1617 - val_acc: 0.9538\n",
      "Epoch 9/50\n",
      "7758144/7758144 [==============================] - 82s 11us/step - loss: 0.0745 - acc: 0.9578 - val_loss: 0.1672 - val_acc: 0.9509- los\n",
      "Epoch 10/50\n",
      "7758144/7758144 [==============================] - 82s 11us/step - loss: 0.0738 - acc: 0.9582 - val_loss: 0.1623 - val_acc: 0.9523\n",
      "Epoch 11/50\n",
      "7758144/7758144 [==============================] - 84s 11us/step - loss: 0.0733 - acc: 0.9587 - val_loss: 0.1673 - val_acc: 0.9517\n",
      "Epoch 12/50\n",
      "7758144/7758144 [==============================] - 82s 11us/step - loss: 0.0733 - acc: 0.9586 - val_loss: 0.1626 - val_acc: 0.9524\n",
      "Epoch 13/50\n",
      "7758144/7758144 [==============================] - 82s 11us/step - loss: 0.0729 - acc: 0.9589 - val_loss: 0.1629 - val_acc: 0.9546\n",
      "Epoch 14/50\n",
      "7758144/7758144 [==============================] - 82s 11us/step - loss: 0.0728 - acc: 0.9590 - val_loss: 0.1650 - val_acc: 0.9509\n",
      "Epoch 15/50\n",
      "7758144/7758144 [==============================] - 82s 11us/step - loss: 0.0727 - acc: 0.9592 - val_loss: 0.1619 - val_acc: 0.9544\n",
      "Epoch 16/50\n",
      "7758144/7758144 [==============================] - 82s 11us/step - loss: 0.0724 - acc: 0.9595 - val_loss: 0.1696 - val_acc: 0.9486\n",
      "Epoch 17/50\n",
      "7758144/7758144 [==============================] - 82s 11us/step - loss: 0.0719 - acc: 0.9597 - val_loss: 0.1625 - val_acc: 0.9495\n",
      "Epoch 18/50\n",
      "7758144/7758144 [==============================] - 82s 11us/step - loss: 0.0715 - acc: 0.9601 - val_loss: 0.1578 - val_acc: 0.9527\n",
      "Epoch 19/50\n",
      "7758144/7758144 [==============================] - 81s 11us/step - loss: 0.0711 - acc: 0.9604 - val_loss: 0.1579 - val_acc: 0.9527\n",
      "Epoch 20/50\n",
      "7758144/7758144 [==============================] - 81s 11us/step - loss: 0.0708 - acc: 0.9607 - val_loss: 0.1582 - val_acc: 0.9513\n",
      "Epoch 21/50\n",
      "7758144/7758144 [==============================] - 82s 11us/step - loss: 0.0707 - acc: 0.9608 - val_loss: 0.1498 - val_acc: 0.953107 - ac\n",
      "Epoch 22/50\n",
      "7758144/7758144 [==============================] - 82s 11us/step - loss: 0.0705 - acc: 0.9610 - val_loss: 0.1606 - val_acc: 0.9495\n",
      "Epoch 23/50\n",
      "7758144/7758144 [==============================] - 81s 10us/step - loss: 0.0703 - acc: 0.9612 - val_loss: 0.1617 - val_acc: 0.9539\n",
      "Epoch 24/50\n",
      "7758144/7758144 [==============================] - 82s 11us/step - loss: 0.0704 - acc: 0.9610 - val_loss: 0.1616 - val_acc: 0.9523\n",
      "Epoch 25/50\n",
      "7758144/7758144 [==============================] - 82s 11us/step - loss: 0.0703 - acc: 0.9610 - val_loss: 0.1665 - val_acc: 0.9505\n",
      "Epoch 26/50\n",
      "7758144/7758144 [==============================] - 82s 11us/step - loss: 0.0703 - acc: 0.9611 - val_loss: 0.1619 - val_acc: 0.9522\n",
      "Epoch 27/50\n",
      "7758144/7758144 [==============================] - 82s 11us/step - loss: 0.0700 - acc: 0.9613 - val_loss: 0.1610 - val_acc: 0.9513\n",
      "Epoch 28/50\n",
      "7758144/7758144 [==============================] - 90s 12us/step - loss: 0.0701 - acc: 0.9613 - val_loss: 0.1513 - val_acc: 0.9504\n",
      "Epoch 29/50\n",
      "7758144/7758144 [==============================] - 94s 12us/step - loss: 0.0696 - acc: 0.9617 - val_loss: 0.1617 - val_acc: 0.9475\n",
      "Epoch 30/50\n",
      "7758144/7758144 [==============================] - 94s 12us/step - loss: 0.0696 - acc: 0.9618 - val_loss: 0.1603 - val_acc: 0.9510\n",
      "Epoch 31/50\n",
      "7758144/7758144 [==============================] - 95s 12us/step - loss: 0.0694 - acc: 0.9619 - val_loss: 0.1577 - val_acc: 0.9522\n",
      "Epoch 32/50\n",
      "7758144/7758144 [==============================] - 86s 11us/step - loss: 0.0695 - acc: 0.9617 - val_loss: 0.1546 - val_acc: 0.9504\n",
      "Epoch 33/50\n",
      "7758144/7758144 [==============================] - 89s 11us/step - loss: 0.0697 - acc: 0.9614 - val_loss: 0.1606 - val_acc: 0.9517\n",
      "Epoch 34/50\n",
      "7758144/7758144 [==============================] - 96s 12us/step - loss: 0.0693 - acc: 0.9617 - val_loss: 0.1535 - val_acc: 0.9529\n",
      "Epoch 35/50\n",
      "7758144/7758144 [==============================] - 95s 12us/step - loss: 0.0694 - acc: 0.9617 - val_loss: 0.1603 - val_acc: 0.9510\n",
      "Epoch 36/50\n",
      "7758144/7758144 [==============================] - 93s 12us/step - loss: 0.0692 - acc: 0.9618 - val_loss: 0.1462 - val_acc: 0.9530\n",
      "Epoch 37/50\n",
      "7758144/7758144 [==============================] - 88s 11us/step - loss: 0.0694 - acc: 0.9617 - val_loss: 0.1559 - val_acc: 0.9517\n",
      "Epoch 38/50\n",
      "7758144/7758144 [==============================] - 93s 12us/step - loss: 0.0692 - acc: 0.9618 - val_loss: 0.1598 - val_acc: 0.9526\n",
      "Epoch 39/50\n",
      "7758144/7758144 [==============================] - 96s 12us/step - loss: 0.0692 - acc: 0.9618 - val_loss: 0.1569 - val_acc: 0.9524\n",
      "Epoch 40/50\n",
      "7758144/7758144 [==============================] - 94s 12us/step - loss: 0.0691 - acc: 0.9619 - val_loss: 0.1568 - val_acc: 0.9521\n",
      "Epoch 41/50\n",
      "7758144/7758144 [==============================] - 95s 12us/step - loss: 0.0690 - acc: 0.9619 - val_loss: 0.1537 - val_acc: 0.9509\n",
      "Epoch 42/50\n",
      "7758144/7758144 [==============================] - 93s 12us/step - loss: 0.0690 - acc: 0.9619 - val_loss: 0.1556 - val_acc: 0.9524\n",
      "Epoch 43/50\n",
      "7758144/7758144 [==============================] - 92s 12us/step - loss: 0.0689 - acc: 0.9619 - val_loss: 0.1571 - val_acc: 0.9524\n",
      "Epoch 44/50\n",
      "7758144/7758144 [==============================] - 89s 12us/step - loss: 0.0687 - acc: 0.9622 - val_loss: 0.1625 - val_acc: 0.9508\n",
      "Epoch 45/50\n",
      "7758144/7758144 [==============================] - 94s 12us/step - loss: 0.0687 - acc: 0.9622 - val_loss: 0.1583 - val_acc: 0.9522\n",
      "Epoch 46/50\n",
      "7758144/7758144 [==============================] - 87s 11us/step - loss: 0.0687 - acc: 0.9621 - val_loss: 0.1523 - val_acc: 0.9511\n",
      "Epoch 47/50\n",
      "7758144/7758144 [==============================] - 92s 12us/step - loss: 0.0686 - acc: 0.9622 - val_loss: 0.1589 - val_acc: 0.9521\n",
      "Epoch 48/50\n",
      "7758144/7758144 [==============================] - 94s 12us/step - loss: 0.0687 - acc: 0.9620 - val_loss: 0.1544 - val_acc: 0.9528\n",
      "Epoch 49/50\n",
      "7758144/7758144 [==============================] - 93s 12us/step - loss: 0.0686 - acc: 0.9621 - val_loss: 0.1445 - val_acc: 0.9537\n",
      "Epoch 50/50\n",
      "7758144/7758144 [==============================] - 94s 12us/step - loss: 0.0684 - acc: 0.9623 - val_loss: 0.1501 - val_acc: 0.9532\n"
     ]
    },
    {
     "data": {
      "text/plain": [
       "280"
      ]
     },
     "execution_count": 6,
     "metadata": {},
     "output_type": "execute_result"
    }
   ],
   "source": [
    "gc.collect()\n",
    "print(\"start training\")\n",
    "# control NN's option\n",
    "# batch_size = 256\n",
    "# epoch = 10\n",
    "batch_size = 10240\n",
    "epoch = 50  #10\n",
    "\n",
    "# class_weight = {0:0.1, 1:0.9}\n",
    "class_weight = {0:0.5, 1:0.5}\n",
    "# class_weight = {0:0.95, 1:0.05}\n",
    "\n",
    "exp_decay = lambda init, fin, steps: (init/fin)**(1/(steps-1)) - 1\n",
    "steps = int(len(list(x_train)[0]) / batch_size) * epoch\n",
    "lr_init, lr_fin = 0.0012, 0.0008 # lr=0.001 default \n",
    "lr_decay = exp_decay(lr_init, lr_fin, steps)\n",
    "optimizer_adam = optimizers.Adam(lr=0.002, decay=lr_decay)\n",
    "\n",
    "######################\n",
    "# compile + training\n",
    "model.compile(loss='binary_crossentropy',optimizer=optimizer_adam,metrics=['accuracy'])\n",
    "model.fit(x_train,y_train,batch_size = batch_size,epochs=epoch,validation_data=(x_val,y_val),class_weight=class_weight)\n",
    "\n",
    "del x_train, y_train; gc.collect()"
   ]
  },
  {
   "cell_type": "code",
   "execution_count": 7,
   "metadata": {},
   "outputs": [
    {
     "name": "stdout",
     "output_type": "stream",
     "text": [
      "[[ 0.01286091]\n",
      " [ 0.01324801]\n",
      " [ 0.05524103]\n",
      " ..., \n",
      " [ 0.04816313]\n",
      " [ 0.01839699]\n",
      " [ 0.82100928]]\n",
      "((862016, 1), (862016,))\n",
      "         app  device  os  channel  weekday  hour\n",
      "299618     2       1   6      237        1     4\n",
      "2725317    3       1  19      280        1     5\n",
      "3483953    9       1  17      215        3     8\n",
      "5216118   26       1  13      121        1    15\n",
      "2132171    3       1  19      424        2    10\n"
     ]
    },
    {
     "data": {
      "image/png": "[encoded data removed]",
      "text/plain": [
       "<matplotlib.figure.Figure at 0x1a5b176850>"
      ]
     },
     "metadata": {},
     "output_type": "display_data"
    }
   ],
   "source": [
    "kk = model.predict(x_val,batch_size=batch_size,verbose=2)\n",
    "print(kk)\n",
    "\n",
    "print(kk.shape,y_val.shape)\n",
    "plt.hist(np.round(kk))\n",
    "plt.hist(y_val)\n",
    "print(x_val.head())\n"
   ]
  },
  {
   "cell_type": "code",
   "execution_count": 8,
   "metadata": {},
   "outputs": [
    {
     "name": "stdout",
     "output_type": "stream",
     "text": [
      "Saved model to disk\n"
     ]
    }
   ],
   "source": [
    "print(\"Saved model to disk\")\n",
    "json_string = model.to_json()\n",
    "with open(\"saved_models/model3.json\", \"w\") as json_file:\n",
    "    json_file.write(json_string)\n",
    "model.save_weights('saved_models/weights3.h5')"
   ]
  },
  {
   "cell_type": "code",
   "execution_count": 9,
   "metadata": {},
   "outputs": [
    {
     "name": "stdout",
     "output_type": "stream",
     "text": [
      "predicting_test_sample\n",
      "   Unnamed: 0     ip  app  device  os  channel           click_time  \\\n",
      "0   178450426  63051   26       1  19      266  2017-11-09 14:00:13   \n",
      "1   160852079  49602   26       2  19      266  2017-11-09 08:36:15   \n",
      "2   118079796  25648    2       1   6      477  2017-11-08 14:49:12   \n",
      "3   162379166   2965    8       1  19      140  2017-11-09 09:08:20   \n",
      "4    84248176  20578   18       1  10      134  2017-11-08 04:33:53   \n",
      "\n",
      "  attributed_time  is_attributed  \n",
      "0             NaN              0  \n",
      "1             NaN              0  \n",
      "2             NaN              0  \n",
      "3             NaN              0  \n",
      "4             NaN              0  \n"
     ]
    }
   ],
   "source": [
    "print(\"predicting_test_sample\")\n",
    "dff = pd.read_csv('input_data/test_sampling5.csv')\n",
    "print(dff.head())\n",
    "dff, yy = clear_data(dff,'train')\n",
    "dff = dff.drop(columns=['Unnamed: 0'])\n",
    "output = model.predict(dff,batch_size=batch_size,verbose=2)\n"
   ]
  },
  {
   "cell_type": "code",
   "execution_count": 10,
   "metadata": {},
   "outputs": [
    {
     "name": "stdout",
     "output_type": "stream",
     "text": [
      "[ 0.0201964   0.0160743   0.01413531 ...,  0.01440646  0.01013425\n",
      "  0.01250868]\n",
      "(18490389,)\n"
     ]
    },
    {
     "data": {
      "text/plain": [
       "(array([ 18445120.,         0.,         0.,         0.,         0.,\n",
       "                0.,         0.,         0.,         0.,     45269.]),\n",
       " array([ 0. ,  0.1,  0.2,  0.3,  0.4,  0.5,  0.6,  0.7,  0.8,  0.9,  1. ]),\n",
       " <a list of 10 Patch objects>)"
      ]
     },
     "execution_count": 10,
     "metadata": {},
     "output_type": "execute_result"
    },
    {
     "data": {
      "image/png": "[encoded data removed]",
      "text/plain": [
       "<matplotlib.figure.Figure at 0x10a30d310>"
      ]
     },
     "metadata": {},
     "output_type": "display_data"
    }
   ],
   "source": [
    "print(np.reshape(output,18490389))\n",
    "print(yy.shape)\n",
    "# dd = np.array([np.reshape(output,18490389),yy.values])\n",
    "\n",
    "plt.hist(yy)\n",
    "\n"
   ]
  },
  {
   "cell_type": "code",
   "execution_count": 11,
   "metadata": {},
   "outputs": [
    {
     "data": {
      "text/plain": [
       "(array([  1.81090970e+07,   4.58050000e+04,   1.71890000e+04,\n",
       "          1.13980000e+04,   1.60690000e+04,   2.77190000e+04,\n",
       "          8.22390000e+04,   1.47680000e+04,   6.18300000e+04,\n",
       "          1.04275000e+05]),\n",
       " array([ 0.00951207,  0.10413834,  0.19876461,  0.29339088,  0.38801715,\n",
       "         0.48264342,  0.5772697 ,  0.67189597,  0.76652224,  0.86114851,\n",
       "         0.95577478]),\n",
       " <a list of 10 Patch objects>)"
      ]
     },
     "execution_count": 11,
     "metadata": {},
     "output_type": "execute_result"
    },
    {
     "data": {
      "image/png": "[encoded data removed]",
      "text/plain": [
       "<matplotlib.figure.Figure at 0x1aaf155990>"
      ]
     },
     "metadata": {},
     "output_type": "display_data"
    }
   ],
   "source": [
    "plt.hist(output)"
   ]
  },
  {
   "cell_type": "code",
   "execution_count": 12,
   "metadata": {},
   "outputs": [
    {
     "name": "stdout",
     "output_type": "stream",
     "text": [
      "predicting\n",
      "finish read test data\n"
     ]
    }
   ],
   "source": [
    "print(\"predicting\")\n",
    "df_sub = pd.DataFrame()\n",
    "ttest = pd.read_csv('input_data/kaggle_test.csv')\n",
    "print(\"finish read test data\")\n",
    "\n",
    "ttest, idd = clear_data(ttest,'test')\n",
    "df_sub['click_id'] = idd.astype('int32')\n",
    "df_sub['is_attributed'] = model.predict(ttest,batch_size=batch_size,verbose=2)\n",
    "\n"
   ]
  },
  {
   "cell_type": "code",
   "execution_count": 13,
   "metadata": {},
   "outputs": [
    {
     "name": "stdout",
     "output_type": "stream",
     "text": [
      "check result\n",
      "           click_id  is_attributed\n",
      "count  1.879047e+07   1.879047e+07\n",
      "mean   9.395234e+06   4.552106e-02\n",
      "std    5.424341e+06   1.289774e-01\n",
      "min    0.000000e+00   9.618992e-03\n",
      "25%    4.697617e+06   1.274816e-02\n",
      "50%    9.395234e+06   1.433734e-02\n",
      "75%    1.409285e+07   3.443091e-02\n",
      "max    1.879047e+07   9.555569e-01\n"
     ]
    },
    {
     "data": {
      "text/plain": [
       "(array([  1.82049070e+07,   2.71600000e+04,   1.16860000e+04,\n",
       "          7.11900000e+03,   8.89700000e+03,   2.79060000e+04,\n",
       "          9.81890000e+04,   1.92800000e+04,   2.10581000e+05,\n",
       "          1.74744000e+05]),\n",
       " array([ 0.00961899,  0.10421278,  0.19880657,  0.29340036,  0.38799414,\n",
       "         0.48258793,  0.57718172,  0.67177551,  0.76636929,  0.86096308,\n",
       "         0.95555687]),\n",
       " <a list of 10 Patch objects>)"
      ]
     },
     "execution_count": 13,
     "metadata": {},
     "output_type": "execute_result"
    },
    {
     "data": {
      "image/png": "[encoded data removed]",
      "text/plain": [
       "<matplotlib.figure.Figure at 0x1aa86f5b10>"
      ]
     },
     "metadata": {},
     "output_type": "display_data"
    }
   ],
   "source": [
    "print(\"check result\")\n",
    "print(df_sub.describe())\n",
    "plt.hist(df_sub['is_attributed'])"
   ]
  },
  {
   "cell_type": "code",
   "execution_count": 14,
   "metadata": {},
   "outputs": [
    {
     "name": "stdout",
     "output_type": "stream",
     "text": [
      "save the result\n"
     ]
    }
   ],
   "source": [
    "print(\"save the result\")\n",
    "df_sub.to_csv('sub_result/result_code3_sample5.csv',index=False)\n",
    "\n",
    "\n"
   ]
  },
  {
   "cell_type": "code",
   "execution_count": 15,
   "metadata": {},
   "outputs": [
    {
     "data": {
      "text/plain": [
       "(array([ 18263581.,         0.,         0.,         0.,         0.,\n",
       "                0.,         0.,         0.,         0.,    526888.]),\n",
       " array([ 0. ,  0.1,  0.2,  0.3,  0.4,  0.5,  0.6,  0.7,  0.8,  0.9,  1. ]),\n",
       " <a list of 10 Patch objects>)"
      ]
     },
     "execution_count": 15,
     "metadata": {},
     "output_type": "execute_result"
    },
    {
     "data": {
      "image/png": "[encoded data removed]",
      "text/plain": [
       "<matplotlib.figure.Figure at 0x1a1c6a5e90>"
      ]
     },
     "metadata": {},
     "output_type": "display_data"
    }
   ],
   "source": [
    "plt.hist(np.round(df_sub['is_attributed']))"
   ]
  },
  {
   "cell_type": "code",
   "execution_count": null,
   "metadata": {},
   "outputs": [],
   "source": []
  }
 ],
 "metadata": {
  "kernelspec": {
   "display_name": "Python 2",
   "language": "python",
   "name": "python2"
  },
  "language_info": {
   "codemirror_mode": {
    "name": "ipython",
    "version": 2
   },
   "file_extension": ".py",
   "mimetype": "text/x-python",
   "name": "python",
   "nbconvert_exporter": "python",
   "pygments_lexer": "ipython2",
   "version": "2.7.14"
  }
 },
 "nbformat": 4,
 "nbformat_minor": 2
}
