{
 "cells": [
  {
   "cell_type": "code",
   "execution_count": 1,
   "metadata": {},
   "outputs": [
    {
     "name": "stderr",
     "output_type": "stream",
     "text": [
      "Using TensorFlow backend.\n"
     ]
    }
   ],
   "source": [
    "import numpy as np\n",
    "import pandas as pd\n",
    "import matplotlib.pyplot as plt\n",
    "from keras.preprocessing import sequence\n",
    "from keras.models import Sequential, model_from_json\n",
    "from keras.layers import Dense, Dropout\n",
    "from keras import initializers\n",
    "from sklearn.model_selection import train_test_split\n",
    "from keras.layers.normalization import BatchNormalization\n",
    "from keras import optimizers\n",
    "from keras import initializers\n",
    "import gc"
   ]
  },
  {
   "cell_type": "code",
   "execution_count": 2,
   "metadata": {},
   "outputs": [],
   "source": [
    "# function for clearning train data!\n",
    "# + remove IP\n",
    "def clear_data(df, option):\n",
    "    \n",
    "    df['click_time'] = pd.to_datetime(df['click_time'])\n",
    "    df['weekday'] = df['click_time'].dt.dayofweek\n",
    "    df['hour'] = df['click_time'].dt.hour\n",
    "    df = df.drop(columns=['ip','click_time'])\n",
    "    if (option == 'train'):\n",
    "        y = df['is_attributed']\n",
    "        df = df.drop(columns=['is_attributed','attributed_time'], axis=1)\n",
    "        return df, y\n",
    "    elif (option == 'test'):\n",
    "        sub_id = df['click_id']\n",
    "        df = df.drop(columns=['click_id'], axis=1)\n",
    "        return df, sub_id\n",
    "    \n",
    "    "
   ]
  },
  {
   "cell_type": "code",
   "execution_count": 3,
   "metadata": {},
   "outputs": [
    {
     "name": "stdout",
     "output_type": "stream",
     "text": [
      "load 10% training sample + train/val\n",
      "         app  device  os  channel  weekday  hour\n",
      "4448921   12       1  20      178        2     4\n",
      "5722010   12       1   8      259        3    13\n",
      "         app  device  os  channel  weekday  hour\n",
      "2725691    3       1   1      173        3     4\n",
      "112713    12       1  47      328        3    15\n",
      "4448921    0\n",
      "5722010    0\n",
      "Name: is_attributed, dtype: int64\n",
      "2725691    0\n",
      "112713     0\n",
      "Name: is_attributed, dtype: int64\n"
     ]
    },
    {
     "data": {
      "text/plain": [
       "89"
      ]
     },
     "execution_count": 3,
     "metadata": {},
     "output_type": "execute_result"
    }
   ],
   "source": [
    "print('load 10% training sample + train/val')\n",
    "df = pd.read_csv('input_data/train_sampling5.csv')\n",
    "df, y = clear_data(df,'train')\n",
    "x_train, x_val, y_train, y_val = train_test_split(df,y,test_size=0.1)\n",
    "\n",
    "x_train= x_train.drop(columns=['Unnamed: 0'])\n",
    "x_val= x_val.drop(columns=['Unnamed: 0'])\n",
    "\n",
    "print(x_train.head(2))\n",
    "print(x_val.head(2))\n",
    "print(y_train.head(2))\n",
    "print(y_val.head(2))\n",
    "del df, y; gc.collect()"
   ]
  },
  {
   "cell_type": "code",
   "execution_count": 4,
   "metadata": {},
   "outputs": [
    {
     "name": "stdout",
     "output_type": "stream",
     "text": [
      "define NN\n"
     ]
    }
   ],
   "source": [
    "print(\"define NN\")\n",
    "model = Sequential()\n",
    "# give options of Dense, \n",
    "# https://github.com/keras-team/keras/blob/befbdaa076eedb2787ce340b1a5b4accf93d123d/examples/mnist_irnn.py\n",
    "# RNN?? next try!\n",
    "kernel_init=initializers.RandomNormal(mean=0.0, stddev=0.1, seed=None) #stddev=0.05\n",
    "\n",
    "# structure of NN: 16 - (32) - 64 - 32 - 16 - (8) - sigmoid\n",
    "model.add(Dense(16,activation='relu',kernel_initializer=kernel_init,\n",
    "                bias_initializer='zeros',input_shape=(x_train.shape[1],)))\n",
    "model.add(BatchNormalization())\n",
    "model.add(Dropout(0.25))\n",
    "\n",
    "\n",
    "model.add(Dense(64,kernel_initializer=kernel_init,\n",
    "                bias_initializer='zeros',activation='relu'))\n",
    "model.add(BatchNormalization())\n",
    "model.add(Dropout(0.25))\n",
    "\n",
    "model.add(Dense(32,kernel_initializer=kernel_init,\n",
    "                bias_initializer='zeros',activation='relu'))\n",
    "model.add(BatchNormalization())\n",
    "model.add(Dropout(0.25))\n",
    "\n",
    "model.add(Dense(16,kernel_initializer=kernel_init,activation='relu'))\n",
    "model.add(BatchNormalization())\n",
    "model.add(Dropout(0.25))\n",
    "\n",
    "\n",
    "model.add(Dense(8,kernel_initializer=kernel_init,activation='relu'))\n",
    "model.add(BatchNormalization())\n",
    "model.add(Dropout(0.25))\n",
    "\n",
    "model.add(Dense(1,activation='sigmoid'))\n"
   ]
  },
  {
   "cell_type": "code",
   "execution_count": 5,
   "metadata": {},
   "outputs": [
    {
     "name": "stdout",
     "output_type": "stream",
     "text": [
      "_________________________________________________________________\n",
      "Layer (type)                 Output Shape              Param #   \n",
      "=================================================================\n",
      "dense_1 (Dense)              (None, 16)                112       \n",
      "_________________________________________________________________\n",
      "batch_normalization_1 (Batch (None, 16)                64        \n",
      "_________________________________________________________________\n",
      "dropout_1 (Dropout)          (None, 16)                0         \n",
      "_________________________________________________________________\n",
      "dense_2 (Dense)              (None, 64)                1088      \n",
      "_________________________________________________________________\n",
      "batch_normalization_2 (Batch (None, 64)                256       \n",
      "_________________________________________________________________\n",
      "dropout_2 (Dropout)          (None, 64)                0         \n",
      "_________________________________________________________________\n",
      "dense_3 (Dense)              (None, 32)                2080      \n",
      "_________________________________________________________________\n",
      "batch_normalization_3 (Batch (None, 32)                128       \n",
      "_________________________________________________________________\n",
      "dropout_3 (Dropout)          (None, 32)                0         \n",
      "_________________________________________________________________\n",
      "dense_4 (Dense)              (None, 16)                528       \n",
      "_________________________________________________________________\n",
      "batch_normalization_4 (Batch (None, 16)                64        \n",
      "_________________________________________________________________\n",
      "dropout_4 (Dropout)          (None, 16)                0         \n",
      "_________________________________________________________________\n",
      "dense_5 (Dense)              (None, 8)                 136       \n",
      "_________________________________________________________________\n",
      "batch_normalization_5 (Batch (None, 8)                 32        \n",
      "_________________________________________________________________\n",
      "dropout_5 (Dropout)          (None, 8)                 0         \n",
      "_________________________________________________________________\n",
      "dense_6 (Dense)              (None, 1)                 9         \n",
      "=================================================================\n",
      "Total params: 4,497\n",
      "Trainable params: 4,225\n",
      "Non-trainable params: 272\n",
      "_________________________________________________________________\n"
     ]
    }
   ],
   "source": [
    "model.summary()"
   ]
  },
  {
   "cell_type": "code",
   "execution_count": 6,
   "metadata": {},
   "outputs": [
    {
     "name": "stdout",
     "output_type": "stream",
     "text": [
      "start training\n",
      "Train on 7758144 samples, validate on 862016 samples\n",
      "Epoch 1/150\n",
      "7758144/7758144 [==============================] - 96s 12us/step - loss: 0.1313 - acc: 0.9178 - val_loss: 0.1665 - val_acc: 0.9518\n",
      "Epoch 2/150\n",
      "7758144/7758144 [==============================] - 93s 12us/step - loss: 0.0874 - acc: 0.9480 - val_loss: 0.2155 - val_acc: 0.9392\n",
      "Epoch 3/150\n",
      "7758144/7758144 [==============================] - 82s 11us/step - loss: 0.0814 - acc: 0.9528 - val_loss: 0.1781 - val_acc: 0.9496\n",
      "Epoch 4/150\n",
      "7758144/7758144 [==============================] - 81s 10us/step - loss: 0.0790 - acc: 0.9551 - val_loss: 0.1715 - val_acc: 0.9511\n",
      "Epoch 5/150\n",
      "7758144/7758144 [==============================] - 82s 11us/step - loss: 0.0777 - acc: 0.9561 - val_loss: 0.1763 - val_acc: 0.9494\n",
      "Epoch 6/150\n",
      "7758144/7758144 [==============================] - 82s 11us/step - loss: 0.0771 - acc: 0.9562 - val_loss: 0.1759 - val_acc: 0.9499\n",
      "Epoch 7/150\n",
      "7758144/7758144 [==============================] - 85s 11us/step - loss: 0.0760 - acc: 0.9568 - val_loss: 0.2203 - val_acc: 0.9380s - loss: 0.0760 - acc: - ETA: 0s - loss: 0.0760 - ac\n",
      "Epoch 8/150\n",
      "7758144/7758144 [==============================] - 82s 11us/step - loss: 0.0748 - acc: 0.9575 - val_loss: 0.1725 - val_acc: 0.9536\n",
      "Epoch 9/150\n",
      "7758144/7758144 [==============================] - 86s 11us/step - loss: 0.0742 - acc: 0.9578 - val_loss: 0.1723 - val_acc: 0.9528\n",
      "Epoch 10/150\n",
      "7758144/7758144 [==============================] - 81s 10us/step - loss: 0.0740 - acc: 0.9578 - val_loss: 0.1729 - val_acc: 0.9526\n",
      "Epoch 11/150\n",
      "7758144/7758144 [==============================] - 81s 10us/step - loss: 0.0736 - acc: 0.9581 - val_loss: 0.1704 - val_acc: 0.9534\n",
      "Epoch 12/150\n",
      "7758144/7758144 [==============================] - 81s 10us/step - loss: 0.0733 - acc: 0.9583 - val_loss: 0.1742 - val_acc: 0.9523\n",
      "Epoch 13/150\n",
      "7758144/7758144 [==============================] - 81s 10us/step - loss: 0.0731 - acc: 0.9586 - val_loss: 0.1770 - val_acc: 0.9488\n",
      "Epoch 14/150\n",
      "7758144/7758144 [==============================] - 81s 10us/step - loss: 0.0727 - acc: 0.9590 - val_loss: 0.1725 - val_acc: 0.9498\n",
      "Epoch 15/150\n",
      "7758144/7758144 [==============================] - 81s 10us/step - loss: 0.0726 - acc: 0.9592 - val_loss: 0.1709 - val_acc: 0.9519\n",
      "Epoch 16/150\n",
      "7758144/7758144 [==============================] - 81s 10us/step - loss: 0.0724 - acc: 0.9595 - val_loss: 0.1718 - val_acc: 0.9499\n",
      "Epoch 17/150\n",
      "7758144/7758144 [==============================] - 82s 11us/step - loss: 0.0721 - acc: 0.9599 - val_loss: 0.1785 - val_acc: 0.9489\n",
      "Epoch 18/150\n",
      "7758144/7758144 [==============================] - 82s 11us/step - loss: 0.0716 - acc: 0.9605 - val_loss: 0.1724 - val_acc: 0.9508\n",
      "Epoch 19/150\n",
      "7758144/7758144 [==============================] - 81s 10us/step - loss: 0.0716 - acc: 0.9605 - val_loss: 0.1739 - val_acc: 0.9498\n",
      "Epoch 20/150\n",
      "7758144/7758144 [==============================] - 82s 11us/step - loss: 0.0715 - acc: 0.9606 - val_loss: 0.1720 - val_acc: 0.9511- loss: 0.0715 \n",
      "Epoch 21/150\n",
      "7758144/7758144 [==============================] - 82s 11us/step - loss: 0.0715 - acc: 0.9606 - val_loss: 0.1724 - val_acc: 0.9511\n",
      "Epoch 22/150\n",
      "7758144/7758144 [==============================] - 82s 11us/step - loss: 0.0713 - acc: 0.9608 - val_loss: 0.1749 - val_acc: 0.9480\n",
      "Epoch 23/150\n",
      "7758144/7758144 [==============================] - 82s 11us/step - loss: 0.0712 - acc: 0.9609 - val_loss: 0.1767 - val_acc: 0.9479\n",
      "Epoch 24/150\n",
      "7758144/7758144 [==============================] - 83s 11us/step - loss: 0.0715 - acc: 0.9606 - val_loss: 0.1752 - val_acc: 0.9488\n",
      "Epoch 25/150\n",
      "7758144/7758144 [==============================] - 82s 11us/step - loss: 0.0710 - acc: 0.9610 - val_loss: 0.1711 - val_acc: 0.9508\n",
      "Epoch 26/150\n",
      "7758144/7758144 [==============================] - 82s 11us/step - loss: 0.0711 - acc: 0.9609 - val_loss: 0.1765 - val_acc: 0.9485\n",
      "Epoch 27/150\n",
      "7758144/7758144 [==============================] - 82s 11us/step - loss: 0.0709 - acc: 0.9612 - val_loss: 0.1746 - val_acc: 0.9520\n",
      "Epoch 28/150\n",
      "7758144/7758144 [==============================] - 82s 11us/step - loss: 0.0708 - acc: 0.9612 - val_loss: 0.1810 - val_acc: 0.9462\n",
      "Epoch 29/150\n",
      "7758144/7758144 [==============================] - 82s 11us/step - loss: 0.0707 - acc: 0.9613 - val_loss: 0.1807 - val_acc: 0.9479\n",
      "Epoch 30/150\n",
      "7758144/7758144 [==============================] - 82s 11us/step - loss: 0.0708 - acc: 0.9613 - val_loss: 0.1784 - val_acc: 0.9492\n",
      "Epoch 31/150\n",
      "7758144/7758144 [==============================] - 83s 11us/step - loss: 0.0709 - acc: 0.9612 - val_loss: 0.1829 - val_acc: 0.9465loss: \n",
      "Epoch 32/150\n",
      "7758144/7758144 [==============================] - 91s 12us/step - loss: 0.0707 - acc: 0.9614 - val_loss: 0.1793 - val_acc: 0.9469\n",
      "Epoch 33/150\n",
      "7758144/7758144 [==============================] - 82s 11us/step - loss: 0.0706 - acc: 0.9613 - val_loss: 0.1771 - val_acc: 0.9474\n",
      "Epoch 34/150\n",
      "7758144/7758144 [==============================] - 83s 11us/step - loss: 0.0705 - acc: 0.9615 - val_loss: 0.1729 - val_acc: 0.9522\n",
      "Epoch 35/150\n",
      "7758144/7758144 [==============================] - 83s 11us/step - loss: 0.0705 - acc: 0.9615 - val_loss: 0.1758 - val_acc: 0.9507\n",
      "Epoch 36/150\n",
      "7758144/7758144 [==============================] - 82s 11us/step - loss: 0.0705 - acc: 0.9615 - val_loss: 0.1776 - val_acc: 0.9499\n",
      "Epoch 37/150\n",
      "7758144/7758144 [==============================] - 84s 11us/step - loss: 0.0704 - acc: 0.9616 - val_loss: 0.1807 - val_acc: 0.9461\n",
      "Epoch 38/150\n",
      "7758144/7758144 [==============================] - 83s 11us/step - loss: 0.0705 - acc: 0.9615 - val_loss: 0.1771 - val_acc: 0.9520\n",
      "Epoch 39/150\n",
      "7758144/7758144 [==============================] - 83s 11us/step - loss: 0.0704 - acc: 0.9615 - val_loss: 0.1771 - val_acc: 0.9501\n",
      "Epoch 40/150\n",
      "7758144/7758144 [==============================] - 84s 11us/step - loss: 0.0704 - acc: 0.9616 - val_loss: 0.1760 - val_acc: 0.9509 - loss: 0.0704 - acc: 0\n",
      "Epoch 41/150\n",
      "7758144/7758144 [==============================] - 84s 11us/step - loss: 0.0704 - acc: 0.9616 - val_loss: 0.1740 - val_acc: 0.9507\n",
      "Epoch 42/150\n",
      "7758144/7758144 [==============================] - 84s 11us/step - loss: 0.0703 - acc: 0.9618 - val_loss: 0.1736 - val_acc: 0.9511\n",
      "Epoch 43/150\n",
      "7758144/7758144 [==============================] - 84s 11us/step - loss: 0.0704 - acc: 0.9616 - val_loss: 0.1753 - val_acc: 0.9511\n",
      "Epoch 44/150\n",
      "7758144/7758144 [==============================] - 84s 11us/step - loss: 0.0701 - acc: 0.9618 - val_loss: 0.1775 - val_acc: 0.9501\n",
      "Epoch 45/150\n",
      "7758144/7758144 [==============================] - 84s 11us/step - loss: 0.0704 - acc: 0.9615 - val_loss: 0.1753 - val_acc: 0.9502\n",
      "Epoch 46/150\n",
      "7758144/7758144 [==============================] - 84s 11us/step - loss: 0.0703 - acc: 0.9617 - val_loss: 0.1758 - val_acc: 0.9502\n",
      "Epoch 47/150\n",
      "7758144/7758144 [==============================] - 84s 11us/step - loss: 0.0702 - acc: 0.9618 - val_loss: 0.1856 - val_acc: 0.9481\n",
      "Epoch 48/150\n",
      "7758144/7758144 [==============================] - 84s 11us/step - loss: 0.0703 - acc: 0.9617 - val_loss: 0.1759 - val_acc: 0.9512\n",
      "Epoch 49/150\n",
      "7758144/7758144 [==============================] - 85s 11us/step - loss: 0.0702 - acc: 0.9618 - val_loss: 0.1772 - val_acc: 0.9510\n",
      "Epoch 50/150\n",
      "7758144/7758144 [==============================] - 86s 11us/step - loss: 0.0702 - acc: 0.9617 - val_loss: 0.1785 - val_acc: 0.9525\n",
      "Epoch 51/150\n",
      "7758144/7758144 [==============================] - 85s 11us/step - loss: 0.0700 - acc: 0.9619 - val_loss: 0.1749 - val_acc: 0.9514\n",
      "Epoch 52/150\n",
      "7758144/7758144 [==============================] - 85s 11us/step - loss: 0.0701 - acc: 0.9619 - val_loss: 0.1739 - val_acc: 0.9524\n",
      "Epoch 53/150\n",
      "7758144/7758144 [==============================] - 85s 11us/step - loss: 0.0700 - acc: 0.9619 - val_loss: 0.1790 - val_acc: 0.9507\n",
      "Epoch 54/150\n",
      "7758144/7758144 [==============================] - 85s 11us/step - loss: 0.0700 - acc: 0.9619 - val_loss: 0.1747 - val_acc: 0.9513\n",
      "Epoch 55/150\n",
      "7758144/7758144 [==============================] - 85s 11us/step - loss: 0.0701 - acc: 0.9619 - val_loss: 0.1801 - val_acc: 0.9473\n",
      "Epoch 56/150\n",
      "7758144/7758144 [==============================] - 85s 11us/step - loss: 0.0700 - acc: 0.9619 - val_loss: 0.1815 - val_acc: 0.9471\n"
     ]
    },
    {
     "name": "stdout",
     "output_type": "stream",
     "text": [
      "Epoch 57/150\n",
      "7758144/7758144 [==============================] - 79s 10us/step - loss: 0.0702 - acc: 0.9616 - val_loss: 0.1773 - val_acc: 0.9522\n",
      "Epoch 58/150\n",
      "7758144/7758144 [==============================] - 79s 10us/step - loss: 0.0702 - acc: 0.9618 - val_loss: 0.1816 - val_acc: 0.9466\n",
      "Epoch 59/150\n",
      "7758144/7758144 [==============================] - 80s 10us/step - loss: 0.0702 - acc: 0.9617 - val_loss: 0.1715 - val_acc: 0.9502\n",
      "Epoch 60/150\n",
      "7758144/7758144 [==============================] - 80s 10us/step - loss: 0.0701 - acc: 0.9619 - val_loss: 0.1770 - val_acc: 0.9498\n",
      "Epoch 61/150\n",
      "7758144/7758144 [==============================] - 80s 10us/step - loss: 0.0701 - acc: 0.9619 - val_loss: 0.1749 - val_acc: 0.9512\n",
      "Epoch 62/150\n",
      "7758144/7758144 [==============================] - 80s 10us/step - loss: 0.0701 - acc: 0.9618 - val_loss: 0.1780 - val_acc: 0.9500\n",
      "Epoch 63/150\n",
      "7758144/7758144 [==============================] - 80s 10us/step - loss: 0.0699 - acc: 0.9620 - val_loss: 0.1774 - val_acc: 0.9500\n",
      "Epoch 64/150\n",
      "7758144/7758144 [==============================] - 81s 10us/step - loss: 0.0699 - acc: 0.9621 - val_loss: 0.1831 - val_acc: 0.9497\n",
      "Epoch 65/150\n",
      "7758144/7758144 [==============================] - 81s 10us/step - loss: 0.0701 - acc: 0.9619 - val_loss: 0.1756 - val_acc: 0.9500\n",
      "Epoch 66/150\n",
      "7758144/7758144 [==============================] - 81s 10us/step - loss: 0.0699 - acc: 0.9620 - val_loss: 0.1762 - val_acc: 0.9507s: 0.0699 - acc:\n",
      "Epoch 67/150\n",
      "7758144/7758144 [==============================] - 81s 10us/step - loss: 0.0699 - acc: 0.9622 - val_loss: 0.1841 - val_acc: 0.9468\n",
      "Epoch 68/150\n",
      "7758144/7758144 [==============================] - 80s 10us/step - loss: 0.0698 - acc: 0.9623 - val_loss: 0.1753 - val_acc: 0.9507\n",
      "Epoch 69/150\n",
      "7758144/7758144 [==============================] - 80s 10us/step - loss: 0.0699 - acc: 0.9621 - val_loss: 0.1764 - val_acc: 0.9498\n",
      "Epoch 70/150\n",
      "7758144/7758144 [==============================] - 80s 10us/step - loss: 0.0697 - acc: 0.9623 - val_loss: 0.1765 - val_acc: 0.9492\n",
      "Epoch 71/150\n",
      "7758144/7758144 [==============================] - 80s 10us/step - loss: 0.0698 - acc: 0.9622 - val_loss: 0.1746 - val_acc: 0.9499\n",
      "Epoch 72/150\n",
      "7758144/7758144 [==============================] - 81s 10us/step - loss: 0.0698 - acc: 0.9623 - val_loss: 0.1763 - val_acc: 0.9521: 2s - \n",
      "Epoch 73/150\n",
      "7758144/7758144 [==============================] - 85s 11us/step - loss: 0.0699 - acc: 0.9621 - val_loss: 0.1780 - val_acc: 0.9495\n",
      "Epoch 74/150\n",
      "7758144/7758144 [==============================] - 82s 11us/step - loss: 0.0699 - acc: 0.9622 - val_loss: 0.1816 - val_acc: 0.9469\n",
      "Epoch 75/150\n",
      "7758144/7758144 [==============================] - 83s 11us/step - loss: 0.0701 - acc: 0.9620 - val_loss: 0.1764 - val_acc: 0.9506\n",
      "Epoch 76/150\n",
      "7758144/7758144 [==============================] - 81s 10us/step - loss: 0.0698 - acc: 0.9622 - val_loss: 0.1798 - val_acc: 0.9483\n",
      "Epoch 77/150\n",
      "7758144/7758144 [==============================] - 81s 10us/step - loss: 0.0701 - acc: 0.9620 - val_loss: 0.1832 - val_acc: 0.9447\n",
      "Epoch 78/150\n",
      "7758144/7758144 [==============================] - 81s 10us/step - loss: 0.0701 - acc: 0.9620 - val_loss: 0.1840 - val_acc: 0.9474.0702 - acc: 0.9 - ETA:  - E - ETA: 0s - loss: 0.0701 - acc:\n",
      "Epoch 79/150\n",
      "7758144/7758144 [==============================] - 81s 10us/step - loss: 0.0700 - acc: 0.9622 - val_loss: 0.1851 - val_acc: 0.9489\n",
      "Epoch 80/150\n",
      "7758144/7758144 [==============================] - 81s 10us/step - loss: 0.0700 - acc: 0.9621 - val_loss: 0.1840 - val_acc: 0.9472\n",
      "Epoch 81/150\n",
      "7758144/7758144 [==============================] - 81s 10us/step - loss: 0.0698 - acc: 0.9623 - val_loss: 0.1828 - val_acc: 0.9472\n",
      "Epoch 82/150\n",
      "7758144/7758144 [==============================] - 82s 11us/step - loss: 0.0700 - acc: 0.9621 - val_loss: 0.1809 - val_acc: 0.9461\n",
      "Epoch 83/150\n",
      "7758144/7758144 [==============================] - 82s 11us/step - loss: 0.0698 - acc: 0.9623 - val_loss: 0.1822 - val_acc: 0.9469\n",
      "Epoch 84/150\n",
      "7758144/7758144 [==============================] - 81s 10us/step - loss: 0.0698 - acc: 0.9623 - val_loss: 0.1785 - val_acc: 0.9502\n",
      "Epoch 85/150\n",
      "7758144/7758144 [==============================] - 81s 10us/step - loss: 0.0698 - acc: 0.9623 - val_loss: 0.1788 - val_acc: 0.9478\n",
      "Epoch 86/150\n",
      "7758144/7758144 [==============================] - 82s 11us/step - loss: 0.0698 - acc: 0.9624 - val_loss: 0.1776 - val_acc: 0.9479\n",
      "Epoch 87/150\n",
      "7758144/7758144 [==============================] - 81s 10us/step - loss: 0.0696 - acc: 0.9623 - val_loss: 0.1756 - val_acc: 0.9501\n",
      "Epoch 88/150\n",
      "7758144/7758144 [==============================] - 81s 10us/step - loss: 0.0697 - acc: 0.9623 - val_loss: 0.1761 - val_acc: 0.9505ss: 0.0698 - acc:  - ETA: 2s - loss\n",
      "Epoch 89/150\n",
      "7758144/7758144 [==============================] - 82s 11us/step - loss: 0.0697 - acc: 0.9624 - val_loss: 0.1765 - val_acc: 0.9486oss: 0.0697 - acc: 0.96\n",
      "Epoch 90/150\n",
      "7758144/7758144 [==============================] - 81s 11us/step - loss: 0.0697 - acc: 0.9623 - val_loss: 0.1792 - val_acc: 0.9496\n",
      "Epoch 91/150\n",
      "7758144/7758144 [==============================] - 82s 11us/step - loss: 0.0696 - acc: 0.9625 - val_loss: 0.1817 - val_acc: 0.9493\n",
      "Epoch 92/150\n",
      "7758144/7758144 [==============================] - 82s 11us/step - loss: 0.0697 - acc: 0.9623 - val_loss: 0.1765 - val_acc: 0.9475\n",
      "Epoch 93/150\n",
      "7758144/7758144 [==============================] - 82s 11us/step - loss: 0.0696 - acc: 0.9624 - val_loss: 0.1798 - val_acc: 0.9496\n",
      "Epoch 94/150\n",
      "7758144/7758144 [==============================] - 82s 11us/step - loss: 0.0697 - acc: 0.9624 - val_loss: 0.1810 - val_acc: 0.9456\n",
      "Epoch 95/150\n",
      "7758144/7758144 [==============================] - 83s 11us/step - loss: 0.0696 - acc: 0.9624 - val_loss: 0.1785 - val_acc: 0.9507\n",
      "Epoch 96/150\n",
      "7758144/7758144 [==============================] - 82s 11us/step - loss: 0.0697 - acc: 0.9624 - val_loss: 0.1761 - val_acc: 0.9501\n",
      "Epoch 97/150\n",
      "7758144/7758144 [==============================] - 83s 11us/step - loss: 0.0698 - acc: 0.9622 - val_loss: 0.1766 - val_acc: 0.9473\n",
      "Epoch 98/150\n",
      "7758144/7758144 [==============================] - 83s 11us/step - loss: 0.0696 - acc: 0.9625 - val_loss: 0.1779 - val_acc: 0.9485\n",
      "Epoch 99/150\n",
      "7758144/7758144 [==============================] - 83s 11us/step - loss: 0.0695 - acc: 0.9626 - val_loss: 0.1774 - val_acc: 0.9505\n",
      "Epoch 100/150\n",
      "7758144/7758144 [==============================] - 84s 11us/step - loss: 0.0696 - acc: 0.9624 - val_loss: 0.1788 - val_acc: 0.9482\n",
      "Epoch 101/150\n",
      "7758144/7758144 [==============================] - 83s 11us/step - loss: 0.0696 - acc: 0.9624 - val_loss: 0.1779 - val_acc: 0.9500\n",
      "Epoch 102/150\n",
      "7758144/7758144 [==============================] - 83s 11us/step - loss: 0.0695 - acc: 0.9625 - val_loss: 0.1777 - val_acc: 0.9500\n",
      "Epoch 103/150\n",
      "7758144/7758144 [==============================] - 83s 11us/step - loss: 0.0695 - acc: 0.9626 - val_loss: 0.1799 - val_acc: 0.9454 5s - loss: 0.06\n",
      "Epoch 104/150\n",
      "7758144/7758144 [==============================] - 84s 11us/step - loss: 0.0695 - acc: 0.9625 - val_loss: 0.1795 - val_acc: 0.9465\n",
      "Epoch 105/150\n",
      "7758144/7758144 [==============================] - 83s 11us/step - loss: 0.0696 - acc: 0.9625 - val_loss: 0.1781 - val_acc: 0.9527\n",
      "Epoch 106/150\n",
      "7758144/7758144 [==============================] - 83s 11us/step - loss: 0.0696 - acc: 0.9625 - val_loss: 0.1766 - val_acc: 0.9465\n",
      "Epoch 107/150\n",
      "7758144/7758144 [==============================] - 84s 11us/step - loss: 0.0696 - acc: 0.9625 - val_loss: 0.1814 - val_acc: 0.9471\n",
      "Epoch 108/150\n",
      "7758144/7758144 [==============================] - 84s 11us/step - loss: 0.0695 - acc: 0.9625 - val_loss: 0.1812 - val_acc: 0.9481\n",
      "Epoch 109/150\n",
      "7758144/7758144 [==============================] - 84s 11us/step - loss: 0.0696 - acc: 0.9624 - val_loss: 0.1767 - val_acc: 0.9468\n",
      "Epoch 110/150\n",
      "7758144/7758144 [==============================] - 84s 11us/step - loss: 0.0696 - acc: 0.9625 - val_loss: 0.1788 - val_acc: 0.9477\n",
      "Epoch 111/150\n",
      "7758144/7758144 [==============================] - 84s 11us/step - loss: 0.0695 - acc: 0.9626 - val_loss: 0.1817 - val_acc: 0.9468\n",
      "Epoch 112/150\n"
     ]
    },
    {
     "name": "stdout",
     "output_type": "stream",
     "text": [
      "7758144/7758144 [==============================] - 82s 11us/step - loss: 0.0695 - acc: 0.9626 - val_loss: 0.1803 - val_acc: 0.9474\n",
      "Epoch 113/150\n",
      "7758144/7758144 [==============================] - 79s 10us/step - loss: 0.0694 - acc: 0.9626 - val_loss: 0.1753 - val_acc: 0.9511\n",
      "Epoch 114/150\n",
      "7758144/7758144 [==============================] - 80s 10us/step - loss: 0.0695 - acc: 0.9624 - val_loss: 0.1775 - val_acc: 0.9501\n",
      "Epoch 115/150\n",
      "7758144/7758144 [==============================] - 80s 10us/step - loss: 0.0695 - acc: 0.9626 - val_loss: 0.1823 - val_acc: 0.9468\n",
      "Epoch 116/150\n",
      "7758144/7758144 [==============================] - 87s 11us/step - loss: 0.0695 - acc: 0.9625 - val_loss: 0.1772 - val_acc: 0.9501\n",
      "Epoch 117/150\n",
      "7758144/7758144 [==============================] - 82s 11us/step - loss: 0.0694 - acc: 0.9626 - val_loss: 0.1759 - val_acc: 0.9501\n",
      "Epoch 118/150\n",
      "7758144/7758144 [==============================] - 80s 10us/step - loss: 0.0694 - acc: 0.9626 - val_loss: 0.1778 - val_acc: 0.9500\n",
      "Epoch 119/150\n",
      "7758144/7758144 [==============================] - 82s 11us/step - loss: 0.0693 - acc: 0.9627 - val_loss: 0.1772 - val_acc: 0.9492\n",
      "Epoch 120/150\n",
      "7758144/7758144 [==============================] - 80s 10us/step - loss: 0.0695 - acc: 0.9626 - val_loss: 0.1796 - val_acc: 0.9501\n",
      "Epoch 121/150\n",
      "7758144/7758144 [==============================] - 80s 10us/step - loss: 0.0695 - acc: 0.9626 - val_loss: 0.1776 - val_acc: 0.9494\n",
      "Epoch 122/150\n",
      "7758144/7758144 [==============================] - 81s 10us/step - loss: 0.0695 - acc: 0.9625 - val_loss: 0.1791 - val_acc: 0.9462\n",
      "Epoch 123/150\n",
      "7758144/7758144 [==============================] - 80s 10us/step - loss: 0.0694 - acc: 0.9626 - val_loss: 0.1840 - val_acc: 0.9461\n",
      "Epoch 124/150\n",
      "7758144/7758144 [==============================] - 80s 10us/step - loss: 0.0694 - acc: 0.9626 - val_loss: 0.1776 - val_acc: 0.9503\n",
      "Epoch 125/150\n",
      "7758144/7758144 [==============================] - 80s 10us/step - loss: 0.0695 - acc: 0.9625 - val_loss: 0.1764 - val_acc: 0.9497\n",
      "Epoch 126/150\n",
      "7758144/7758144 [==============================] - 80s 10us/step - loss: 0.0693 - acc: 0.9627 - val_loss: 0.1823 - val_acc: 0.9461\n",
      "Epoch 127/150\n",
      "7758144/7758144 [==============================] - 80s 10us/step - loss: 0.0694 - acc: 0.9627 - val_loss: 0.1799 - val_acc: 0.9462\n",
      "Epoch 128/150\n",
      "7758144/7758144 [==============================] - 80s 10us/step - loss: 0.0694 - acc: 0.9626 - val_loss: 0.1771 - val_acc: 0.9503\n",
      "Epoch 129/150\n",
      "7758144/7758144 [==============================] - 81s 10us/step - loss: 0.0694 - acc: 0.9625 - val_loss: 0.1800 - val_acc: 0.9476\n",
      "Epoch 130/150\n",
      "7758144/7758144 [==============================] - 81s 10us/step - loss: 0.0696 - acc: 0.9625 - val_loss: 0.1810 - val_acc: 0.9502\n",
      "Epoch 131/150\n",
      "7758144/7758144 [==============================] - 80s 10us/step - loss: 0.0694 - acc: 0.9627 - val_loss: 0.1803 - val_acc: 0.9499\n",
      "Epoch 132/150\n",
      "7758144/7758144 [==============================] - 80s 10us/step - loss: 0.0693 - acc: 0.9627 - val_loss: 0.1776 - val_acc: 0.9501s: 0.06\n",
      "Epoch 133/150\n",
      "7758144/7758144 [==============================] - 81s 10us/step - loss: 0.0693 - acc: 0.9627 - val_loss: 0.1832 - val_acc: 0.9459\n",
      "Epoch 134/150\n",
      "7758144/7758144 [==============================] - 81s 10us/step - loss: 0.0694 - acc: 0.9626 - val_loss: 0.1798 - val_acc: 0.9501\n",
      "Epoch 135/150\n",
      "7758144/7758144 [==============================] - 81s 10us/step - loss: 0.0694 - acc: 0.9626 - val_loss: 0.1783 - val_acc: 0.9521\n",
      "Epoch 136/150\n",
      "7758144/7758144 [==============================] - 81s 10us/step - loss: 0.0694 - acc: 0.9626 - val_loss: 0.1797 - val_acc: 0.9477\n",
      "Epoch 137/150\n",
      "7758144/7758144 [==============================] - 82s 11us/step - loss: 0.0694 - acc: 0.9626 - val_loss: 0.1793 - val_acc: 0.9464\n",
      "Epoch 138/150\n",
      "7758144/7758144 [==============================] - 81s 10us/step - loss: 0.0694 - acc: 0.9626 - val_loss: 0.1755 - val_acc: 0.9505TA: \n",
      "Epoch 139/150\n",
      "7758144/7758144 [==============================] - 81s 10us/step - loss: 0.0693 - acc: 0.9628 - val_loss: 0.1800 - val_acc: 0.9497\n",
      "Epoch 140/150\n",
      "7758144/7758144 [==============================] - 81s 10us/step - loss: 0.0693 - acc: 0.9627 - val_loss: 0.1762 - val_acc: 0.9502\n",
      "Epoch 141/150\n",
      "7758144/7758144 [==============================] - 81s 11us/step - loss: 0.0693 - acc: 0.9627 - val_loss: 0.1774 - val_acc: 0.9500\n",
      "Epoch 142/150\n",
      "7758144/7758144 [==============================] - 81s 10us/step - loss: 0.0693 - acc: 0.9627 - val_loss: 0.1775 - val_acc: 0.9503\n",
      "Epoch 143/150\n",
      "7758144/7758144 [==============================] - 81s 10us/step - loss: 0.0694 - acc: 0.9626 - val_loss: 0.1790 - val_acc: 0.94591s - loss: 0.069\n",
      "Epoch 144/150\n",
      "7758144/7758144 [==============================] - 81s 10us/step - loss: 0.0692 - acc: 0.9628 - val_loss: 0.2036 - val_acc: 0.9350\n",
      "Epoch 145/150\n",
      "7758144/7758144 [==============================] - 82s 11us/step - loss: 0.0693 - acc: 0.9627 - val_loss: 0.1749 - val_acc: 0.9521\n",
      "Epoch 146/150\n",
      "7758144/7758144 [==============================] - 81s 10us/step - loss: 0.0693 - acc: 0.9626 - val_loss: 0.1766 - val_acc: 0.9495\n",
      "Epoch 147/150\n",
      "7758144/7758144 [==============================] - 81s 10us/step - loss: 0.0693 - acc: 0.9627 - val_loss: 0.1794 - val_acc: 0.9511\n",
      "Epoch 148/150\n",
      "7758144/7758144 [==============================] - 82s 11us/step - loss: 0.0693 - acc: 0.9627 - val_loss: 0.1766 - val_acc: 0.9479\n",
      "Epoch 149/150\n",
      "7758144/7758144 [==============================] - 81s 10us/step - loss: 0.0694 - acc: 0.9626 - val_loss: 0.1788 - val_acc: 0.9496\n",
      "Epoch 150/150\n",
      "7758144/7758144 [==============================] - 81s 10us/step - loss: 0.0693 - acc: 0.9627 - val_loss: 0.1773 - val_acc: 0.9502\n"
     ]
    },
    {
     "data": {
      "text/plain": [
       "155"
      ]
     },
     "execution_count": 6,
     "metadata": {},
     "output_type": "execute_result"
    }
   ],
   "source": [
    "gc.collect()\n",
    "print(\"start training\")\n",
    "# control NN's option\n",
    "# batch_size = 256\n",
    "# epoch = 10\n",
    "batch_size = 10240\n",
    "epoch = 150  #10\n",
    "\n",
    "# class_weight = {0:0.1, 1:0.9}\n",
    "class_weight = {0:0.5, 1:0.5}\n",
    "# class_weight = {0:0.95, 1:0.05}\n",
    "\n",
    "exp_decay = lambda init, fin, steps: (init/fin)**(1/(steps-1)) - 1\n",
    "steps = int(len(list(x_train)[0]) / batch_size) * epoch\n",
    "lr_init, lr_fin = 0.0015, 0.0005 # lr=0.001 default \n",
    "lr_decay = exp_decay(lr_init, lr_fin, steps)\n",
    "optimizer_adam = optimizers.Adam(lr=0.002, decay=lr_decay)\n",
    "\n",
    "######################\n",
    "# compile + training\n",
    "model.compile(loss='binary_crossentropy',optimizer=optimizer_adam,metrics=['accuracy'])\n",
    "model.fit(x_train,y_train,batch_size = batch_size,epochs=epoch,validation_data=(x_val,y_val),class_weight=class_weight)\n",
    "\n",
    "del x_train, y_train; gc.collect()"
   ]
  },
  {
   "cell_type": "code",
   "execution_count": 7,
   "metadata": {},
   "outputs": [
    {
     "name": "stdout",
     "output_type": "stream",
     "text": [
      "[[ 0.01573996]\n",
      " [ 0.02587778]\n",
      " [ 0.01548224]\n",
      " ..., \n",
      " [ 0.91511983]\n",
      " [ 0.01867078]\n",
      " [ 0.02771555]]\n",
      "((862016, 1), (862016,))\n",
      "         app  device  os  channel  weekday  hour\n",
      "2725691    3       1   1      173        3     4\n",
      "112713    12       1  47      328        3    15\n",
      "2263103    3       1  46      280        3     5\n",
      "6609055   12       1  19      178        2    10\n",
      "874652    14       1  35      463        3    15\n"
     ]
    },
    {
     "data": {
      "image/png": "[encoded data removed]",
      "text/plain": [
       "<matplotlib.figure.Figure at 0x151df77150>"
      ]
     },
     "metadata": {},
     "output_type": "display_data"
    }
   ],
   "source": [
    "kk = model.predict(x_val,batch_size=batch_size,verbose=2)\n",
    "print(kk)\n",
    "\n",
    "print(kk.shape,y_val.shape)\n",
    "plt.hist(np.round(kk))\n",
    "plt.hist(y_val)\n",
    "print(x_val.head())\n"
   ]
  },
  {
   "cell_type": "code",
   "execution_count": 8,
   "metadata": {},
   "outputs": [
    {
     "name": "stdout",
     "output_type": "stream",
     "text": [
      "Saved model to disk\n"
     ]
    }
   ],
   "source": [
    "print(\"Saved model to disk\")\n",
    "json_string = model.to_json()\n",
    "with open(\"saved_models/model3.json\", \"w\") as json_file:\n",
    "    json_file.write(json_string)\n",
    "model.save_weights('saved_models/weights3.h5')"
   ]
  },
  {
   "cell_type": "code",
   "execution_count": 9,
   "metadata": {},
   "outputs": [
    {
     "name": "stdout",
     "output_type": "stream",
     "text": [
      "predicting_test_sample\n",
      "   Unnamed: 0     ip  app  device  os  channel           click_time  \\\n",
      "0   178450426  63051   26       1  19      266  2017-11-09 14:00:13   \n",
      "1   160852079  49602   26       2  19      266  2017-11-09 08:36:15   \n",
      "2   118079796  25648    2       1   6      477  2017-11-08 14:49:12   \n",
      "3   162379166   2965    8       1  19      140  2017-11-09 09:08:20   \n",
      "4    84248176  20578   18       1  10      134  2017-11-08 04:33:53   \n",
      "\n",
      "  attributed_time  is_attributed  \n",
      "0             NaN              0  \n",
      "1             NaN              0  \n",
      "2             NaN              0  \n",
      "3             NaN              0  \n",
      "4             NaN              0  \n"
     ]
    }
   ],
   "source": [
    "print(\"predicting_test_sample\")\n",
    "dff = pd.read_csv('input_data/test_sampling5.csv')\n",
    "print(dff.head())\n",
    "dff, yy = clear_data(dff,'train')\n",
    "dff = dff.drop(columns=['Unnamed: 0'])\n",
    "output = model.predict(dff,batch_size=batch_size,verbose=2)\n"
   ]
  },
  {
   "cell_type": "code",
   "execution_count": 10,
   "metadata": {},
   "outputs": [
    {
     "name": "stdout",
     "output_type": "stream",
     "text": [
      "[ 0.02147755  0.02132441  0.02098344 ...,  0.02757417  0.01982355\n",
      "  0.01635614]\n",
      "(18490389,)\n"
     ]
    },
    {
     "data": {
      "text/plain": [
       "(array([ 18445120.,         0.,         0.,         0.,         0.,\n",
       "                0.,         0.,         0.,         0.,     45269.]),\n",
       " array([ 0. ,  0.1,  0.2,  0.3,  0.4,  0.5,  0.6,  0.7,  0.8,  0.9,  1. ]),\n",
       " <a list of 10 Patch objects>)"
      ]
     },
     "execution_count": 10,
     "metadata": {},
     "output_type": "execute_result"
    },
    {
     "data": {
      "image/png": "[encoded data removed]",
      "text/plain": [
       "<matplotlib.figure.Figure at 0x1a1e90ddd0>"
      ]
     },
     "metadata": {},
     "output_type": "display_data"
    }
   ],
   "source": [
    "print(np.reshape(output,18490389))\n",
    "print(yy.shape)\n",
    "# dd = np.array([np.reshape(output,18490389),yy.values])\n",
    "\n",
    "plt.hist(yy)\n",
    "\n"
   ]
  },
  {
   "cell_type": "code",
   "execution_count": 11,
   "metadata": {},
   "outputs": [
    {
     "data": {
      "text/plain": [
       "(array([  1.80809300e+07,   4.87810000e+04,   1.32610000e+04,\n",
       "          6.48200000e+03,   9.18500000e+03,   1.09214000e+05,\n",
       "          3.61520000e+04,   2.82370000e+04,   7.93810000e+04,\n",
       "          7.87660000e+04]),\n",
       " array([ 0.0100796 ,  0.10771057,  0.20534153,  0.30297249,  0.40060345,\n",
       "         0.49823441,  0.59586537,  0.69349634,  0.7911273 ,  0.88875826,\n",
       "         0.98638922]),\n",
       " <a list of 10 Patch objects>)"
      ]
     },
     "execution_count": 11,
     "metadata": {},
     "output_type": "execute_result"
    },
    {
     "data": {
      "image/png": "[encoded data removed]",
      "text/plain": [
       "<matplotlib.figure.Figure at 0x1ab64fa810>"
      ]
     },
     "metadata": {},
     "output_type": "display_data"
    }
   ],
   "source": [
    "plt.hist(output)"
   ]
  },
  {
   "cell_type": "code",
   "execution_count": 12,
   "metadata": {},
   "outputs": [
    {
     "name": "stdout",
     "output_type": "stream",
     "text": [
      "predicting\n",
      "finish read test data\n"
     ]
    }
   ],
   "source": [
    "print(\"predicting\")\n",
    "df_sub = pd.DataFrame()\n",
    "ttest = pd.read_csv('input_data/kaggle_test.csv')\n",
    "print(\"finish read test data\")\n",
    "\n",
    "ttest, idd = clear_data(ttest,'test')\n",
    "df_sub['click_id'] = idd.astype('int32')\n",
    "df_sub['is_attributed'] = model.predict(ttest,batch_size=batch_size,verbose=2)\n",
    "\n"
   ]
  },
  {
   "cell_type": "code",
   "execution_count": 13,
   "metadata": {},
   "outputs": [
    {
     "name": "stdout",
     "output_type": "stream",
     "text": [
      "check result\n",
      "           click_id  is_attributed\n",
      "count  1.879047e+07   1.879047e+07\n",
      "mean   9.395234e+06   4.647657e-02\n",
      "std    5.424341e+06   1.306664e-01\n",
      "min    0.000000e+00   1.090885e-02\n",
      "25%    4.697617e+06   1.802492e-02\n",
      "50%    9.395234e+06   2.088001e-02\n",
      "75%    1.409285e+07   2.534308e-02\n",
      "max    1.879047e+07   9.869875e-01\n"
     ]
    },
    {
     "data": {
      "text/plain": [
       "(array([  1.80813440e+07,   2.47300000e+04,   2.77710000e+04,\n",
       "          1.61280000e+04,   3.97840000e+04,   1.38464000e+05,\n",
       "          1.05764000e+05,   1.41933000e+05,   1.12885000e+05,\n",
       "          1.01666000e+05]),\n",
       " array([ 0.01090885,  0.10851671,  0.20612457,  0.30373244,  0.4013403 ,\n",
       "         0.49894816,  0.59655602,  0.69416388,  0.79177175,  0.88937961,\n",
       "         0.98698747]),\n",
       " <a list of 10 Patch objects>)"
      ]
     },
     "execution_count": 13,
     "metadata": {},
     "output_type": "execute_result"
    },
    {
     "data": {
      "image/png": "[encoded data removed]",
      "text/plain": [
       "<matplotlib.figure.Figure at 0x1151d3850>"
      ]
     },
     "metadata": {},
     "output_type": "display_data"
    }
   ],
   "source": [
    "print(\"check result\")\n",
    "print(df_sub.describe())\n",
    "plt.hist(df_sub['is_attributed'])"
   ]
  },
  {
   "cell_type": "code",
   "execution_count": 14,
   "metadata": {},
   "outputs": [
    {
     "name": "stdout",
     "output_type": "stream",
     "text": [
      "save the result\n"
     ]
    }
   ],
   "source": [
    "print(\"save the result\")\n",
    "df_sub.to_csv('sub_result/result_code3_sample5.csv',index=False)\n",
    "\n",
    "\n"
   ]
  },
  {
   "cell_type": "code",
   "execution_count": 15,
   "metadata": {},
   "outputs": [
    {
     "data": {
      "text/plain": [
       "(array([ 18190008.,         0.,         0.,         0.,         0.,\n",
       "                0.,         0.,         0.,         0.,    600461.]),\n",
       " array([ 0. ,  0.1,  0.2,  0.3,  0.4,  0.5,  0.6,  0.7,  0.8,  0.9,  1. ]),\n",
       " <a list of 10 Patch objects>)"
      ]
     },
     "execution_count": 15,
     "metadata": {},
     "output_type": "execute_result"
    },
    {
     "data": {
      "image/png": "[encoded data removed]",
      "text/plain": [
       "<matplotlib.figure.Figure at 0x1ab3764910>"
      ]
     },
     "metadata": {},
     "output_type": "display_data"
    }
   ],
   "source": [
    "plt.hist(np.round(df_sub['is_attributed']))"
   ]
  },
  {
   "cell_type": "code",
   "execution_count": null,
   "metadata": {},
   "outputs": [],
   "source": []
  }
 ],
 "metadata": {
  "kernelspec": {
   "display_name": "Python 2",
   "language": "python",
   "name": "python2"
  },
  "language_info": {
   "codemirror_mode": {
    "name": "ipython",
    "version": 2
   },
   "file_extension": ".py",
   "mimetype": "text/x-python",
   "name": "python",
   "nbconvert_exporter": "python",
   "pygments_lexer": "ipython2",
   "version": "2.7.14"
  }
 },
 "nbformat": 4,
 "nbformat_minor": 2
}
