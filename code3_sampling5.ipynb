{
 "cells": [
  {
   "cell_type": "code",
   "execution_count": 1,
   "metadata": {},
   "outputs": [
    {
     "name": "stderr",
     "output_type": "stream",
     "text": [
      "Using TensorFlow backend.\n"
     ]
    }
   ],
   "source": [
    "import numpy as np\n",
    "import pandas as pd\n",
    "import matplotlib.pyplot as plt\n",
    "from keras.preprocessing import sequence\n",
    "from keras.models import Sequential, model_from_json\n",
    "from keras.layers import Dense, Dropout\n",
    "from keras import initializers\n",
    "from sklearn.model_selection import train_test_split\n",
    "from keras.layers.normalization import BatchNormalization\n",
    "from keras import optimizers\n",
    "from keras import initializers\n",
    "import gc"
   ]
  },
  {
   "cell_type": "code",
   "execution_count": 2,
   "metadata": {},
   "outputs": [],
   "source": [
    "# function for clearning train data!\n",
    "# + remove IP\n",
    "def clear_data(df, option):\n",
    "    \n",
    "    df['click_time'] = pd.to_datetime(df['click_time'])\n",
    "    df['weekday'] = df['click_time'].dt.dayofweek\n",
    "    df['hour'] = df['click_time'].dt.hour\n",
    "    df = df.drop(columns=['ip','click_time'])\n",
    "    if (option == 'train'):\n",
    "        y = df['is_attributed']\n",
    "        df = df.drop(columns=['is_attributed','attributed_time'], axis=1)\n",
    "        return df, y\n",
    "    elif (option == 'test'):\n",
    "        sub_id = df['click_id']\n",
    "        df = df.drop(columns=['click_id'], axis=1)\n",
    "        return df, sub_id\n",
    "    \n",
    "    "
   ]
  },
  {
   "cell_type": "code",
   "execution_count": 3,
   "metadata": {},
   "outputs": [
    {
     "name": "stdout",
     "output_type": "stream",
     "text": [
      "load 10% training sample + train/val\n",
      "         app  device  os  channel  weekday  hour\n",
      "2037519   12       1  22      205        1     9\n",
      "508032    23       1   6      153        3    11\n",
      "         app  device  os  channel  weekday  hour\n",
      "7141719    7       1  19      101        1     2\n",
      "3582802   29       2  37      213        1     1\n",
      "2037519    0\n",
      "508032     0\n",
      "Name: is_attributed, dtype: int64\n",
      "7141719    0\n",
      "3582802    1\n",
      "Name: is_attributed, dtype: int64\n"
     ]
    },
    {
     "data": {
      "text/plain": [
       "89"
      ]
     },
     "execution_count": 3,
     "metadata": {},
     "output_type": "execute_result"
    }
   ],
   "source": [
    "print('load 10% training sample + train/val')\n",
    "df = pd.read_csv('input_data/train_sampling5.csv')\n",
    "df, y = clear_data(df,'train')\n",
    "x_train, x_val, y_train, y_val = train_test_split(df,y,test_size=0.1)\n",
    "\n",
    "x_train= x_train.drop(columns=['Unnamed: 0'])\n",
    "x_val= x_val.drop(columns=['Unnamed: 0'])\n",
    "\n",
    "print(x_train.head(2))\n",
    "print(x_val.head(2))\n",
    "print(y_train.head(2))\n",
    "print(y_val.head(2))\n",
    "del df, y; gc.collect()"
   ]
  },
  {
   "cell_type": "code",
   "execution_count": 4,
   "metadata": {},
   "outputs": [
    {
     "name": "stdout",
     "output_type": "stream",
     "text": [
      "define NN\n"
     ]
    }
   ],
   "source": [
    "print(\"define NN\")\n",
    "model = Sequential()\n",
    "# give options of Dense, \n",
    "# https://github.com/keras-team/keras/blob/befbdaa076eedb2787ce340b1a5b4accf93d123d/examples/mnist_irnn.py\n",
    "# RNN?? next try!\n",
    "kernel_init=initializers.RandomNormal(mean=0.0, stddev=0.1, seed=None) #stddev=0.05\n",
    "\n",
    "# structure of NN: 16 - (32) - 64 - 32 - 16 - (8) - sigmoid\n",
    "model.add(Dense(16,activation='relu',kernel_initializer=kernel_init,\n",
    "                bias_initializer='zeros',input_shape=(x_train.shape[1],)))\n",
    "model.add(BatchNormalization())\n",
    "model.add(Dropout(0.25))\n",
    "\n",
    "model.add(Dense(32,kernel_initializer=kernel_init,\n",
    "                bias_initializer='zeros',activation='relu'))\n",
    "model.add(BatchNormalization())\n",
    "model.add(Dropout(0.5))\n",
    "\n",
    "model.add(Dense(64,kernel_initializer=kernel_init,\n",
    "                bias_initializer='zeros',activation='relu'))\n",
    "model.add(BatchNormalization())\n",
    "model.add(Dropout(0.5))\n",
    "\n",
    "model.add(Dense(32,kernel_initializer=kernel_init,\n",
    "                bias_initializer='zeros',activation='relu'))\n",
    "model.add(BatchNormalization())\n",
    "model.add(Dropout(0.5))\n",
    "\n",
    "model.add(Dense(16,kernel_initializer=kernel_init,activation='relu'))\n",
    "model.add(BatchNormalization())\n",
    "model.add(Dropout(0.25))\n",
    "\n",
    "\n",
    "model.add(Dense(8,kernel_initializer=kernel_init,activation='relu'))\n",
    "model.add(BatchNormalization())\n",
    "model.add(Dropout(0.25))\n",
    "\n",
    "model.add(Dense(1,activation='sigmoid'))\n"
   ]
  },
  {
   "cell_type": "code",
   "execution_count": 5,
   "metadata": {},
   "outputs": [
    {
     "name": "stdout",
     "output_type": "stream",
     "text": [
      "_________________________________________________________________\n",
      "Layer (type)                 Output Shape              Param #   \n",
      "=================================================================\n",
      "dense_1 (Dense)              (None, 16)                112       \n",
      "_________________________________________________________________\n",
      "batch_normalization_1 (Batch (None, 16)                64        \n",
      "_________________________________________________________________\n",
      "dropout_1 (Dropout)          (None, 16)                0         \n",
      "_________________________________________________________________\n",
      "dense_2 (Dense)              (None, 32)                544       \n",
      "_________________________________________________________________\n",
      "batch_normalization_2 (Batch (None, 32)                128       \n",
      "_________________________________________________________________\n",
      "dropout_2 (Dropout)          (None, 32)                0         \n",
      "_________________________________________________________________\n",
      "dense_3 (Dense)              (None, 64)                2112      \n",
      "_________________________________________________________________\n",
      "batch_normalization_3 (Batch (None, 64)                256       \n",
      "_________________________________________________________________\n",
      "dropout_3 (Dropout)          (None, 64)                0         \n",
      "_________________________________________________________________\n",
      "dense_4 (Dense)              (None, 32)                2080      \n",
      "_________________________________________________________________\n",
      "batch_normalization_4 (Batch (None, 32)                128       \n",
      "_________________________________________________________________\n",
      "dropout_4 (Dropout)          (None, 32)                0         \n",
      "_________________________________________________________________\n",
      "dense_5 (Dense)              (None, 16)                528       \n",
      "_________________________________________________________________\n",
      "batch_normalization_5 (Batch (None, 16)                64        \n",
      "_________________________________________________________________\n",
      "dropout_5 (Dropout)          (None, 16)                0         \n",
      "_________________________________________________________________\n",
      "dense_6 (Dense)              (None, 8)                 136       \n",
      "_________________________________________________________________\n",
      "batch_normalization_6 (Batch (None, 8)                 32        \n",
      "_________________________________________________________________\n",
      "dropout_6 (Dropout)          (None, 8)                 0         \n",
      "_________________________________________________________________\n",
      "dense_7 (Dense)              (None, 1)                 9         \n",
      "=================================================================\n",
      "Total params: 6,193\n",
      "Trainable params: 5,857\n",
      "Non-trainable params: 336\n",
      "_________________________________________________________________\n"
     ]
    }
   ],
   "source": [
    "model.summary()"
   ]
  },
  {
   "cell_type": "code",
   "execution_count": 6,
   "metadata": {},
   "outputs": [
    {
     "name": "stdout",
     "output_type": "stream",
     "text": [
      "start training\n",
      "Train on 7758144 samples, validate on 862016 samples\n",
      "Epoch 1/150\n",
      "7758144/7758144 [==============================] - 110s 14us/step - loss: 0.1506 - acc: 0.8931 - val_loss: 0.2604 - val_acc: 0.9184\n",
      "Epoch 2/150\n",
      "7758144/7758144 [==============================] - 108s 14us/step - loss: 0.1078 - acc: 0.9203 - val_loss: 0.2017 - val_acc: 0.9287\n",
      "Epoch 3/150\n",
      "7758144/7758144 [==============================] - 106s 14us/step - loss: 0.1021 - acc: 0.9284 - val_loss: 0.2060 - val_acc: 0.9351\n",
      "Epoch 4/150\n",
      "7758144/7758144 [==============================] - 112s 14us/step - loss: 0.0991 - acc: 0.9320 - val_loss: 0.2070 - val_acc: 0.9336\n",
      "Epoch 5/150\n",
      "7758144/7758144 [==============================] - 104s 13us/step - loss: 0.0976 - acc: 0.9334 - val_loss: 0.2187 - val_acc: 0.9350\n",
      "Epoch 6/150\n",
      "7758144/7758144 [==============================] - 112s 14us/step - loss: 0.0964 - acc: 0.9345 - val_loss: 0.2213 - val_acc: 0.9404\n",
      "Epoch 7/150\n",
      "7758144/7758144 [==============================] - 106s 14us/step - loss: 0.0955 - acc: 0.9351 - val_loss: 0.2205 - val_acc: 0.9386\n",
      "Epoch 8/150\n",
      "7758144/7758144 [==============================] - 114s 15us/step - loss: 0.0949 - acc: 0.9359 - val_loss: 0.2178 - val_acc: 0.9356\n",
      "Epoch 9/150\n",
      "7758144/7758144 [==============================] - 108s 14us/step - loss: 0.0949 - acc: 0.9359 - val_loss: 0.2214 - val_acc: 0.9322\n",
      "Epoch 10/150\n",
      "7758144/7758144 [==============================] - 104s 13us/step - loss: 0.0950 - acc: 0.9354 - val_loss: 0.2112 - val_acc: 0.9406\n",
      "Epoch 11/150\n",
      "7758144/7758144 [==============================] - 104s 13us/step - loss: 0.0944 - acc: 0.9359 - val_loss: 0.2177 - val_acc: 0.9353\n",
      "Epoch 12/150\n",
      "7758144/7758144 [==============================] - 112s 14us/step - loss: 0.0940 - acc: 0.9362 - val_loss: 0.2127 - val_acc: 0.9403\n",
      "Epoch 13/150\n",
      "7758144/7758144 [==============================] - 106s 14us/step - loss: 0.0937 - acc: 0.9366 - val_loss: 0.2129 - val_acc: 0.9343\n",
      "Epoch 14/150\n",
      "7758144/7758144 [==============================] - 99s 13us/step - loss: 0.0934 - acc: 0.9369 - val_loss: 0.2117 - val_acc: 0.9362\n",
      "Epoch 15/150\n",
      "7758144/7758144 [==============================] - 104s 13us/step - loss: 0.0930 - acc: 0.9373 - val_loss: 0.2030 - val_acc: 0.9407\n",
      "Epoch 16/150\n",
      "7758144/7758144 [==============================] - 101s 13us/step - loss: 0.0927 - acc: 0.9377 - val_loss: 0.2074 - val_acc: 0.9354\n",
      "Epoch 17/150\n",
      "7758144/7758144 [==============================] - 101s 13us/step - loss: 0.0927 - acc: 0.9377 - val_loss: 0.2163 - val_acc: 0.9357\n",
      "Epoch 18/150\n",
      "7758144/7758144 [==============================] - 103s 13us/step - loss: 0.0927 - acc: 0.9377 - val_loss: 0.2087 - val_acc: 0.9392\n",
      "Epoch 19/150\n",
      "7758144/7758144 [==============================] - 102s 13us/step - loss: 0.0923 - acc: 0.9382 - val_loss: 0.2043 - val_acc: 0.9357\n",
      "Epoch 20/150\n",
      "7758144/7758144 [==============================] - 109s 14us/step - loss: 0.0922 - acc: 0.9385 - val_loss: 0.2116 - val_acc: 0.9363\n",
      "Epoch 21/150\n",
      "7758144/7758144 [==============================] - 102s 13us/step - loss: 0.0921 - acc: 0.9387 - val_loss: 0.2089 - val_acc: 0.9415\n",
      "Epoch 22/150\n",
      "7758144/7758144 [==============================] - 102s 13us/step - loss: 0.0921 - acc: 0.9387 - val_loss: 0.2032 - val_acc: 0.9363\n",
      "Epoch 23/150\n",
      "7758144/7758144 [==============================] - 102s 13us/step - loss: 0.0921 - acc: 0.9387 - val_loss: 0.2017 - val_acc: 0.9387\n",
      "Epoch 24/150\n",
      "7758144/7758144 [==============================] - 103s 13us/step - loss: 0.0918 - acc: 0.9390 - val_loss: 0.2077 - val_acc: 0.9349\n",
      "Epoch 25/150\n",
      "7758144/7758144 [==============================] - 102s 13us/step - loss: 0.0919 - acc: 0.9391 - val_loss: 0.2121 - val_acc: 0.9349\n",
      "Epoch 26/150\n",
      "7758144/7758144 [==============================] - 103s 13us/step - loss: 0.0918 - acc: 0.9391 - val_loss: 0.2033 - val_acc: 0.9358\n",
      "Epoch 27/150\n",
      "7758144/7758144 [==============================] - 104s 13us/step - loss: 0.0916 - acc: 0.9395 - val_loss: 0.2016 - val_acc: 0.9408\n",
      "Epoch 28/150\n",
      "7758144/7758144 [==============================] - 104s 13us/step - loss: 0.0915 - acc: 0.9397 - val_loss: 0.1988 - val_acc: 0.9420\n",
      "Epoch 29/150\n",
      "7758144/7758144 [==============================] - 104s 13us/step - loss: 0.0914 - acc: 0.9397 - val_loss: 0.2046 - val_acc: 0.9357\n",
      "Epoch 30/150\n",
      "7758144/7758144 [==============================] - 104s 13us/step - loss: 0.0913 - acc: 0.9398 - val_loss: 0.2105 - val_acc: 0.9361\n",
      "Epoch 31/150\n",
      "7758144/7758144 [==============================] - 105s 13us/step - loss: 0.0913 - acc: 0.9398 - val_loss: 0.2008 - val_acc: 0.9363\n",
      "Epoch 32/150\n",
      "7758144/7758144 [==============================] - 105s 14us/step - loss: 0.0912 - acc: 0.9400 - val_loss: 0.2000 - val_acc: 0.9356\n",
      "Epoch 33/150\n",
      "7758144/7758144 [==============================] - 104s 13us/step - loss: 0.0912 - acc: 0.9399 - val_loss: 0.2076 - val_acc: 0.9353\n",
      "Epoch 34/150\n",
      "7758144/7758144 [==============================] - 105s 13us/step - loss: 0.0911 - acc: 0.9401 - val_loss: 0.2070 - val_acc: 0.9361\n",
      "Epoch 35/150\n",
      "7758144/7758144 [==============================] - 113s 15us/step - loss: 0.0911 - acc: 0.9401 - val_loss: 0.2060 - val_acc: 0.9365\n",
      "Epoch 36/150\n",
      "7758144/7758144 [==============================] - 103s 13us/step - loss: 0.0910 - acc: 0.9401 - val_loss: 0.2077 - val_acc: 0.9411\n",
      "Epoch 37/150\n",
      "7758144/7758144 [==============================] - 103s 13us/step - loss: 0.0909 - acc: 0.9403 - val_loss: 0.2021 - val_acc: 0.9358\n",
      "Epoch 38/150\n",
      "7758144/7758144 [==============================] - 103s 13us/step - loss: 0.0910 - acc: 0.9401 - val_loss: 0.2065 - val_acc: 0.9349\n",
      "Epoch 39/150\n",
      "7758144/7758144 [==============================] - 104s 13us/step - loss: 0.0909 - acc: 0.9403 - val_loss: 0.2054 - val_acc: 0.9396\n",
      "Epoch 40/150\n",
      "7758144/7758144 [==============================] - 103s 13us/step - loss: 0.0908 - acc: 0.9405 - val_loss: 0.2070 - val_acc: 0.9395\n",
      "Epoch 41/150\n",
      "7758144/7758144 [==============================] - 105s 14us/step - loss: 0.0908 - acc: 0.9407 - val_loss: 0.2036 - val_acc: 0.9355\n",
      "Epoch 42/150\n",
      "7758144/7758144 [==============================] - 106s 14us/step - loss: 0.0907 - acc: 0.9410 - val_loss: 0.2048 - val_acc: 0.9353\n",
      "Epoch 43/150\n",
      "7758144/7758144 [==============================] - 105s 13us/step - loss: 0.0908 - acc: 0.9409 - val_loss: 0.2033 - val_acc: 0.9396\n",
      "Epoch 44/150\n",
      "7758144/7758144 [==============================] - 105s 13us/step - loss: 0.0907 - acc: 0.9410 - val_loss: 0.2066 - val_acc: 0.9354\n",
      "Epoch 45/150\n",
      "7758144/7758144 [==============================] - 116s 15us/step - loss: 0.0904 - acc: 0.9414 - val_loss: 0.2027 - val_acc: 0.9405\n",
      "Epoch 46/150\n",
      "7758144/7758144 [==============================] - 105s 14us/step - loss: 0.0904 - acc: 0.9414 - val_loss: 0.2087 - val_acc: 0.9348\n",
      "Epoch 47/150\n",
      "7758144/7758144 [==============================] - 106s 14us/step - loss: 0.0905 - acc: 0.9413 - val_loss: 0.1969 - val_acc: 0.9416\n",
      "Epoch 48/150\n",
      "7758144/7758144 [==============================] - 106s 14us/step - loss: 0.0902 - acc: 0.9415 - val_loss: 0.2180 - val_acc: 0.9356\n",
      "Epoch 49/150\n",
      "7758144/7758144 [==============================] - 106s 14us/step - loss: 0.0905 - acc: 0.9412 - val_loss: 0.2006 - val_acc: 0.9363\n",
      "Epoch 50/150\n",
      "7758144/7758144 [==============================] - 106s 14us/step - loss: 0.0902 - acc: 0.9415 - val_loss: 0.2027 - val_acc: 0.9352\n",
      "Epoch 51/150\n",
      "7758144/7758144 [==============================] - 106s 14us/step - loss: 0.0901 - acc: 0.9417 - val_loss: 0.2032 - val_acc: 0.9400\n",
      "Epoch 52/150\n",
      "7758144/7758144 [==============================] - 107s 14us/step - loss: 0.0901 - acc: 0.9416 - val_loss: 0.1996 - val_acc: 0.9354\n",
      "Epoch 53/150\n",
      "7758144/7758144 [==============================] - 114s 15us/step - loss: 0.0901 - acc: 0.9417 - val_loss: 0.2055 - val_acc: 0.9350\n",
      "Epoch 54/150\n",
      "7758144/7758144 [==============================] - 106s 14us/step - loss: 0.0904 - acc: 0.9415 - val_loss: 0.2040 - val_acc: 0.9410\n",
      "Epoch 55/150\n",
      "7758144/7758144 [==============================] - 106s 14us/step - loss: 0.0897 - acc: 0.9424 - val_loss: 0.1955 - val_acc: 0.9391\n",
      "Epoch 56/150\n",
      "7758144/7758144 [==============================] - 107s 14us/step - loss: 0.0898 - acc: 0.9421 - val_loss: 0.1998 - val_acc: 0.9412\n",
      "Epoch 57/150\n"
     ]
    },
    {
     "name": "stdout",
     "output_type": "stream",
     "text": [
      "7758144/7758144 [==============================] - 100s 13us/step - loss: 0.0900 - acc: 0.9419 - val_loss: 0.1992 - val_acc: 0.9372\n",
      "Epoch 58/150\n",
      "7758144/7758144 [==============================] - 101s 13us/step - loss: 0.0899 - acc: 0.9421 - val_loss: 0.2035 - val_acc: 0.9355\n",
      "Epoch 59/150\n",
      "7758144/7758144 [==============================] - 102s 13us/step - loss: 0.0899 - acc: 0.9421 - val_loss: 0.2090 - val_acc: 0.9388\n",
      "Epoch 60/150\n",
      "7758144/7758144 [==============================] - 105s 14us/step - loss: 0.0897 - acc: 0.9422 - val_loss: 0.1991 - val_acc: 0.9358\n",
      "Epoch 61/150\n",
      "7758144/7758144 [==============================] - 105s 14us/step - loss: 0.0898 - acc: 0.9421 - val_loss: 0.2042 - val_acc: 0.9406\n",
      "Epoch 62/150\n",
      "7758144/7758144 [==============================] - 104s 13us/step - loss: 0.0897 - acc: 0.9421 - val_loss: 0.2020 - val_acc: 0.9357\n",
      "Epoch 63/150\n",
      "7758144/7758144 [==============================] - 100s 13us/step - loss: 0.0897 - acc: 0.9422 - val_loss: 0.2042 - val_acc: 0.9348\n",
      "Epoch 64/150\n",
      "7758144/7758144 [==============================] - 101s 13us/step - loss: 0.0897 - acc: 0.9422 - val_loss: 0.2085 - val_acc: 0.9410\n",
      "Epoch 65/150\n",
      "7758144/7758144 [==============================] - 102s 13us/step - loss: 0.0897 - acc: 0.9423 - val_loss: 0.1992 - val_acc: 0.9362\n",
      "Epoch 66/150\n",
      "7758144/7758144 [==============================] - 102s 13us/step - loss: 0.0896 - acc: 0.9425 - val_loss: 0.2139 - val_acc: 0.9345\n",
      "Epoch 67/150\n",
      "7758144/7758144 [==============================] - 101s 13us/step - loss: 0.0898 - acc: 0.9423 - val_loss: 0.2019 - val_acc: 0.9360\n",
      "Epoch 68/150\n",
      "7758144/7758144 [==============================] - 101s 13us/step - loss: 0.0897 - acc: 0.9424 - val_loss: 0.2016 - val_acc: 0.9358\n",
      "Epoch 69/150\n",
      "7758144/7758144 [==============================] - 101s 13us/step - loss: 0.0898 - acc: 0.9422 - val_loss: 0.2073 - val_acc: 0.9363\n",
      "Epoch 70/150\n",
      "7758144/7758144 [==============================] - 102s 13us/step - loss: 0.0896 - acc: 0.9425 - val_loss: 0.2066 - val_acc: 0.9369\n",
      "Epoch 71/150\n",
      "7758144/7758144 [==============================] - 102s 13us/step - loss: 0.0896 - acc: 0.9426 - val_loss: 0.2062 - val_acc: 0.9354\n",
      "Epoch 72/150\n",
      "7758144/7758144 [==============================] - 102s 13us/step - loss: 0.0895 - acc: 0.9427 - val_loss: 0.2087 - val_acc: 0.9351\n",
      "Epoch 73/150\n",
      "7758144/7758144 [==============================] - 102s 13us/step - loss: 0.0894 - acc: 0.9428 - val_loss: 0.2071 - val_acc: 0.9356\n",
      "Epoch 74/150\n",
      "7758144/7758144 [==============================] - 102s 13us/step - loss: 0.0892 - acc: 0.9429 - val_loss: 0.2099 - val_acc: 0.9361\n",
      "Epoch 75/150\n",
      "7758144/7758144 [==============================] - 102s 13us/step - loss: 0.0892 - acc: 0.9428 - val_loss: 0.2081 - val_acc: 0.9356\n",
      "Epoch 76/150\n",
      "7758144/7758144 [==============================] - 109s 14us/step - loss: 0.0890 - acc: 0.9432 - val_loss: 0.2059 - val_acc: 0.9355\n",
      "Epoch 77/150\n",
      "7758144/7758144 [==============================] - 104s 13us/step - loss: 0.0890 - acc: 0.9431 - val_loss: 0.2031 - val_acc: 0.9390\n",
      "Epoch 78/150\n",
      "7758144/7758144 [==============================] - 104s 13us/step - loss: 0.0889 - acc: 0.9433 - val_loss: 0.2037 - val_acc: 0.9350\n",
      "Epoch 79/150\n",
      "7758144/7758144 [==============================] - 104s 13us/step - loss: 0.0888 - acc: 0.9435 - val_loss: 0.2084 - val_acc: 0.9353\n",
      "Epoch 80/150\n",
      "7758144/7758144 [==============================] - 104s 13us/step - loss: 0.0888 - acc: 0.9435 - val_loss: 0.2057 - val_acc: 0.9356\n",
      "Epoch 81/150\n",
      "7758144/7758144 [==============================] - 105s 14us/step - loss: 0.0887 - acc: 0.9435 - val_loss: 0.2071 - val_acc: 0.9354\n",
      "Epoch 82/150\n",
      "7758144/7758144 [==============================] - 104s 13us/step - loss: 0.0886 - acc: 0.9437 - val_loss: 0.2184 - val_acc: 0.9284\n",
      "Epoch 83/150\n",
      "7758144/7758144 [==============================] - 106s 14us/step - loss: 0.0887 - acc: 0.9437 - val_loss: 0.2029 - val_acc: 0.9418\n",
      "Epoch 84/150\n",
      "7758144/7758144 [==============================] - 109s 14us/step - loss: 0.0887 - acc: 0.9437 - val_loss: 0.2037 - val_acc: 0.9358\n",
      "Epoch 85/150\n",
      "7758144/7758144 [==============================] - 105s 14us/step - loss: 0.0888 - acc: 0.9436 - val_loss: 0.2083 - val_acc: 0.9358\n",
      "Epoch 86/150\n",
      "7758144/7758144 [==============================] - 105s 14us/step - loss: 0.0889 - acc: 0.9434 - val_loss: 0.2042 - val_acc: 0.9364\n",
      "Epoch 87/150\n",
      "7758144/7758144 [==============================] - 107s 14us/step - loss: 0.0887 - acc: 0.9437 - val_loss: 0.2029 - val_acc: 0.9368\n",
      "Epoch 88/150\n",
      "7758144/7758144 [==============================] - 105s 13us/step - loss: 0.0888 - acc: 0.9437 - val_loss: 0.2048 - val_acc: 0.9279\n",
      "Epoch 89/150\n",
      "7758144/7758144 [==============================] - 105s 14us/step - loss: 0.0885 - acc: 0.9439 - val_loss: 0.2041 - val_acc: 0.9361\n",
      "Epoch 90/150\n",
      "7758144/7758144 [==============================] - 105s 14us/step - loss: 0.0887 - acc: 0.9437 - val_loss: 0.2011 - val_acc: 0.9406\n",
      "Epoch 91/150\n",
      "7758144/7758144 [==============================] - 106s 14us/step - loss: 0.0885 - acc: 0.9438 - val_loss: 0.2034 - val_acc: 0.9366\n",
      "Epoch 92/150\n",
      "7758144/7758144 [==============================] - 106s 14us/step - loss: 0.0886 - acc: 0.9438 - val_loss: 0.2037 - val_acc: 0.9418\n",
      "Epoch 93/150\n",
      "7758144/7758144 [==============================] - 107s 14us/step - loss: 0.0885 - acc: 0.9438 - val_loss: 0.1999 - val_acc: 0.9417\n",
      "Epoch 94/150\n",
      "7758144/7758144 [==============================] - 106s 14us/step - loss: 0.0886 - acc: 0.9438 - val_loss: 0.2028 - val_acc: 0.9359\n",
      "Epoch 95/150\n",
      "7758144/7758144 [==============================] - 105s 14us/step - loss: 0.0886 - acc: 0.9438 - val_loss: 0.2008 - val_acc: 0.9357\n",
      "Epoch 96/150\n",
      "7758144/7758144 [==============================] - 116s 15us/step - loss: 0.0887 - acc: 0.9437 - val_loss: 0.2112 - val_acc: 0.9280\n",
      "Epoch 97/150\n",
      "7758144/7758144 [==============================] - 124s 16us/step - loss: 0.0886 - acc: 0.9438 - val_loss: 0.2010 - val_acc: 0.9360\n",
      "Epoch 98/150\n",
      "7758144/7758144 [==============================] - 115s 15us/step - loss: 0.0884 - acc: 0.9440 - val_loss: 0.2015 - val_acc: 0.9355\n",
      "Epoch 99/150\n",
      "7758144/7758144 [==============================] - 128s 17us/step - loss: 0.0887 - acc: 0.9437 - val_loss: 0.2038 - val_acc: 0.9360\n",
      "Epoch 100/150\n",
      "7758144/7758144 [==============================] - 117s 15us/step - loss: 0.0886 - acc: 0.9438 - val_loss: 0.2047 - val_acc: 0.9365\n",
      "Epoch 101/150\n",
      "7758144/7758144 [==============================] - 105s 14us/step - loss: 0.0883 - acc: 0.9440 - val_loss: 0.2068 - val_acc: 0.9365\n",
      "Epoch 102/150\n",
      "7758144/7758144 [==============================] - 104s 13us/step - loss: 0.0883 - acc: 0.9441 - val_loss: 0.2001 - val_acc: 0.9393\n",
      "Epoch 103/150\n",
      "7758144/7758144 [==============================] - 104s 13us/step - loss: 0.0884 - acc: 0.9440 - val_loss: 0.1997 - val_acc: 0.9347\n",
      "Epoch 104/150\n",
      "7758144/7758144 [==============================] - 112s 14us/step - loss: 0.0884 - acc: 0.9440 - val_loss: 0.2063 - val_acc: 0.9368\n",
      "Epoch 105/150\n",
      "7758144/7758144 [==============================] - 117s 15us/step - loss: 0.0883 - acc: 0.9441 - val_loss: 0.2059 - val_acc: 0.9366\n",
      "Epoch 106/150\n",
      "7758144/7758144 [==============================] - 118s 15us/step - loss: 0.0886 - acc: 0.9437 - val_loss: 0.2054 - val_acc: 0.9301\n",
      "Epoch 107/150\n",
      "7758144/7758144 [==============================] - 123s 16us/step - loss: 0.0885 - acc: 0.9440 - val_loss: 0.2073 - val_acc: 0.9274\n",
      "Epoch 108/150\n",
      "7758144/7758144 [==============================] - 118s 15us/step - loss: 0.0883 - acc: 0.9440 - val_loss: 0.2085 - val_acc: 0.9286\n",
      "Epoch 109/150\n",
      "7758144/7758144 [==============================] - 121s 16us/step - loss: 0.0885 - acc: 0.9439 - val_loss: 0.1996 - val_acc: 0.9378\n",
      "Epoch 110/150\n",
      "7758144/7758144 [==============================] - 122s 16us/step - loss: 0.0886 - acc: 0.9437 - val_loss: 0.2052 - val_acc: 0.9275\n",
      "Epoch 111/150\n",
      "7758144/7758144 [==============================] - 120s 15us/step - loss: 0.0884 - acc: 0.9440 - val_loss: 0.2079 - val_acc: 0.9277\n",
      "Epoch 112/150\n",
      "7758144/7758144 [==============================] - 120s 16us/step - loss: 0.0883 - acc: 0.9442 - val_loss: 0.2031 - val_acc: 0.9362\n",
      "Epoch 113/150\n"
     ]
    },
    {
     "name": "stdout",
     "output_type": "stream",
     "text": [
      "7758144/7758144 [==============================] - 113s 15us/step - loss: 0.0885 - acc: 0.9439 - val_loss: 0.2099 - val_acc: 0.9280\n",
      "Epoch 114/150\n",
      "7758144/7758144 [==============================] - 112s 14us/step - loss: 0.0882 - acc: 0.9441 - val_loss: 0.2125 - val_acc: 0.9284\n",
      "Epoch 115/150\n",
      "7758144/7758144 [==============================] - 111s 14us/step - loss: 0.0882 - acc: 0.9443 - val_loss: 0.2040 - val_acc: 0.9364\n",
      "Epoch 116/150\n",
      "7758144/7758144 [==============================] - 125s 16us/step - loss: 0.0882 - acc: 0.9442 - val_loss: 0.2059 - val_acc: 0.9364\n",
      "Epoch 117/150\n",
      "7758144/7758144 [==============================] - 116s 15us/step - loss: 0.0883 - acc: 0.9440 - val_loss: 0.2095 - val_acc: 0.9363\n",
      "Epoch 118/150\n",
      "7758144/7758144 [==============================] - 117s 15us/step - loss: 0.0885 - acc: 0.9439 - val_loss: 0.2048 - val_acc: 0.9366\n",
      "Epoch 119/150\n",
      "7758144/7758144 [==============================] - 115s 15us/step - loss: 0.0882 - acc: 0.9440 - val_loss: 0.2081 - val_acc: 0.9359\n",
      "Epoch 120/150\n",
      "7758144/7758144 [==============================] - 110s 14us/step - loss: 0.0886 - acc: 0.9438 - val_loss: 0.2075 - val_acc: 0.9368\n",
      "Epoch 121/150\n",
      "7758144/7758144 [==============================] - 114s 15us/step - loss: 0.0883 - acc: 0.9442 - val_loss: 0.2110 - val_acc: 0.9366\n",
      "Epoch 122/150\n",
      "7758144/7758144 [==============================] - 113s 15us/step - loss: 0.0883 - acc: 0.9441 - val_loss: 0.2104 - val_acc: 0.9283\n",
      "Epoch 123/150\n",
      "7758144/7758144 [==============================] - 123s 16us/step - loss: 0.0885 - acc: 0.9438 - val_loss: 0.2138 - val_acc: 0.9360\n",
      "Epoch 124/150\n",
      "7758144/7758144 [==============================] - 107s 14us/step - loss: 0.0886 - acc: 0.9436 - val_loss: 0.2061 - val_acc: 0.9357\n",
      "Epoch 125/150\n",
      "7758144/7758144 [==============================] - 107s 14us/step - loss: 0.0883 - acc: 0.9440 - val_loss: 0.2051 - val_acc: 0.9367\n",
      "Epoch 126/150\n",
      "7758144/7758144 [==============================] - 104s 13us/step - loss: 0.0883 - acc: 0.9441 - val_loss: 0.2096 - val_acc: 0.9367\n",
      "Epoch 127/150\n",
      "7758144/7758144 [==============================] - 108s 14us/step - loss: 0.0881 - acc: 0.9444 - val_loss: 0.2105 - val_acc: 0.9387\n",
      "Epoch 128/150\n",
      "7758144/7758144 [==============================] - 105s 14us/step - loss: 0.0880 - acc: 0.9444 - val_loss: 0.2141 - val_acc: 0.9364\n",
      "Epoch 129/150\n",
      "7758144/7758144 [==============================] - 95s 12us/step - loss: 0.0882 - acc: 0.9442 - val_loss: 0.2112 - val_acc: 0.9366\n",
      "Epoch 130/150\n",
      "7758144/7758144 [==============================] - 96s 12us/step - loss: 0.0883 - acc: 0.9441 - val_loss: 0.2181 - val_acc: 0.9299\n",
      "Epoch 131/150\n",
      "7758144/7758144 [==============================] - 95s 12us/step - loss: 0.0881 - acc: 0.9444 - val_loss: 0.2069 - val_acc: 0.9368\n",
      "Epoch 132/150\n",
      "7758144/7758144 [==============================] - 96s 12us/step - loss: 0.0881 - acc: 0.9443 - val_loss: 0.2087 - val_acc: 0.9364\n",
      "Epoch 133/150\n",
      "7758144/7758144 [==============================] - 96s 12us/step - loss: 0.0881 - acc: 0.9443 - val_loss: 0.2108 - val_acc: 0.9353\n",
      "Epoch 134/150\n",
      "7758144/7758144 [==============================] - 96s 12us/step - loss: 0.0881 - acc: 0.9442 - val_loss: 0.2196 - val_acc: 0.9285\n",
      "Epoch 135/150\n",
      "7758144/7758144 [==============================] - 96s 12us/step - loss: 0.0882 - acc: 0.9440 - val_loss: 0.2140 - val_acc: 0.9290\n",
      "Epoch 136/150\n",
      "7758144/7758144 [==============================] - 96s 12us/step - loss: 0.0883 - acc: 0.9441 - val_loss: 0.2069 - val_acc: 0.9420\n",
      "Epoch 137/150\n",
      "7758144/7758144 [==============================] - 96s 12us/step - loss: 0.0879 - acc: 0.9446 - val_loss: 0.2108 - val_acc: 0.9362\n",
      "Epoch 138/150\n",
      "7758144/7758144 [==============================] - 96s 12us/step - loss: 0.0879 - acc: 0.9445 - val_loss: 0.2143 - val_acc: 0.9360\n",
      "Epoch 139/150\n",
      "7758144/7758144 [==============================] - 96s 12us/step - loss: 0.0881 - acc: 0.9444 - val_loss: 0.2081 - val_acc: 0.9283\n",
      "Epoch 140/150\n",
      "7758144/7758144 [==============================] - 96s 12us/step - loss: 0.0883 - acc: 0.9440 - val_loss: 0.2133 - val_acc: 0.9283\n",
      "Epoch 141/150\n",
      "7758144/7758144 [==============================] - 96s 12us/step - loss: 0.0882 - acc: 0.9442 - val_loss: 0.2125 - val_acc: 0.9279\n",
      "Epoch 142/150\n",
      "7758144/7758144 [==============================] - 96s 12us/step - loss: 0.0879 - acc: 0.9446 - val_loss: 0.2073 - val_acc: 0.9365\n",
      "Epoch 143/150\n",
      "7758144/7758144 [==============================] - 96s 12us/step - loss: 0.0880 - acc: 0.9445 - val_loss: 0.2201 - val_acc: 0.9284\n",
      "Epoch 144/150\n",
      "7758144/7758144 [==============================] - 95s 12us/step - loss: 0.0881 - acc: 0.9444 - val_loss: 0.2078 - val_acc: 0.9283\n",
      "Epoch 145/150\n",
      "7758144/7758144 [==============================] - 96s 12us/step - loss: 0.0882 - acc: 0.9442 - val_loss: 0.2112 - val_acc: 0.9283\n",
      "Epoch 146/150\n",
      "7758144/7758144 [==============================] - 96s 12us/step - loss: 0.0880 - acc: 0.9444 - val_loss: 0.2106 - val_acc: 0.9366\n",
      "Epoch 147/150\n",
      "7758144/7758144 [==============================] - 96s 12us/step - loss: 0.0879 - acc: 0.9446 - val_loss: 0.2184 - val_acc: 0.9353\n",
      "Epoch 148/150\n",
      "7758144/7758144 [==============================] - 96s 12us/step - loss: 0.0879 - acc: 0.9447 - val_loss: 0.2146 - val_acc: 0.9347\n",
      "Epoch 149/150\n",
      "7758144/7758144 [==============================] - 115s 15us/step - loss: 0.0879 - acc: 0.9446 - val_loss: 0.2068 - val_acc: 0.9363\n",
      "Epoch 150/150\n",
      "7758144/7758144 [==============================] - 105s 14us/step - loss: 0.0882 - acc: 0.9442 - val_loss: 0.2062 - val_acc: 0.9366\n"
     ]
    },
    {
     "data": {
      "text/plain": [
       "130"
      ]
     },
     "execution_count": 6,
     "metadata": {},
     "output_type": "execute_result"
    }
   ],
   "source": [
    "gc.collect()\n",
    "print(\"start training\")\n",
    "# control NN's option\n",
    "# batch_size = 256\n",
    "# epoch = 10\n",
    "batch_size = 10240\n",
    "epoch = 150  #10\n",
    "\n",
    "# class_weight = {0:0.1, 1:0.9}\n",
    "class_weight = {0:0.5, 1:0.5}\n",
    "# class_weight = {0:0.95, 1:0.05}\n",
    "\n",
    "exp_decay = lambda init, fin, steps: (init/fin)**(1/(steps-1)) - 1\n",
    "steps = int(len(list(x_train)[0]) / batch_size) * epoch\n",
    "lr_init, lr_fin = 0.0012, 0.0008 # lr=0.001 default \n",
    "lr_decay = exp_decay(lr_init, lr_fin, steps)\n",
    "optimizer_adam = optimizers.Adam(lr=0.002, decay=lr_decay)\n",
    "\n",
    "######################\n",
    "# compile + training\n",
    "model.compile(loss='binary_crossentropy',optimizer=optimizer_adam,metrics=['accuracy'])\n",
    "model.fit(x_train,y_train,batch_size = batch_size,epochs=epoch,validation_data=(x_val,y_val),class_weight=class_weight)\n",
    "\n",
    "del x_train, y_train; gc.collect()"
   ]
  },
  {
   "cell_type": "code",
   "execution_count": 7,
   "metadata": {},
   "outputs": [
    {
     "name": "stdout",
     "output_type": "stream",
     "text": [
      "[[ 0.09383117]\n",
      " [ 0.04173271]\n",
      " [ 0.02095571]\n",
      " ..., \n",
      " [ 0.01859883]\n",
      " [ 0.01936298]\n",
      " [ 0.01892712]]\n",
      "((862016, 1), (862016,))\n",
      "         app  device  os  channel  weekday  hour\n",
      "7141719    7       1  19      101        1     2\n",
      "3582802   29       2  37      213        1     1\n",
      "4680594   17       1  41      280        1    12\n",
      "5053536    1       1  17      349        3     4\n",
      "5769792   19       0  21      268        2    22\n"
     ]
    },
    {
     "data": {
      "image/png": "[encoded data removed]",
      "text/plain": [
       "<matplotlib.figure.Figure at 0x10a1e2e10>"
      ]
     },
     "metadata": {},
     "output_type": "display_data"
    }
   ],
   "source": [
    "kk = model.predict(x_val,batch_size=batch_size,verbose=2)\n",
    "print(kk)\n",
    "\n",
    "print(kk.shape,y_val.shape)\n",
    "plt.hist(np.round(kk))\n",
    "plt.hist(y_val)\n",
    "print(x_val.head())\n"
   ]
  },
  {
   "cell_type": "code",
   "execution_count": 8,
   "metadata": {},
   "outputs": [
    {
     "name": "stdout",
     "output_type": "stream",
     "text": [
      "Saved model to disk\n"
     ]
    }
   ],
   "source": [
    "print(\"Saved model to disk\")\n",
    "json_string = model.to_json()\n",
    "with open(\"saved_models/model3.json\", \"w\") as json_file:\n",
    "    json_file.write(json_string)\n",
    "model.save_weights('saved_models/weights3.h5')"
   ]
  },
  {
   "cell_type": "code",
   "execution_count": 9,
   "metadata": {},
   "outputs": [
    {
     "name": "stdout",
     "output_type": "stream",
     "text": [
      "predicting_test_sample\n",
      "   Unnamed: 0     ip  app  device  os  channel           click_time  \\\n",
      "0   178450426  63051   26       1  19      266  2017-11-09 14:00:13   \n",
      "1   160852079  49602   26       2  19      266  2017-11-09 08:36:15   \n",
      "2   118079796  25648    2       1   6      477  2017-11-08 14:49:12   \n",
      "3   162379166   2965    8       1  19      140  2017-11-09 09:08:20   \n",
      "4    84248176  20578   18       1  10      134  2017-11-08 04:33:53   \n",
      "\n",
      "  attributed_time  is_attributed  \n",
      "0             NaN              0  \n",
      "1             NaN              0  \n",
      "2             NaN              0  \n",
      "3             NaN              0  \n",
      "4             NaN              0  \n"
     ]
    }
   ],
   "source": [
    "print(\"predicting_test_sample\")\n",
    "dff = pd.read_csv('input_data/test_sampling5.csv')\n",
    "print(dff.head())\n",
    "dff, yy = clear_data(dff,'train')\n",
    "dff = dff.drop(columns=['Unnamed: 0'])\n",
    "output = model.predict(dff,batch_size=batch_size,verbose=2)\n"
   ]
  },
  {
   "cell_type": "code",
   "execution_count": 11,
   "metadata": {},
   "outputs": [
    {
     "name": "stdout",
     "output_type": "stream",
     "text": [
      "[ 0.04842096  0.04885194  0.01897623 ...,  0.0188527   0.01941984\n",
      "  0.01983825]\n",
      "(18490389,)\n"
     ]
    },
    {
     "data": {
      "text/plain": [
       "(array([ 18445120.,         0.,         0.,         0.,         0.,\n",
       "                0.,         0.,         0.,         0.,     45269.]),\n",
       " array([ 0. ,  0.1,  0.2,  0.3,  0.4,  0.5,  0.6,  0.7,  0.8,  0.9,  1. ]),\n",
       " <a list of 10 Patch objects>)"
      ]
     },
     "execution_count": 11,
     "metadata": {},
     "output_type": "execute_result"
    },
    {
     "data": {
      "image/png": "[encoded data removed]",
      "text/plain": [
       "<matplotlib.figure.Figure at 0x1a13e4c110>"
      ]
     },
     "metadata": {},
     "output_type": "display_data"
    }
   ],
   "source": [
    "print(np.reshape(output,18490389))\n",
    "print(yy.shape)\n",
    "# dd = np.array([np.reshape(output,18490389),yy.values])\n",
    "\n",
    "plt.hist(yy)\n",
    "\n"
   ]
  },
  {
   "cell_type": "code",
   "execution_count": 10,
   "metadata": {},
   "outputs": [
    {
     "data": {
      "text/plain": [
       "(array([  1.77557340e+07,   3.83489000e+05,   6.46730000e+04,\n",
       "          3.79700000e+03,   2.23600000e+03,   2.62000000e+03,\n",
       "          1.05144000e+05,   3.02980000e+04,   7.23200000e+03,\n",
       "          1.35166000e+05]),\n",
       " array([ 0.0151433 ,  0.09926599,  0.18338868,  0.26751138,  0.35163407,\n",
       "         0.43575676,  0.51987945,  0.60400214,  0.68812483,  0.77224752,\n",
       "         0.85637021]),\n",
       " <a list of 10 Patch objects>)"
      ]
     },
     "execution_count": 10,
     "metadata": {},
     "output_type": "execute_result"
    },
    {
     "data": {
      "image/png": "[encoded data removed]",
      "text/plain": [
       "<matplotlib.figure.Figure at 0x10626c810>"
      ]
     },
     "metadata": {},
     "output_type": "display_data"
    }
   ],
   "source": [
    "plt.hist(output)"
   ]
  },
  {
   "cell_type": "code",
   "execution_count": 12,
   "metadata": {},
   "outputs": [
    {
     "name": "stdout",
     "output_type": "stream",
     "text": [
      "predicting\n",
      "finish read test data\n"
     ]
    }
   ],
   "source": [
    "print(\"predicting\")\n",
    "df_sub = pd.DataFrame()\n",
    "ttest = pd.read_csv('input_data/kaggle_test.csv')\n",
    "print(\"finish read test data\")\n",
    "\n",
    "ttest, idd = clear_data(ttest,'test')\n",
    "df_sub['click_id'] = idd.astype('int32')\n",
    "df_sub['is_attributed'] = model.predict(ttest,batch_size=batch_size,verbose=2)\n",
    "\n"
   ]
  },
  {
   "cell_type": "code",
   "execution_count": 13,
   "metadata": {},
   "outputs": [
    {
     "name": "stdout",
     "output_type": "stream",
     "text": [
      "check result\n",
      "           click_id  is_attributed\n",
      "count  1.879047e+07   1.879047e+07\n",
      "mean   9.395234e+06   5.289930e-02\n",
      "std    5.424341e+06   1.280222e-01\n",
      "min    0.000000e+00   1.771144e-02\n",
      "25%    4.697617e+06   1.885060e-02\n",
      "50%    9.395234e+06   1.930582e-02\n",
      "75%    1.409285e+07   2.038818e-02\n",
      "max    1.879047e+07   8.563643e-01\n"
     ]
    },
    {
     "data": {
      "text/plain": [
       "(array([  1.78985720e+07,   2.19862000e+05,   1.00022000e+05,\n",
       "          2.64500000e+03,   1.35000000e+03,   2.99800000e+03,\n",
       "          7.45600000e+03,   1.05830000e+05,   1.61897000e+05,\n",
       "          2.89837000e+05]),\n",
       " array([ 0.01771144,  0.10157673,  0.18544202,  0.2693073 ,  0.35317259,\n",
       "         0.43703788,  0.52090316,  0.60476845,  0.68863374,  0.77249902,\n",
       "         0.85636431]),\n",
       " <a list of 10 Patch objects>)"
      ]
     },
     "execution_count": 13,
     "metadata": {},
     "output_type": "execute_result"
    },
    {
     "data": {
      "image/png": "[encoded data removed]",
      "text/plain": [
       "<matplotlib.figure.Figure at 0x1a934e9810>"
      ]
     },
     "metadata": {},
     "output_type": "display_data"
    }
   ],
   "source": [
    "print(\"check result\")\n",
    "print(df_sub.describe())\n",
    "plt.hist(df_sub['is_attributed'])"
   ]
  },
  {
   "cell_type": "code",
   "execution_count": 14,
   "metadata": {},
   "outputs": [
    {
     "name": "stdout",
     "output_type": "stream",
     "text": [
      "save the result\n"
     ]
    }
   ],
   "source": [
    "print(\"save the result\")\n",
    "df_sub.to_csv('sub_result/result_code3_sample5.csv',index=False)\n",
    "\n",
    "\n"
   ]
  },
  {
   "cell_type": "code",
   "execution_count": 15,
   "metadata": {},
   "outputs": [
    {
     "data": {
      "text/plain": [
       "(array([ 18224792.,         0.,         0.,         0.,         0.,\n",
       "                0.,         0.,         0.,         0.,    565677.]),\n",
       " array([ 0. ,  0.1,  0.2,  0.3,  0.4,  0.5,  0.6,  0.7,  0.8,  0.9,  1. ]),\n",
       " <a list of 10 Patch objects>)"
      ]
     },
     "execution_count": 15,
     "metadata": {},
     "output_type": "execute_result"
    },
    {
     "data": {
      "image/png": "[encoded data removed]",
      "text/plain": [
       "<matplotlib.figure.Figure at 0x1a860c3a10>"
      ]
     },
     "metadata": {},
     "output_type": "display_data"
    }
   ],
   "source": [
    "plt.hist(np.round(df_sub['is_attributed']))"
   ]
  },
  {
   "cell_type": "code",
   "execution_count": null,
   "metadata": {},
   "outputs": [],
   "source": []
  }
 ],
 "metadata": {
  "kernelspec": {
   "display_name": "Python 2",
   "language": "python",
   "name": "python2"
  },
  "language_info": {
   "codemirror_mode": {
    "name": "ipython",
    "version": 2
   },
   "file_extension": ".py",
   "mimetype": "text/x-python",
   "name": "python",
   "nbconvert_exporter": "python",
   "pygments_lexer": "ipython2",
   "version": "2.7.14"
  }
 },
 "nbformat": 4,
 "nbformat_minor": 2
}
