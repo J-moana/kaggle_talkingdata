{
 "cells": [
  {
   "cell_type": "code",
   "execution_count": 1,
   "metadata": {},
   "outputs": [
    {
     "name": "stderr",
     "output_type": "stream",
     "text": [
      "Using TensorFlow backend.\n"
     ]
    }
   ],
   "source": [
    "import numpy as np\n",
    "import pandas as pd\n",
    "import matplotlib.pyplot as plt\n",
    "from keras.preprocessing import sequence\n",
    "from keras.models import Sequential, model_from_json\n",
    "from keras.layers import Dense, Dropout\n",
    "from keras import initializers\n",
    "from sklearn.model_selection import train_test_split\n",
    "from keras.layers.normalization import BatchNormalization\n",
    "from keras import optimizers\n",
    "from keras import initializers\n",
    "import gc"
   ]
  },
  {
   "cell_type": "code",
   "execution_count": 2,
   "metadata": {},
   "outputs": [],
   "source": [
    "# function for clearning train data!\n",
    "# + remove IP\n",
    "def clear_data(df, option):\n",
    "    \n",
    "    df['click_time'] = pd.to_datetime(df['click_time'])\n",
    "    df['weekday'] = df['click_time'].dt.dayofweek\n",
    "    df['hour'] = df['click_time'].dt.hour\n",
    "    df = df.drop(columns=['ip','click_time'])\n",
    "    if (option == 'train'):\n",
    "        y = df['is_attributed']\n",
    "        df = df.drop(columns=['is_attributed','attributed_time'], axis=1)\n",
    "        return df, y\n",
    "    elif (option == 'test'):\n",
    "        sub_id = df['click_id']\n",
    "        df = df.drop(columns=['click_id'], axis=1)\n",
    "        return df, sub_id\n",
    "    \n",
    "    "
   ]
  },
  {
   "cell_type": "code",
   "execution_count": 3,
   "metadata": {},
   "outputs": [
    {
     "name": "stdout",
     "output_type": "stream",
     "text": [
      "load 10% training sample + train/val\n",
      "          app  device  os  channel  weekday  hour\n",
      "20199870    2       2   9      237        0    16\n",
      "5586802    15       1  19      480        1     2\n",
      "          app  device  os  channel  weekday  hour\n",
      "20062824   64       1  15      459        1     7\n",
      "6206325    12       1  16      259        3     9\n",
      "20199870    0\n",
      "5586802     0\n",
      "Name: is_attributed, dtype: int64\n",
      "20062824    0\n",
      "6206325     0\n",
      "Name: is_attributed, dtype: int64\n"
     ]
    },
    {
     "data": {
      "text/plain": [
       "89"
      ]
     },
     "execution_count": 3,
     "metadata": {},
     "output_type": "execute_result"
    }
   ],
   "source": [
    "print('load 10% training sample + train/val')\n",
    "df = pd.read_csv('input_data/train_sampling2.csv')\n",
    "df, y = clear_data(df,'train')\n",
    "x_train, x_val, y_train, y_val = train_test_split(df,y,test_size=0.1)\n",
    "\n",
    "x_train= x_train.drop(columns=['Unnamed: 0'])\n",
    "x_val= x_val.drop(columns=['Unnamed: 0'])\n",
    "\n",
    "print(x_train.head(2))\n",
    "print(x_val.head(2))\n",
    "print(y_train.head(2))\n",
    "print(y_val.head(2))\n",
    "del df, y; gc.collect()"
   ]
  },
  {
   "cell_type": "code",
   "execution_count": 4,
   "metadata": {},
   "outputs": [
    {
     "name": "stdout",
     "output_type": "stream",
     "text": [
      "define NN\n"
     ]
    }
   ],
   "source": [
    "print(\"define NN\")\n",
    "model = Sequential()\n",
    "# give options of Dense, \n",
    "# https://github.com/keras-team/keras/blob/befbdaa076eedb2787ce340b1a5b4accf93d123d/examples/mnist_irnn.py\n",
    "# RNN?? next try!\n",
    "kernel_init=initializers.RandomNormal(mean=0.0, stddev=0.05, seed=None)\n",
    "\n",
    "# structure of NN: 16 - 64 - 32 - 16 - sigmoid\n",
    "model.add(Dense(16,activation='relu',kernel_initializer=kernel_init,\n",
    "                bias_initializer='zeros',input_shape=(x_train.shape[1],)))\n",
    "model.add(BatchNormalization())\n",
    "model.add(Dropout(0.2))\n",
    "\n",
    "\n",
    "model.add(Dense(64,kernel_initializer=kernel_init,\n",
    "                bias_initializer='zeros',activation='relu'))\n",
    "model.add(BatchNormalization())\n",
    "model.add(Dropout(0.5))\n",
    "\n",
    "model.add(Dense(32,kernel_initializer=kernel_init,\n",
    "                bias_initializer='zeros',activation='relu'))\n",
    "model.add(BatchNormalization())\n",
    "model.add(Dropout(0.5))\n",
    "\n",
    "model.add(Dense(16,kernel_initializer=kernel_init,activation='relu'))\n",
    "model.add(BatchNormalization())\n",
    "model.add(Dropout(0.25))\n",
    "\n",
    "model.add(Dense(1,activation='sigmoid'))\n"
   ]
  },
  {
   "cell_type": "code",
   "execution_count": 5,
   "metadata": {},
   "outputs": [
    {
     "name": "stdout",
     "output_type": "stream",
     "text": [
      "_________________________________________________________________\n",
      "Layer (type)                 Output Shape              Param #   \n",
      "=================================================================\n",
      "dense_1 (Dense)              (None, 16)                112       \n",
      "_________________________________________________________________\n",
      "batch_normalization_1 (Batch (None, 16)                64        \n",
      "_________________________________________________________________\n",
      "dropout_1 (Dropout)          (None, 16)                0         \n",
      "_________________________________________________________________\n",
      "dense_2 (Dense)              (None, 64)                1088      \n",
      "_________________________________________________________________\n",
      "batch_normalization_2 (Batch (None, 64)                256       \n",
      "_________________________________________________________________\n",
      "dropout_2 (Dropout)          (None, 64)                0         \n",
      "_________________________________________________________________\n",
      "dense_3 (Dense)              (None, 32)                2080      \n",
      "_________________________________________________________________\n",
      "batch_normalization_3 (Batch (None, 32)                128       \n",
      "_________________________________________________________________\n",
      "dropout_3 (Dropout)          (None, 32)                0         \n",
      "_________________________________________________________________\n",
      "dense_4 (Dense)              (None, 16)                528       \n",
      "_________________________________________________________________\n",
      "batch_normalization_4 (Batch (None, 16)                64        \n",
      "_________________________________________________________________\n",
      "dropout_4 (Dropout)          (None, 16)                0         \n",
      "_________________________________________________________________\n",
      "dense_5 (Dense)              (None, 1)                 17        \n",
      "=================================================================\n",
      "Total params: 4,337\n",
      "Trainable params: 4,081\n",
      "Non-trainable params: 256\n",
      "_________________________________________________________________\n"
     ]
    }
   ],
   "source": [
    "model.summary()"
   ]
  },
  {
   "cell_type": "code",
   "execution_count": 6,
   "metadata": {},
   "outputs": [
    {
     "name": "stdout",
     "output_type": "stream",
     "text": [
      "start training\n",
      "Train on 18505350 samples, validate on 2056150 samples\n",
      "Epoch 1/10\n",
      "18505350/18505350 [==============================] - 372s 20us/step - loss: 0.0385 - acc: 0.9787 - val_loss: 0.0660 - val_acc: 0.9836\n",
      "Epoch 2/10\n",
      "18505350/18505350 [==============================] - 377s 20us/step - loss: 0.0340 - acc: 0.9799 - val_loss: 0.0616 - val_acc: 0.9836\n",
      "Epoch 3/10\n",
      "18505350/18505350 [==============================] - 376s 20us/step - loss: 0.0337 - acc: 0.9803 - val_loss: 0.0630 - val_acc: 0.9836\n",
      "Epoch 4/10\n",
      "18505350/18505350 [==============================] - 378s 20us/step - loss: 0.0335 - acc: 0.9804 - val_loss: 0.0623 - val_acc: 0.9832\n",
      "Epoch 5/10\n",
      "18505350/18505350 [==============================] - 379s 20us/step - loss: 0.0333 - acc: 0.9804 - val_loss: 0.0630 - val_acc: 0.9832\n",
      "Epoch 6/10\n",
      "18505350/18505350 [==============================] - 383s 21us/step - loss: 0.0332 - acc: 0.9804 - val_loss: 0.0626 - val_acc: 0.9832\n",
      "Epoch 7/10\n",
      "18505350/18505350 [==============================] - 379s 20us/step - loss: 0.0330 - acc: 0.9805 - val_loss: 0.0607 - val_acc: 0.9832\n",
      "Epoch 8/10\n",
      "18505350/18505350 [==============================] - 385s 21us/step - loss: 0.0329 - acc: 0.9805 - val_loss: 0.0616 - val_acc: 0.9832\n",
      "Epoch 9/10\n",
      "18505350/18505350 [==============================] - 390s 21us/step - loss: 0.0329 - acc: 0.9805 - val_loss: 0.0620 - val_acc: 0.9833\n",
      "Epoch 10/10\n",
      "18505350/18505350 [==============================] - 375s 20us/step - loss: 0.0328 - acc: 0.9806 - val_loss: 0.0612 - val_acc: 0.9834\n"
     ]
    },
    {
     "data": {
      "text/plain": [
       "80"
      ]
     },
     "execution_count": 6,
     "metadata": {},
     "output_type": "execute_result"
    }
   ],
   "source": [
    "gc.collect()\n",
    "print(\"start training\")\n",
    "# control NN's option\n",
    "# batch_size = 256\n",
    "# epoch = 10\n",
    "batch_size = 1024\n",
    "epoch = 10\n",
    "\n",
    "# class_weight = {0:0.1, 1:0.9}\n",
    "class_weight = {0:0.5, 1:0.5}\n",
    "# class_weight = {0:0.95, 1:0.05}\n",
    "\n",
    "exp_decay = lambda init, fin, steps: (init/fin)**(1/(steps-1)) - 1\n",
    "steps = int(len(list(x_train)[0]) / batch_size) * epoch\n",
    "lr_init, lr_fin = 0.0012, 0.0008 # lr=0.001 default \n",
    "lr_decay = exp_decay(lr_init, lr_fin, steps)\n",
    "optimizer_adam = optimizers.Adam(lr=0.002, decay=lr_decay)\n",
    "\n",
    "######################\n",
    "# compile + training\n",
    "model.compile(loss='binary_crossentropy',optimizer=optimizer_adam,metrics=['accuracy'])\n",
    "model.fit(x_train,y_train,batch_size = batch_size,epochs=epoch,validation_data=(x_val,y_val),class_weight=class_weight)\n",
    "\n",
    "del x_train, y_train; gc.collect()"
   ]
  },
  {
   "cell_type": "code",
   "execution_count": 7,
   "metadata": {},
   "outputs": [
    {
     "name": "stdout",
     "output_type": "stream",
     "text": [
      "[[ 0.04780268]\n",
      " [ 0.0037349 ]\n",
      " [ 0.0079    ]\n",
      " ..., \n",
      " [ 0.00407102]\n",
      " [ 0.00408106]\n",
      " [ 0.00389399]]\n",
      "((2056150, 1), (2056150,))\n",
      "          app  device  os  channel  weekday  hour\n",
      "20062824   64       1  15      459        1     7\n",
      "6206325    12       1  16      259        3     9\n",
      "20429692   15       1   6      386        3     1\n",
      "372184     15       1  15      245        2     1\n",
      "1138350     1       1  10      439        3    14\n"
     ]
    },
    {
     "data": {
      "image/png": "[encoded data removed]",
      "text/plain": [
       "<matplotlib.figure.Figure at 0x1a15bf4c50>"
      ]
     },
     "metadata": {},
     "output_type": "display_data"
    }
   ],
   "source": [
    "kk = model.predict(x_val,batch_size=batch_size,verbose=2)\n",
    "print(kk)\n",
    "\n",
    "print(kk.shape,y_val.shape)\n",
    "plt.hist(np.round(kk))\n",
    "plt.hist(y_val)\n",
    "print(x_val.head())\n"
   ]
  },
  {
   "cell_type": "code",
   "execution_count": 8,
   "metadata": {},
   "outputs": [
    {
     "name": "stdout",
     "output_type": "stream",
     "text": [
      "Saved model to disk\n"
     ]
    }
   ],
   "source": [
    "print(\"Saved model to disk\")\n",
    "json_string = model.to_json()\n",
    "with open(\"saved_models/model3.json\", \"w\") as json_file:\n",
    "    json_file.write(json_string)\n",
    "model.save_weights('saved_models/weights3.h5')"
   ]
  },
  {
   "cell_type": "code",
   "execution_count": 9,
   "metadata": {},
   "outputs": [
    {
     "name": "stdout",
     "output_type": "stream",
     "text": [
      "predicting_test_sample\n",
      "   Unnamed: 0      ip  app  device  os  channel           click_time  \\\n",
      "0    74817458  170903   18       1  49      439  2017-11-08 01:45:53   \n",
      "1     7284525   14751    2       1  13      205  2017-11-06 23:10:42   \n",
      "2    10045104  107021   13       1  13      477  2017-11-07 00:12:47   \n",
      "3   142591786   41805    3       1  19      173  2017-11-09 03:23:17   \n",
      "4   108780762   82168   12       1  13      245  2017-11-08 12:14:03   \n",
      "\n",
      "  attributed_time  is_attributed  \n",
      "0             NaN              0  \n",
      "1             NaN              0  \n",
      "2             NaN              0  \n",
      "3             NaN              0  \n",
      "4             NaN              0  \n"
     ]
    }
   ],
   "source": [
    "print(\"predicting_test_sample\")\n",
    "dff = pd.read_csv('input_data/test_sampling2.csv')\n",
    "print(dff.head())\n",
    "dff, yy = clear_data(dff,'train')\n",
    "dff = dff.drop(columns=['Unnamed: 0'])\n",
    "output = model.predict(dff,batch_size=batch_size,verbose=2)\n"
   ]
  },
  {
   "cell_type": "code",
   "execution_count": 10,
   "metadata": {},
   "outputs": [
    {
     "name": "stdout",
     "output_type": "stream",
     "text": [
      "[ 0.00485086  0.00536655  0.00399976 ...,  0.0036593   0.03696555\n",
      "  0.00386113]\n",
      "(18490389,)\n"
     ]
    },
    {
     "data": {
      "text/plain": [
       "(array([ 18444773.,         0.,         0.,         0.,         0.,\n",
       "                0.,         0.,         0.,         0.,     45616.]),\n",
       " array([ 0. ,  0.1,  0.2,  0.3,  0.4,  0.5,  0.6,  0.7,  0.8,  0.9,  1. ]),\n",
       " <a list of 10 Patch objects>)"
      ]
     },
     "execution_count": 10,
     "metadata": {},
     "output_type": "execute_result"
    },
    {
     "data": {
      "image/png": "[encoded data removed]",
      "text/plain": [
       "<matplotlib.figure.Figure at 0x1a193ca510>"
      ]
     },
     "metadata": {},
     "output_type": "display_data"
    }
   ],
   "source": [
    "print(np.reshape(output,18490389))\n",
    "print(yy.shape)\n",
    "# dd = np.array([np.reshape(output,18490389),yy.values])\n",
    "plt.hist(output)\n",
    "plt.hist(yy)\n",
    "\n"
   ]
  },
  {
   "cell_type": "code",
   "execution_count": 11,
   "metadata": {},
   "outputs": [
    {
     "data": {
      "text/plain": [
       "(array([  1.80689270e+07,   9.37360000e+04,   1.08960000e+04,\n",
       "          6.22900000e+03,   1.36100000e+03,   1.02141000e+05,\n",
       "          5.86720000e+04,   6.10900000e+03,   9.36170000e+04,\n",
       "          4.87010000e+04]),\n",
       " array([ 0.0026773 ,  0.0702346 ,  0.1377919 ,  0.2053492 ,  0.2729065 ,\n",
       "         0.34046381,  0.40802111,  0.47557841,  0.54313571,  0.61069301,\n",
       "         0.67825031]),\n",
       " <a list of 10 Patch objects>)"
      ]
     },
     "execution_count": 11,
     "metadata": {},
     "output_type": "execute_result"
    },
    {
     "data": {
      "image/png": "[encoded data removed]",
      "text/plain": [
       "<matplotlib.figure.Figure at 0x10869be90>"
      ]
     },
     "metadata": {},
     "output_type": "display_data"
    }
   ],
   "source": [
    "plt.hist(output)"
   ]
  },
  {
   "cell_type": "code",
   "execution_count": null,
   "metadata": {},
   "outputs": [
    {
     "name": "stdout",
     "output_type": "stream",
     "text": [
      "predicting\n",
      "finish read test data\n"
     ]
    }
   ],
   "source": [
    "print(\"predicting\")\n",
    "df_sub = pd.DataFrame()\n",
    "ttest = pd.read_csv('input_data/kaggle_test.csv')\n",
    "print(\"finish read test data\")\n",
    "\n",
    "ttest, idd = clear_data(ttest,'test')\n",
    "df_sub['click_id'] = idd.astype('int32')\n",
    "df_sub['is_attributed'] = model.predict(ttest,batch_size=batch_size,verbose=2)\n",
    "\n"
   ]
  },
  {
   "cell_type": "code",
   "execution_count": null,
   "metadata": {},
   "outputs": [],
   "source": [
    "print(\"check result\")\n",
    "print(df_sub.describe())\n",
    "plt.hist(df_sub['is_attributed'])"
   ]
  },
  {
   "cell_type": "code",
   "execution_count": null,
   "metadata": {},
   "outputs": [],
   "source": [
    "print(\"save the result\")\n",
    "df_sub.to_csv('sub_result/result_code3_sample2.csv',index=False)\n",
    "\n",
    "\n"
   ]
  },
  {
   "cell_type": "code",
   "execution_count": null,
   "metadata": {},
   "outputs": [],
   "source": [
    "plt.hist(np.round(df_sub['is_attributed']))"
   ]
  },
  {
   "cell_type": "code",
   "execution_count": null,
   "metadata": {},
   "outputs": [],
   "source": []
  }
 ],
 "metadata": {
  "kernelspec": {
   "display_name": "Python 2",
   "language": "python",
   "name": "python2"
  },
  "language_info": {
   "codemirror_mode": {
    "name": "ipython",
    "version": 2
   },
   "file_extension": ".py",
   "mimetype": "text/x-python",
   "name": "python",
   "nbconvert_exporter": "python",
   "pygments_lexer": "ipython2",
   "version": "2.7.14"
  }
 },
 "nbformat": 4,
 "nbformat_minor": 2
}
