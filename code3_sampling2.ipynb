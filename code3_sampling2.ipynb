{
 "cells": [
  {
   "cell_type": "code",
   "execution_count": 1,
   "metadata": {},
   "outputs": [
    {
     "name": "stderr",
     "output_type": "stream",
     "text": [
      "Using TensorFlow backend.\n"
     ]
    }
   ],
   "source": [
    "import numpy as np\n",
    "import pandas as pd\n",
    "import matplotlib.pyplot as plt\n",
    "from keras.preprocessing import sequence\n",
    "from keras.models import Sequential, model_from_json\n",
    "from keras.layers import Dense, Dropout\n",
    "from keras import initializers\n",
    "from sklearn.model_selection import train_test_split\n",
    "from keras.layers.normalization import BatchNormalization\n",
    "from keras import optimizers\n",
    "from keras import initializers\n",
    "import gc"
   ]
  },
  {
   "cell_type": "code",
   "execution_count": 2,
   "metadata": {},
   "outputs": [],
   "source": [
    "# function for clearning train data!\n",
    "# + remove IP\n",
    "def clear_data(df, option):\n",
    "    \n",
    "    df['click_time'] = pd.to_datetime(df['click_time'])\n",
    "    df['weekday'] = df['click_time'].dt.dayofweek\n",
    "    df['hour'] = df['click_time'].dt.hour\n",
    "    df = df.drop(columns=['ip','click_time'])\n",
    "    if (option == 'train'):\n",
    "        y = df['is_attributed']\n",
    "        df = df.drop(columns=['is_attributed','attributed_time'], axis=1)\n",
    "        return df, y\n",
    "    elif (option == 'test'):\n",
    "        sub_id = df['click_id']\n",
    "        df = df.drop(columns=['click_id'], axis=1)\n",
    "        return df, sub_id\n",
    "    \n",
    "    "
   ]
  },
  {
   "cell_type": "code",
   "execution_count": 3,
   "metadata": {},
   "outputs": [
    {
     "name": "stdout",
     "output_type": "stream",
     "text": [
      "load 10% training sample + train/val\n",
      "          app  device  os  channel  weekday  hour\n",
      "19733111    9       1  19      442        0    23\n",
      "20552317   15       1   3        3        2    12\n",
      "          app  device  os  channel  weekday  hour\n",
      "10267600   15       1  13      245        3     5\n",
      "17481915   18       1   3      107        1     0\n",
      "19733111    0\n",
      "20552317    0\n",
      "Name: is_attributed, dtype: int64\n",
      "10267600    0\n",
      "17481915    0\n",
      "Name: is_attributed, dtype: int64\n"
     ]
    },
    {
     "data": {
      "text/plain": [
       "89"
      ]
     },
     "execution_count": 3,
     "metadata": {},
     "output_type": "execute_result"
    }
   ],
   "source": [
    "print('load 10% training sample + train/val')\n",
    "df = pd.read_csv('input_data/train_sampling2.csv')\n",
    "df, y = clear_data(df,'train')\n",
    "x_train, x_val, y_train, y_val = train_test_split(df,y,test_size=0.1)\n",
    "\n",
    "x_train= x_train.drop(columns=['Unnamed: 0'])\n",
    "x_val= x_val.drop(columns=['Unnamed: 0'])\n",
    "\n",
    "print(x_train.head(2))\n",
    "print(x_val.head(2))\n",
    "print(y_train.head(2))\n",
    "print(y_val.head(2))\n",
    "del df, y; gc.collect()"
   ]
  },
  {
   "cell_type": "code",
   "execution_count": 4,
   "metadata": {},
   "outputs": [
    {
     "name": "stdout",
     "output_type": "stream",
     "text": [
      "define NN\n"
     ]
    }
   ],
   "source": [
    "print(\"define NN\")\n",
    "model = Sequential()\n",
    "# give options of Dense, \n",
    "# https://github.com/keras-team/keras/blob/befbdaa076eedb2787ce340b1a5b4accf93d123d/examples/mnist_irnn.py\n",
    "# RNN?? next try!\n",
    "kernel_init=initializers.RandomNormal(mean=0.0, stddev=0.05, seed=None)\n",
    "\n",
    "# structure of NN: 16 - 64 - 32 - 16 - sigmoid\n",
    "model.add(Dense(16,activation='relu',kernel_initializer=kernel_init,\n",
    "                bias_initializer='zeros',input_shape=(x_train.shape[1],)))\n",
    "model.add(BatchNormalization())\n",
    "model.add(Dropout(0.2))\n",
    "\n",
    "\n",
    "model.add(Dense(64,kernel_initializer=kernel_init,\n",
    "                bias_initializer='zeros',activation='relu'))\n",
    "model.add(BatchNormalization())\n",
    "model.add(Dropout(0.5))\n",
    "\n",
    "model.add(Dense(32,kernel_initializer=kernel_init,\n",
    "                bias_initializer='zeros',activation='relu'))\n",
    "model.add(BatchNormalization())\n",
    "model.add(Dropout(0.5))\n",
    "\n",
    "model.add(Dense(16,kernel_initializer=kernel_init,activation='relu'))\n",
    "model.add(BatchNormalization())\n",
    "model.add(Dropout(0.25))\n",
    "\n",
    "model.add(Dense(1,activation='sigmoid'))\n"
   ]
  },
  {
   "cell_type": "code",
   "execution_count": 5,
   "metadata": {},
   "outputs": [
    {
     "name": "stdout",
     "output_type": "stream",
     "text": [
      "_________________________________________________________________\n",
      "Layer (type)                 Output Shape              Param #   \n",
      "=================================================================\n",
      "dense_1 (Dense)              (None, 16)                112       \n",
      "_________________________________________________________________\n",
      "batch_normalization_1 (Batch (None, 16)                64        \n",
      "_________________________________________________________________\n",
      "dropout_1 (Dropout)          (None, 16)                0         \n",
      "_________________________________________________________________\n",
      "dense_2 (Dense)              (None, 64)                1088      \n",
      "_________________________________________________________________\n",
      "batch_normalization_2 (Batch (None, 64)                256       \n",
      "_________________________________________________________________\n",
      "dropout_2 (Dropout)          (None, 64)                0         \n",
      "_________________________________________________________________\n",
      "dense_3 (Dense)              (None, 32)                2080      \n",
      "_________________________________________________________________\n",
      "batch_normalization_3 (Batch (None, 32)                128       \n",
      "_________________________________________________________________\n",
      "dropout_3 (Dropout)          (None, 32)                0         \n",
      "_________________________________________________________________\n",
      "dense_4 (Dense)              (None, 16)                528       \n",
      "_________________________________________________________________\n",
      "batch_normalization_4 (Batch (None, 16)                64        \n",
      "_________________________________________________________________\n",
      "dropout_4 (Dropout)          (None, 16)                0         \n",
      "_________________________________________________________________\n",
      "dense_5 (Dense)              (None, 1)                 17        \n",
      "=================================================================\n",
      "Total params: 4,337\n",
      "Trainable params: 4,081\n",
      "Non-trainable params: 256\n",
      "_________________________________________________________________\n"
     ]
    }
   ],
   "source": [
    "model.summary()"
   ]
  },
  {
   "cell_type": "code",
   "execution_count": 6,
   "metadata": {},
   "outputs": [
    {
     "name": "stdout",
     "output_type": "stream",
     "text": [
      "start training\n",
      "Train on 18505350 samples, validate on 2056150 samples\n",
      "Epoch 1/10\n",
      "18505350/18505350 [==============================] - 174s 9us/step - loss: 0.0523 - acc: 0.9756 - val_loss: 0.0608 - val_acc: 0.9825\n",
      "Epoch 2/10\n",
      "18505350/18505350 [==============================] - 174s 9us/step - loss: 0.0337 - acc: 0.9804 - val_loss: 0.0602 - val_acc: 0.9818\n",
      "Epoch 3/10\n",
      "18505350/18505350 [==============================] - 175s 9us/step - loss: 0.0322 - acc: 0.9808 - val_loss: 0.0591 - val_acc: 0.9833\n",
      "Epoch 4/10\n",
      "18505350/18505350 [==============================] - 177s 10us/step - loss: 0.0315 - acc: 0.9811 - val_loss: 0.0657 - val_acc: 0.9814\n",
      "Epoch 5/10\n",
      "18505350/18505350 [==============================] - 176s 10us/step - loss: 0.0309 - acc: 0.9812 - val_loss: 0.0628 - val_acc: 0.9822\n",
      "Epoch 6/10\n",
      "18505350/18505350 [==============================] - 177s 10us/step - loss: 0.0305 - acc: 0.9812 - val_loss: 0.0619 - val_acc: 0.9831\n",
      "Epoch 7/10\n",
      "18505350/18505350 [==============================] - 179s 10us/step - loss: 0.0302 - acc: 0.9812 - val_loss: 0.0601 - val_acc: 0.9832\n",
      "Epoch 8/10\n",
      "18505350/18505350 [==============================] - 179s 10us/step - loss: 0.0301 - acc: 0.9813 - val_loss: 0.0609 - val_acc: 0.9833\n",
      "Epoch 9/10\n",
      "18505350/18505350 [==============================] - 197s 11us/step - loss: 0.0299 - acc: 0.9814 - val_loss: 0.0636 - val_acc: 0.9829\n",
      "Epoch 10/10\n",
      "18505350/18505350 [==============================] - 194s 10us/step - loss: 0.0298 - acc: 0.9814 - val_loss: 0.0615 - val_acc: 0.9834\n"
     ]
    },
    {
     "data": {
      "text/plain": [
       "80"
      ]
     },
     "execution_count": 6,
     "metadata": {},
     "output_type": "execute_result"
    }
   ],
   "source": [
    "gc.collect()\n",
    "print(\"start training\")\n",
    "# control NN's option\n",
    "# batch_size = 256\n",
    "# epoch = 10\n",
    "batch_size = 10240\n",
    "epoch = 10\n",
    "\n",
    "# class_weight = {0:0.1, 1:0.9}\n",
    "class_weight = {0:0.5, 1:0.5}\n",
    "# class_weight = {0:0.95, 1:0.05}\n",
    "\n",
    "exp_decay = lambda init, fin, steps: (init/fin)**(1/(steps-1)) - 1\n",
    "steps = int(len(list(x_train)[0]) / batch_size) * epoch\n",
    "lr_init, lr_fin = 0.0012, 0.0008 # lr=0.001 default \n",
    "lr_decay = exp_decay(lr_init, lr_fin, steps)\n",
    "optimizer_adam = optimizers.Adam(lr=0.002, decay=lr_decay)\n",
    "\n",
    "######################\n",
    "# compile + training\n",
    "model.compile(loss='binary_crossentropy',optimizer=optimizer_adam,metrics=['accuracy'])\n",
    "model.fit(x_train,y_train,batch_size = batch_size,epochs=epoch,validation_data=(x_val,y_val),class_weight=class_weight)\n",
    "\n",
    "del x_train, y_train; gc.collect()"
   ]
  },
  {
   "cell_type": "code",
   "execution_count": 7,
   "metadata": {},
   "outputs": [
    {
     "name": "stdout",
     "output_type": "stream",
     "text": [
      "[[ 0.0040113 ]\n",
      " [ 0.00416507]\n",
      " [ 0.0036638 ]\n",
      " ..., \n",
      " [ 0.00369631]\n",
      " [ 0.00501664]\n",
      " [ 0.00367063]]\n",
      "((2056150, 1), (2056150,))\n",
      "          app  device  os  channel  weekday  hour\n",
      "10267600   15       1  13      245        3     5\n",
      "17481915   18       1   3      107        1     0\n",
      "3362524     9       1   1      215        1    10\n",
      "4227886     3       1  19      424        3    10\n",
      "8442133    15       1   6      245        3     5\n"
     ]
    },
    {
     "data": {
      "image/png": "[encoded data removed]",
      "text/plain": [
       "<matplotlib.figure.Figure at 0x1a1182add0>"
      ]
     },
     "metadata": {},
     "output_type": "display_data"
    }
   ],
   "source": [
    "kk = model.predict(x_val,batch_size=batch_size,verbose=2)\n",
    "print(kk)\n",
    "\n",
    "print(kk.shape,y_val.shape)\n",
    "plt.hist(np.round(kk))\n",
    "plt.hist(y_val)\n",
    "print(x_val.head())\n"
   ]
  },
  {
   "cell_type": "code",
   "execution_count": 8,
   "metadata": {},
   "outputs": [
    {
     "name": "stdout",
     "output_type": "stream",
     "text": [
      "Saved model to disk\n"
     ]
    }
   ],
   "source": [
    "print(\"Saved model to disk\")\n",
    "json_string = model.to_json()\n",
    "with open(\"saved_models/model3.json\", \"w\") as json_file:\n",
    "    json_file.write(json_string)\n",
    "model.save_weights('saved_models/weights3.h5')"
   ]
  },
  {
   "cell_type": "code",
   "execution_count": 9,
   "metadata": {},
   "outputs": [
    {
     "name": "stdout",
     "output_type": "stream",
     "text": [
      "predicting_test_sample\n",
      "   Unnamed: 0      ip  app  device  os  channel           click_time  \\\n",
      "0    74817458  170903   18       1  49      439  2017-11-08 01:45:53   \n",
      "1     7284525   14751    2       1  13      205  2017-11-06 23:10:42   \n",
      "2    10045104  107021   13       1  13      477  2017-11-07 00:12:47   \n",
      "3   142591786   41805    3       1  19      173  2017-11-09 03:23:17   \n",
      "4   108780762   82168   12       1  13      245  2017-11-08 12:14:03   \n",
      "\n",
      "  attributed_time  is_attributed  \n",
      "0             NaN              0  \n",
      "1             NaN              0  \n",
      "2             NaN              0  \n",
      "3             NaN              0  \n",
      "4             NaN              0  \n"
     ]
    },
    {
     "data": {
      "text/plain": [
       "3515"
      ]
     },
     "execution_count": 9,
     "metadata": {},
     "output_type": "execute_result"
    }
   ],
   "source": [
    "print(\"predicting_test_sample\")\n",
    "dff = pd.read_csv('input_data/test_sampling2.csv')\n",
    "print(dff.head())\n",
    "dff, yy = clear_data(dff,'train')\n",
    "dff = dff.drop(columns=['Unnamed: 0'])\n",
    "output = model.predict(dff,batch_size=batch_size,verbose=2)\n",
    "\n",
    "del dff; gc.collect()"
   ]
  },
  {
   "cell_type": "code",
   "execution_count": 10,
   "metadata": {},
   "outputs": [
    {
     "name": "stdout",
     "output_type": "stream",
     "text": [
      "[ 0.0041095   0.00365445  0.0042511  ...,  0.00367037  0.00361505\n",
      "  0.00366381]\n",
      "(18490389,)\n"
     ]
    },
    {
     "data": {
      "text/plain": [
       "(array([ 18444773.,         0.,         0.,         0.,         0.,\n",
       "                0.,         0.,         0.,         0.,     45616.]),\n",
       " array([ 0. ,  0.1,  0.2,  0.3,  0.4,  0.5,  0.6,  0.7,  0.8,  0.9,  1. ]),\n",
       " <a list of 10 Patch objects>)"
      ]
     },
     "execution_count": 10,
     "metadata": {},
     "output_type": "execute_result"
    },
    {
     "data": {
      "image/png": "[encoded data removed]",
      "text/plain": [
       "<matplotlib.figure.Figure at 0x1042b6c90>"
      ]
     },
     "metadata": {},
     "output_type": "display_data"
    }
   ],
   "source": [
    "print(np.reshape(output,18490389))\n",
    "print(yy.shape)\n",
    "# dd = np.array([np.reshape(output,18490389),yy.values])\n",
    "plt.hist(output)\n",
    "plt.hist(yy)\n",
    "\n"
   ]
  },
  {
   "cell_type": "code",
   "execution_count": 11,
   "metadata": {},
   "outputs": [
    {
     "data": {
      "text/plain": [
       "(array([  1.79450250e+07,   2.53514000e+05,   2.47950000e+04,\n",
       "          3.44290000e+04,   4.20800000e+04,   8.38380000e+04,\n",
       "          3.21530000e+04,   5.28730000e+04,   8.84200000e+03,\n",
       "          1.28400000e+04]),\n",
       " array([  5.13673455e-22,   7.65968323e-02,   1.53193665e-01,\n",
       "          2.29790497e-01,   3.06387329e-01,   3.82984161e-01,\n",
       "          4.59580994e-01,   5.36177826e-01,   6.12774658e-01,\n",
       "          6.89371490e-01,   7.65968323e-01]),\n",
       " <a list of 10 Patch objects>)"
      ]
     },
     "execution_count": 11,
     "metadata": {},
     "output_type": "execute_result"
    },
    {
     "data": {
      "image/png": "[encoded data removed]",
      "text/plain": [
       "<matplotlib.figure.Figure at 0x1058aeed0>"
      ]
     },
     "metadata": {},
     "output_type": "display_data"
    }
   ],
   "source": [
    "plt.hist(output)"
   ]
  },
  {
   "cell_type": "code",
   "execution_count": null,
   "metadata": {},
   "outputs": [
    {
     "name": "stdout",
     "output_type": "stream",
     "text": [
      "predicting\n",
      "finish read test data\n"
     ]
    }
   ],
   "source": [
    "print(\"predicting\")\n",
    "df_sub = pd.DataFrame()\n",
    "ttest = pd.read_csv('input_data/kaggle_test.csv')\n",
    "print(\"finish read test data\")\n",
    "\n",
    "ttest, idd = clear_data(ttest,'test')\n",
    "df_sub['click_id'] = idd.astype('int32')\n",
    "df_sub['is_attributed'] = model.predict(ttest,batch_size=batch_size,verbose=2)\n",
    "\n"
   ]
  },
  {
   "cell_type": "code",
   "execution_count": null,
   "metadata": {},
   "outputs": [],
   "source": [
    "print(\"check result\")\n",
    "print(df_sub.describe())\n",
    "plt.hist(df_sub['is_attributed'])"
   ]
  },
  {
   "cell_type": "code",
   "execution_count": null,
   "metadata": {},
   "outputs": [],
   "source": [
    "print(\"save the result\")\n",
    "df_sub.to_csv('sub_result/result_code3_sample2.csv',index=False)\n",
    "\n",
    "\n"
   ]
  },
  {
   "cell_type": "code",
   "execution_count": null,
   "metadata": {},
   "outputs": [],
   "source": [
    "plt.hist(np.round(df_sub['is_attributed']))"
   ]
  },
  {
   "cell_type": "code",
   "execution_count": null,
   "metadata": {},
   "outputs": [],
   "source": []
  }
 ],
 "metadata": {
  "kernelspec": {
   "display_name": "Python 2",
   "language": "python",
   "name": "python2"
  },
  "language_info": {
   "codemirror_mode": {
    "name": "ipython",
    "version": 2
   },
   "file_extension": ".py",
   "mimetype": "text/x-python",
   "name": "python",
   "nbconvert_exporter": "python",
   "pygments_lexer": "ipython2",
   "version": "2.7.14"
  }
 },
 "nbformat": 4,
 "nbformat_minor": 2
}
