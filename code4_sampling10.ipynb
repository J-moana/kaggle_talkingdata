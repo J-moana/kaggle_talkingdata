{
 "cells": [
  {
   "cell_type": "code",
   "execution_count": 1,
   "metadata": {},
   "outputs": [
    {
     "name": "stderr",
     "output_type": "stream",
     "text": [
      "Using TensorFlow backend.\n"
     ]
    }
   ],
   "source": [
    "import numpy as np\n",
    "import pandas as pd\n",
    "import matplotlib.pyplot as plt\n",
    "from keras.preprocessing import sequence\n",
    "from keras.models import Sequential, model_from_json\n",
    "from keras.layers import Dense, Dropout\n",
    "from keras import initializers\n",
    "from sklearn.model_selection import train_test_split\n",
    "from keras.layers.normalization import BatchNormalization\n",
    "from keras import optimizers\n",
    "from keras import initializers\n",
    "import gc"
   ]
  },
  {
   "cell_type": "code",
   "execution_count": 10,
   "metadata": {},
   "outputs": [],
   "source": [
    "# function for clearning train data!\n",
    "# + remove IP\n",
    "def clear_data(df, option):\n",
    "    \n",
    "    df['click_time'] = pd.to_datetime(df['click_time'])\n",
    "    \n",
    "    bin_day = np.array([0,4,5,6])\n",
    "    df['weekday'] = df['click_time'].dt.dayofweek\n",
    "    df['weekday'] = np.digitize(df['weekday'],bin_day)\n",
    "    \n",
    "    bin_hour = np.array([0,1,9,13,18,22,24])\n",
    "    df['hour'] = df['click_time'].dt.hour\n",
    "    df['hour2'] = np.digitize(df['hour'],bin_day)\n",
    "    \n",
    "    bin_ip = np.array([0, 150000,1000000])\n",
    "    df['ip'] = np.digitize(df['ip'],bin_ip)\n",
    "    \n",
    "    df = df.drop(columns=['click_time'])\n",
    "    if (option == 'train'):\n",
    "        y = df['is_attributed']\n",
    "        df = df.drop(columns=['is_attributed','attributed_time'], axis=1)\n",
    "        return df, y\n",
    "    elif (option == 'test'):\n",
    "        sub_id = df['click_id']\n",
    "        df = df.drop(columns=['click_id'], axis=1)\n",
    "        return df, sub_id\n",
    "    \n",
    "    "
   ]
  },
  {
   "cell_type": "code",
   "execution_count": 3,
   "metadata": {},
   "outputs": [
    {
     "name": "stdout",
     "output_type": "stream",
     "text": [
      "load 10% training sample + train/val\n",
      "        ip  app  device  os  channel  weekday  hour  hour2\n",
      "284161   1   12       1  13      259        1     1      1\n",
      "132533   1   14       1  19      439        1    17      4\n",
      "         ip  app  device  os  channel  weekday  hour  hour2\n",
      "259870    2   21       1  27      128        1    16      4\n",
      "1886056   1    1       2   9      178        1    12      4\n",
      "284161    0\n",
      "132533    0\n",
      "Name: is_attributed, dtype: int64\n",
      "259870     0\n",
      "1886056    0\n",
      "Name: is_attributed, dtype: int64\n"
     ]
    },
    {
     "data": {
      "text/plain": [
       "61"
      ]
     },
     "execution_count": 3,
     "metadata": {},
     "output_type": "execute_result"
    }
   ],
   "source": [
    "print('load 10% training sample + train/val')\n",
    "df = pd.read_csv('train_sampling10.csv')\n",
    "df, y = clear_data(df,'train')\n",
    "x_train, x_val, y_train, y_val = train_test_split(df,y,test_size=0.1)\n",
    "\n",
    "x_train= x_train.drop(columns=['Unnamed: 0'])\n",
    "x_val= x_val.drop(columns=['Unnamed: 0'])\n",
    "\n",
    "print(x_train.head(2))\n",
    "print(x_val.head(2))\n",
    "print(y_train.head(2))\n",
    "print(y_val.head(2))\n",
    "del df, y; gc.collect()"
   ]
  },
  {
   "cell_type": "code",
   "execution_count": 4,
   "metadata": {},
   "outputs": [
    {
     "name": "stdout",
     "output_type": "stream",
     "text": [
      "define NN\n"
     ]
    }
   ],
   "source": [
    "print(\"define NN\")\n",
    "model = Sequential()\n",
    "# give options of Dense, \n",
    "# https://github.com/keras-team/keras/blob/befbdaa076eedb2787ce340b1a5b4accf93d123d/examples/mnist_irnn.py\n",
    "# RNN?? next try!\n",
    "kernel_init=initializers.RandomNormal(mean=0.0, stddev=0.05, seed=None)\n",
    "\n",
    "# structure of NN: 16 - 64\n",
    "model.add(Dense(16,activation='relu',kernel_initializer=kernel_init,\n",
    "                bias_initializer='zeros',input_shape=(x_train.shape[1],)))\n",
    "model.add(BatchNormalization())\n",
    "model.add(Dropout(0.2))\n",
    "\n",
    "model.add(Dense(64,kernel_initializer=kernel_init,\n",
    "                bias_initializer='zeros',activation='relu'))\n",
    "model.add(BatchNormalization())\n",
    "model.add(Dropout(0.5))\n",
    "\n",
    "model.add(Dense(32,kernel_initializer=kernel_init,\n",
    "                bias_initializer='zeros',activation='relu'))\n",
    "model.add(BatchNormalization())\n",
    "model.add(Dropout(0.5))\n",
    "\n",
    "model.add(Dense(16,kernel_initializer=kernel_init,activation='relu'))\n",
    "model.add(BatchNormalization())\n",
    "model.add(Dropout(0.25))\n",
    "\n",
    "model.add(Dense(1,activation='sigmoid'))\n"
   ]
  },
  {
   "cell_type": "code",
   "execution_count": 5,
   "metadata": {},
   "outputs": [
    {
     "name": "stdout",
     "output_type": "stream",
     "text": [
      "_________________________________________________________________\n",
      "Layer (type)                 Output Shape              Param #   \n",
      "=================================================================\n",
      "dense_1 (Dense)              (None, 16)                144       \n",
      "_________________________________________________________________\n",
      "batch_normalization_1 (Batch (None, 16)                64        \n",
      "_________________________________________________________________\n",
      "dropout_1 (Dropout)          (None, 16)                0         \n",
      "_________________________________________________________________\n",
      "dense_2 (Dense)              (None, 64)                1088      \n",
      "_________________________________________________________________\n",
      "batch_normalization_2 (Batch (None, 64)                256       \n",
      "_________________________________________________________________\n",
      "dropout_2 (Dropout)          (None, 64)                0         \n",
      "_________________________________________________________________\n",
      "dense_3 (Dense)              (None, 32)                2080      \n",
      "_________________________________________________________________\n",
      "batch_normalization_3 (Batch (None, 32)                128       \n",
      "_________________________________________________________________\n",
      "dropout_3 (Dropout)          (None, 32)                0         \n",
      "_________________________________________________________________\n",
      "dense_4 (Dense)              (None, 16)                528       \n",
      "_________________________________________________________________\n",
      "batch_normalization_4 (Batch (None, 16)                64        \n",
      "_________________________________________________________________\n",
      "dropout_4 (Dropout)          (None, 16)                0         \n",
      "_________________________________________________________________\n",
      "dense_5 (Dense)              (None, 1)                 17        \n",
      "=================================================================\n",
      "Total params: 4,369\n",
      "Trainable params: 4,113\n",
      "Non-trainable params: 256\n",
      "_________________________________________________________________\n"
     ]
    }
   ],
   "source": [
    "model.summary()"
   ]
  },
  {
   "cell_type": "code",
   "execution_count": 6,
   "metadata": {},
   "outputs": [
    {
     "name": "stdout",
     "output_type": "stream",
     "text": [
      "start training\n",
      "Train on 3701196 samples, validate on 411244 samples\n",
      "Epoch 1/10\n",
      "3701196/3701196 [==============================] - 200s 54us/step - loss: 0.1013 - acc: 0.9323 - val_loss: 0.1800 - val_acc: 0.9351\n",
      "Epoch 2/10\n",
      "3701196/3701196 [==============================] - 200s 54us/step - loss: 0.0909 - acc: 0.9417 - val_loss: 0.1686 - val_acc: 0.9466\n",
      "Epoch 3/10\n",
      "3701196/3701196 [==============================] - 201s 54us/step - loss: 0.0896 - acc: 0.9430 - val_loss: 0.1583 - val_acc: 0.9518\n",
      "Epoch 4/10\n",
      "3701196/3701196 [==============================] - 204s 55us/step - loss: 0.0889 - acc: 0.9437 - val_loss: 0.1618 - val_acc: 0.9480\n",
      "Epoch 5/10\n",
      "3701196/3701196 [==============================] - 218s 59us/step - loss: 0.0881 - acc: 0.9445 - val_loss: 0.1627 - val_acc: 0.9493\n",
      "Epoch 6/10\n",
      "3701196/3701196 [==============================] - 224s 61us/step - loss: 0.0879 - acc: 0.9448 - val_loss: 0.1590 - val_acc: 0.9544\n",
      "Epoch 7/10\n",
      "3701196/3701196 [==============================] - 216s 58us/step - loss: 0.0877 - acc: 0.9452 - val_loss: 0.1586 - val_acc: 0.9511\n",
      "Epoch 8/10\n",
      "3701196/3701196 [==============================] - 228s 62us/step - loss: 0.0876 - acc: 0.9453 - val_loss: 0.1587 - val_acc: 0.9526\n",
      "Epoch 9/10\n",
      "3701196/3701196 [==============================] - 204s 55us/step - loss: 0.0873 - acc: 0.9458 - val_loss: 0.1531 - val_acc: 0.9567\n",
      "Epoch 10/10\n",
      "3701196/3701196 [==============================] - 215s 58us/step - loss: 0.0872 - acc: 0.9458 - val_loss: 0.1573 - val_acc: 0.9532\n"
     ]
    },
    {
     "data": {
      "text/plain": [
       "80"
      ]
     },
     "execution_count": 6,
     "metadata": {},
     "output_type": "execute_result"
    }
   ],
   "source": [
    "gc.collect()\n",
    "print(\"start training\")\n",
    "# control NN's option\n",
    "batch_size = 256\n",
    "epoch = 10\n",
    "# class_weight = {0:0.1, 1:0.9}\n",
    "class_weight = {0:0.5, 1:0.5}\n",
    "\n",
    "exp_decay = lambda init, fin, steps: (init/fin)**(1/(steps-1)) - 1\n",
    "steps = int(len(list(x_train)[0]) / batch_size) * epoch\n",
    "lr_init, lr_fin = 0.0015, 0.0005 # lr=0.001 default \n",
    "lr_decay = exp_decay(lr_init, lr_fin, steps)\n",
    "optimizer_adam = optimizers.Adam(lr=0.002, decay=lr_decay)\n",
    "\n",
    "######################\n",
    "# compile + training\n",
    "model.compile(loss='binary_crossentropy',optimizer=optimizer_adam,metrics=['accuracy'])\n",
    "model.fit(x_train,y_train,batch_size = batch_size,epochs=epoch,validation_data=(x_val,y_val),class_weight=class_weight)\n",
    "\n",
    "del x_train, y_train; gc.collect()"
   ]
  },
  {
   "cell_type": "code",
   "execution_count": 7,
   "metadata": {},
   "outputs": [
    {
     "name": "stdout",
     "output_type": "stream",
     "text": [
      "[[ 0.14138213]\n",
      " [ 0.01163691]\n",
      " [ 0.01581446]\n",
      " ..., \n",
      " [ 0.01901147]\n",
      " [ 0.05291112]\n",
      " [ 0.01189508]]\n",
      "((411244, 1), (411244,))\n",
      "         ip  app  device  os  channel  weekday  hour  hour2\n",
      "259870    2   21       1  27      128        1    16      4\n",
      "1886056   1    1       2   9      178        1    12      4\n",
      "1789344   2    1       1  23      134        1    13      4\n",
      "3140192   1   29       1  19      213        1     5      3\n",
      "2989038   1    2       1  37      237        1    13      4\n"
     ]
    },
    {
     "data": {
      "image/png": "[encoded data removed]",
      "text/plain": [
       "<matplotlib.figure.Figure at 0x1a1ac4ae10>"
      ]
     },
     "metadata": {},
     "output_type": "display_data"
    }
   ],
   "source": [
    "kk = model.predict(x_val,batch_size=batch_size,verbose=2)\n",
    "print(kk)\n",
    "\n",
    "print(kk.shape,y_val.shape)\n",
    "plt.hist(np.round(kk))\n",
    "plt.hist(y_val)\n",
    "print(x_val.head())\n"
   ]
  },
  {
   "cell_type": "code",
   "execution_count": 8,
   "metadata": {},
   "outputs": [
    {
     "name": "stdout",
     "output_type": "stream",
     "text": [
      "Saved model to disk\n"
     ]
    }
   ],
   "source": [
    "print(\"Saved model to disk\")\n",
    "json_string = model.to_json()\n",
    "with open(\"saved_models/model3.json\", \"w\") as json_file:\n",
    "    json_file.write(json_string)\n",
    "model.save_weights('saved_models/weights3.h5')"
   ]
  },
  {
   "cell_type": "code",
   "execution_count": 11,
   "metadata": {},
   "outputs": [
    {
     "name": "stdout",
     "output_type": "stream",
     "text": [
      "predicting\n",
      "finish read test data\n"
     ]
    }
   ],
   "source": [
    "print(\"predicting\")\n",
    "df_sub = pd.DataFrame()\n",
    "df_sub_01 = pd.DataFrame()\n",
    "ttest = pd.read_csv('test.csv')\n",
    "print(\"finish read test data\")\n",
    "\n",
    "ttest, idd = clear_data(ttest,'test')\n",
    "df_sub['click_id'] = idd.astype('int32')\n",
    "df_sub['is_attributed'] = model.predict(ttest,batch_size=batch_size,verbose=2)\n"
   ]
  },
  {
   "cell_type": "code",
   "execution_count": 12,
   "metadata": {},
   "outputs": [
    {
     "name": "stdout",
     "output_type": "stream",
     "text": [
      "check result\n",
      "           click_id  is_attributed\n",
      "count  1.879047e+07   1.879047e+07\n",
      "mean   9.395234e+06   2.047682e-01\n",
      "std    5.424341e+06   1.472872e-01\n",
      "min    0.000000e+00   8.263137e-03\n",
      "25%    4.697617e+06   1.101825e-01\n",
      "50%    9.395234e+06   1.617264e-01\n",
      "75%    1.409285e+07   2.528632e-01\n",
      "max    1.879047e+07   9.651867e-01\n"
     ]
    },
    {
     "data": {
      "text/plain": [
       "(array([ 3624653.,  7825188.,  4521555.,  1565078.,   390272.,   102682.,\n",
       "          194948.,   193675.,   156932.,   215486.]),\n",
       " array([ 0.00826314,  0.10395549,  0.19964784,  0.29534019,  0.39103254,\n",
       "         0.4867249 ,  0.58241725,  0.6781096 ,  0.77380195,  0.8694943 ,\n",
       "         0.96518666]),\n",
       " <a list of 10 Patch objects>)"
      ]
     },
     "execution_count": 12,
     "metadata": {},
     "output_type": "execute_result"
    },
    {
     "data": {
      "image/png": "[encoded data removed]",
      "text/plain": [
       "<matplotlib.figure.Figure at 0x1a204a6f10>"
      ]
     },
     "metadata": {},
     "output_type": "display_data"
    }
   ],
   "source": [
    "print(\"check result\")\n",
    "print(df_sub.describe())\n",
    "plt.hist(df_sub['is_attributed'])"
   ]
  },
  {
   "cell_type": "code",
   "execution_count": 13,
   "metadata": {},
   "outputs": [
    {
     "name": "stdout",
     "output_type": "stream",
     "text": [
      "save the result\n"
     ]
    }
   ],
   "source": [
    "print(\"save the result\")\n",
    "df_sub.to_csv('sub_result/result_code4_2_sample10.csv',index=False)\n",
    "\n"
   ]
  },
  {
   "cell_type": "code",
   "execution_count": 14,
   "metadata": {},
   "outputs": [
    {
     "data": {
      "text/plain": [
       "(array([ 17935913.,         0.,         0.,         0.,         0.,\n",
       "                0.,         0.,         0.,         0.,    854556.]),\n",
       " array([ 0. ,  0.1,  0.2,  0.3,  0.4,  0.5,  0.6,  0.7,  0.8,  0.9,  1. ]),\n",
       " <a list of 10 Patch objects>)"
      ]
     },
     "execution_count": 14,
     "metadata": {},
     "output_type": "execute_result"
    },
    {
     "data": {
      "image/png": "[encoded data removed]",
      "text/plain": [
       "<matplotlib.figure.Figure at 0x1a2061cb50>"
      ]
     },
     "metadata": {},
     "output_type": "display_data"
    }
   ],
   "source": [
    "plt.hist(np.round(df_sub['is_attributed']))"
   ]
  },
  {
   "cell_type": "code",
   "execution_count": null,
   "metadata": {},
   "outputs": [],
   "source": []
  }
 ],
 "metadata": {
  "kernelspec": {
   "display_name": "Python 2",
   "language": "python",
   "name": "python2"
  },
  "language_info": {
   "codemirror_mode": {
    "name": "ipython",
    "version": 2
   },
   "file_extension": ".py",
   "mimetype": "text/x-python",
   "name": "python",
   "nbconvert_exporter": "python",
   "pygments_lexer": "ipython2",
   "version": "2.7.14"
  }
 },
 "nbformat": 4,
 "nbformat_minor": 2
}
